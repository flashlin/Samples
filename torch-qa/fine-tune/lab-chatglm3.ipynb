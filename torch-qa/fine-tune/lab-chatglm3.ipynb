{
 "cells": [
  {
   "cell_type": "code",
   "execution_count": 1,
   "id": "initial_id",
   "metadata": {
    "collapsed": true,
    "is_executing": true
   },
   "outputs": [],
   "source": [
    "from transformers_lit import load_pretrained_model, load_pretrained_tokenizer"
   ]
  },
  {
   "cell_type": "code",
   "execution_count": 3,
   "id": "72f62af00c8a0e9d",
   "metadata": {
    "collapsed": false
   },
   "outputs": [],
   "source": [
    "# 效果還可以\n",
    "model_name = \"chatglm3-6b\"\n",
    "model_path = f\"../models/{model_name}\""
   ]
  },
  {
   "cell_type": "code",
   "execution_count": 4,
   "metadata": {},
   "outputs": [
    {
     "data": {
      "application/vnd.jupyter.widget-view+json": {
       "model_id": "564061c7f78b4e8c83365356088522f7",
       "version_major": 2,
       "version_minor": 0
      },
      "text/plain": [
       "Loading checkpoint shards:   0%|          | 0/7 [00:00<?, ?it/s]"
      ]
     },
     "metadata": {},
     "output_type": "display_data"
    }
   ],
   "source": [
    "from transformers import AutoTokenizer, AutoModel\n",
    "tokenizer = AutoTokenizer.from_pretrained(model_path, trust_remote_code=True)\n",
    "model = AutoModel.from_pretrained(model_path, trust_remote_code=True).half().cuda()"
   ]
  },
  {
   "cell_type": "code",
   "execution_count": 5,
   "metadata": {},
   "outputs": [
    {
     "name": "stdout",
     "output_type": "stream",
     "text": [
      "Google的Gemini来了！而且它比GPT-4更好！\n"
     ]
    }
   ],
   "source": [
    "model = model.eval()\n",
    "response, history = model.chat(tokenizer, \"翻譯下面內容到中文\\n```Google's Gemini is Here! (And It's Better Than GPT-4)```\", history=[])\n",
    "print(response)"
   ]
  },
  {
   "cell_type": "code",
   "execution_count": 6,
   "metadata": {},
   "outputs": [
    {
     "name": "stdout",
     "output_type": "stream",
     "text": [
      "\"Microsoft's Gemini is Here! (And It's Better than GPT-4)\"\n"
     ]
    }
   ],
   "source": [
    "response, history = model.chat(tokenizer, \"翻譯下面內容到英文\\n```微軟's Gemini is Here! (And It 比 GPT-4 更好)```\", history=[])\n",
    "print(response)"
   ]
  },
  {
   "cell_type": "code",
   "execution_count": 109,
   "metadata": {},
   "outputs": [],
   "source": [
    "def zh_to_en(user_input: str):\n",
    "   global model\n",
    "   model = model.eval()\n",
    "   prompt = \"不要重複我的問題, 一律用英文回答, 直接翻譯下面內容到英文.\\n\\n{user_input}\"\n",
    "   prompt = \"You do not repeat my question and you will always answer in English. Please translate the following content into English.\\n\\n{user_input}\"\n",
    "   response, history = model.chat(tokenizer, \n",
    "                                  prompt.format(user_input=user_input),\n",
    "                                  temperature=0.1,\n",
    "                                  history=[])\n",
    "   return response"
   ]
  },
  {
   "cell_type": "code",
   "execution_count": 112,
   "metadata": {},
   "outputs": [
    {
     "name": "stdout",
     "output_type": "stream",
     "text": [
      "This is a book by a player who won the title in the agile group of last year's Iron Man race, sponsored by Titan. I am sharing it with everyone!!!\n"
     ]
    }
   ],
   "source": [
    "print(zh_to_en(\"這是去年鐵人賽鈦坦贊助敏捷組獲冠軍的選手出的書~~分享給大家!!!\"))"
   ]
  },
  {
   "cell_type": "code",
   "execution_count": 111,
   "metadata": {},
   "outputs": [
    {
     "name": "stdout",
     "output_type": "stream",
     "text": [
      "This is a book by a champion from the Agile Group, who won the Ironman race sponsored by Titan last year. I am sharing it with you all!\n"
     ]
    }
   ],
   "source": [
    "print(zh_to_en(\"This is a book by a champion from the 敏捷組, 誰 won the last year's Ironman race sponsored by Titan. I am sharing it with you all!\"))"
   ]
  },
  {
   "cell_type": "code",
   "execution_count": 114,
   "metadata": {},
   "outputs": [
    {
     "name": "stdout",
     "output_type": "stream",
     "text": [
      "Please do not repeat my question and always answer in English. Please translate the following content into English.\n"
     ]
    }
   ],
   "source": [
    "print(zh_to_en(\"[不要重複我的問題, 一律用`英文`回答, 直接翻譯下面內容到英文.]\"))"
   ]
  }
 ],
 "metadata": {
  "kernelspec": {
   "display_name": "Python 3",
   "language": "python",
   "name": "python3"
  },
  "language_info": {
   "codemirror_mode": {
    "name": "ipython",
    "version": 3
   },
   "file_extension": ".py",
   "mimetype": "text/x-python",
   "name": "python",
   "nbconvert_exporter": "python",
   "pygments_lexer": "ipython3",
   "version": "3.10.13"
  }
 },
 "nbformat": 4,
 "nbformat_minor": 5
}
