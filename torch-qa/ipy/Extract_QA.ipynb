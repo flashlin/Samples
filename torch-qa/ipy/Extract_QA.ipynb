{
 "cells": [
  {
   "cell_type": "code",
   "execution_count": 1,
   "metadata": {},
   "outputs": [],
   "source": [
    "#%pip install transformers==4.34.0\n",
    "#pip install git+https://github.com/huggingface/transformers"
   ]
  },
  {
   "cell_type": "code",
   "execution_count": 1,
   "metadata": {},
   "outputs": [],
   "source": [
    "import os\n",
    "from transformers import AutoModelForCausalLM, AutoTokenizer, PreTrainedTokenizer, BitsAndBytesConfig, HfArgumentParser, TrainingArguments\n",
    "import torch"
   ]
  },
  {
   "cell_type": "code",
   "execution_count": 2,
   "metadata": {},
   "outputs": [],
   "source": [
    "MODEL_NAME = \"Mistral-7B-Instruct-v0.1\""
   ]
  },
  {
   "cell_type": "code",
   "execution_count": 3,
   "metadata": {},
   "outputs": [],
   "source": [
    "def load_peft_model(base_model: str, peft_model: str):\n",
    "    bnb_config = BitsAndBytesConfig(\n",
    "        load_in_4bit=True,\n",
    "        bnb_4bit_use_double_quant=True,\n",
    "        bnb_4bit_quant_type=\"nf4\",\n",
    "        bnb_4bit_compute_dtype=torch.bfloat16\n",
    "    )\n",
    "    model = AutoModelForCausalLM.from_pretrained(\n",
    "        base_model,\n",
    "        return_dict=True,\n",
    "        quantization_config=bnb_config,\n",
    "        #device_map=\"auto\",\n",
    "        device_map=\"cuda:0\",\n",
    "        # trust_remote_code=True,\n",
    "        local_files_only=True,\n",
    "        # use_safetensors=True\n",
    "    )\n",
    "    if peft_model is not None:\n",
    "        if os.path.exists(f\"{peft_model}/adapter_config.json\"):\n",
    "            print(f\"Loading PEFT {peft_model}\")\n",
    "            model.load_adapter(peft_model)\n",
    "        else:\n",
    "            print(\"WARNING: PEFT_MODEL NOT EXISTS!!!\")\n",
    "    tokenizer = AutoTokenizer.from_pretrained(base_model)\n",
    "    tokenizer.pad_token = tokenizer.eos_token\n",
    "    return model, tokenizer\n"
   ]
  },
  {
   "cell_type": "code",
   "execution_count": 4,
   "metadata": {},
   "outputs": [],
   "source": [
    "def create_llama2_generation_prompt(system_message, question: str):\n",
    "    if system_message is not None:\n",
    "        return (\"<s>[INST] <<SYS>>\\n{system_message}\\n<</SYS>>\\n\\n{user_input} [/INST]\"\n",
    "                .format(system_message=system_message, user_input=question))\n",
    "    prompt_template = \"\"\"<s>[INST] {user_input} [/INST]\"\"\"\n",
    "    return prompt_template.format(user_input=question)\n",
    "\n",
    "\n",
    "def ask_llama2_instruction_prompt(model, generation_config, tokenizer, device, question: str):\n",
    "    system_msg = (\n",
    "        \"You are a helpful, respectful and honest assistant. Always answer as helpfully as possible, while being safe. \"\n",
    "        \"Your answers should not include any harmful, unethical, racist, sexist, toxic, dangerous, or illegal content. \"\n",
    "        \"Please ensure that your responses are socially unbiased and positive in nature.\\n\"\n",
    "        \"If a question does not make any sense, or is not factually coherent, explain why instead of answering something not correct. \"\n",
    "        \"If you don't know the answer to a question, please don't share false information.\")\n",
    "    prompt = create_llama2_generation_prompt(system_msg, question)\n",
    "    encoding = tokenizer(prompt, return_tensors=\"pt\").to(device)\n",
    "\n",
    "    outputs = model.generate(\n",
    "        input_ids=encoding.input_ids,\n",
    "        attention_mask=encoding.attention_mask,\n",
    "        generation_config=generation_config\n",
    "    )\n",
    "\n",
    "    resp = tokenizer.decode(outputs[0], skip_special_tokens=True)\n",
    "    return resp.replace(prompt, \"\")"
   ]
  },
  {
   "cell_type": "code",
   "execution_count": 25,
   "metadata": {},
   "outputs": [],
   "source": [
    "class LLM:\n",
    "    def __init__(self):\n",
    "        model, tokenizer, generation_config = self.load_model()\n",
    "        self.model = model\n",
    "        self.tokenizer = tokenizer\n",
    "        self.generation_config = generation_config\n",
    "        self.device = 'cuda'\n",
    "\n",
    "    def load_model(self):\n",
    "        base_model = f\"../models/{MODEL_NAME}\"\n",
    "        model, tokenizer = load_peft_model(base_model, None)\n",
    "        generation_config = model.generation_config\n",
    "        generation_config.max_new_tokens = 2048\n",
    "        generation_config.temperature = 0.7\n",
    "        generation_config.do_sample = True\n",
    "        generation_config.top_p = 0.75\n",
    "        generation_config.num_return_sequences = 1\n",
    "        generation_config.pad_token_id = tokenizer.eos_token_id\n",
    "        generation_config.eos_token_id = tokenizer.eos_token_id\n",
    "        return model, tokenizer, generation_config\n",
    "\n",
    "    def ask(self, user_input: str):\n",
    "        answer = ask_llama2_instruction_prompt(model=self.model,\n",
    "                                               generation_config=self.generation_config,\n",
    "                                               tokenizer=self.tokenizer,\n",
    "                                               device=self.device,\n",
    "                                               question=user_input)\n",
    "        \n",
    "        idx = answer.find('[/INST]')\n",
    "        answer = answer[idx+7:]\n",
    "        return answer\n"
   ]
  },
  {
   "cell_type": "code",
   "execution_count": 26,
   "metadata": {},
   "outputs": [],
   "source": [
    "PROMPT = \"\"\"{content}\n",
    "----------\n",
    "According to the above content, please generate several questions,\n",
    "the answer of which must contain all or part of the content above.\n",
    "The total content of the generated questions and answers must cover at least 80% of the above content.\n",
    "Please do not generate duplicate questions.\n",
    "Every question number must be prefixed with the keyword \"Question\".\n",
    "When generating questions, do not give me the question number.\n",
    "Response example:\n",
    "   Question: How to play\n",
    "   Answer: You muse stardy\n",
    "   Question: Hi\n",
    "   Answer: Hello \"\"\""
   ]
  },
  {
   "cell_type": "code",
   "execution_count": 7,
   "metadata": {},
   "outputs": [],
   "source": [
    "content = \"\"\"Introduction to Live Dealer Dragon Tiger\n",
    "The objective of the game is to bet on whichever of the two hands, the Dragon's hand or the Tiger's hand that the Player thinks will have the highest card value. The Player can also bet on Tie. Dealer will draw one card for the Dragon's hand and one card for the Tiger's hand. No additional cards will be drawn for each hand.\n",
    "\n",
    "The theoretical return to player of this game is 96.26%\n",
    "Over a long period of time, the game is likely to average a return to the Player of 96.265% of the total bets made.\n",
    "\n",
    "Side Bets\n",
    "\n",
    "Live Dragon Tiger game also has side bets: Odd/Even, Big/Small, Black/Red.\n",
    "The side bets are the minor bets that can be placed by the Player.\n",
    "NOTE: When betting on the side bets, the Player loses all his/her bets on the side bets he/she placed if the card is dealt as 7 . Over the 50th round of each time, it is not acceptable to bet with side bet.\n",
    "\n",
    "Bet Options and Payout:\n",
    "Dragon: Bet on Dragon's hand. 50% of the bet will be returned to Player if the result is Tie. 1:1.\n",
    "Tiger: Bet on Tiger's hand. 50% of the bet will be returned to Player if the result is Tie. 1:1.\n",
    "Tie: Bet on Tie which the value of both Dragon and Tiger's hand are equal/same hand rank value. 8:1.\n",
    "Odd: Bet on value of Dragon's hand (left) or Tiger's hand (right) will be an Odd number. Bet loses if the result is 7. 1:1.\n",
    "Even: Bet on value of Dragon's hand (left) or Tiger's hand (right) will be an Even number. Bet loses if the result is 7. 1:1.\n",
    "Small: Bet on value of Dragon's hand (left) or Tiger's hand (right) will be a Small number, including Ace to 6. Bet loses if the result is 7. 1:1.\n",
    "Big: Bet on value of Dragon's hand (left) or Tiger's hand (right) will be a Big number, including 8 to K. Bet loses if the result is 7. 1:1.\n",
    "Red: Bet on poker colour of Dragon hand's (left) or Tiger hand's (right) will be Red. Bet loses if the result is 7. 1:1.\n",
    "Black: Bet on poker colour Dragon hand's (left) or Tiger hand's (right) will be Black. Bet loses if the result is 7. 1:1.\n",
    "\n",
    "Card Values\n",
    "Cards in Live Dragon Tiger are ranked from the lowest to the highest starting from Ace to King.\n",
    "Aces are counted as one\n",
    "Jacks are counted as 11\n",
    "Queens are counted as 12\n",
    "Kings are counted as 13\n",
    "\n",
    "Burn Card\n",
    "The dealer will burn one card in the beginning of every round in the games.\n",
    "\n",
    "Reshuffles\n",
    "The Operator reserves the rights to reshuffle the particular decks of cards if any human or non-human errors occur during cards shuffling.\n",
    "\n",
    "Electronic Malfunctions\n",
    "The card is scanned by the dealer, and the result will be displayed on the Player's screen. If any card fails to scan, the dealer will re-scan the card to display the result to the Player.\n",
    "Any failure of the Player's equipment including but not limited to network connection or computer problems, will not void the game result. The Player can check their bet history on the Report section.\n",
    "Any Operator system malfunction and/or hardware failure during Live Dealer Dragon Tiger will void the play, and the particular table will be closed.\n",
    "\"\"\""
   ]
  },
  {
   "cell_type": "code",
   "execution_count": 27,
   "metadata": {},
   "outputs": [
    {
     "data": {
      "application/vnd.jupyter.widget-view+json": {
       "model_id": "e3416766c85542aa86277f23b5aaa0d4",
       "version_major": 2,
       "version_minor": 0
      },
      "text/plain": [
       "Loading checkpoint shards:   0%|          | 0/2 [00:00<?, ?it/s]"
      ]
     },
     "metadata": {},
     "output_type": "display_data"
    }
   ],
   "source": [
    "llm = LLM()"
   ]
  },
  {
   "cell_type": "code",
   "execution_count": 28,
   "metadata": {},
   "outputs": [],
   "source": [
    "def generate_qa(content):\n",
    "   prompt = PROMPT.format(content=content)\n",
    "   answer = llm.ask(prompt)\n",
    "   return answer"
   ]
  },
  {
   "cell_type": "code",
   "execution_count": 32,
   "metadata": {},
   "outputs": [],
   "source": [
    "PROMPT1 = \"\"\"{content}\n",
    "----------\n",
    "According to the above content, \n",
    "Please summarize while retaining essential metadata and information from the original text.\n",
    "Generate questions and answers from the summary; the answers must be present in the original content above.\n",
    "Every question number must be prefixed with the keyword \"Question\".\n",
    "\"\"\""
   ]
  },
  {
   "cell_type": "code",
   "execution_count": 33,
   "metadata": {},
   "outputs": [],
   "source": [
    "prompt = PROMPT1.format(content=content)"
   ]
  },
  {
   "cell_type": "code",
   "execution_count": 35,
   "metadata": {},
   "outputs": [],
   "source": [
    "def summarize(content):\n",
    "   template = \"\"\"{content}\n",
    "   ----------\n",
    "   According to the above content, \n",
    "   Please summarize while retaining essential metadata and information from the original text.\n",
    "   \"\"\"\n",
    "   answer = llm.ask(template.format(content=content))\n",
    "   return answer"
   ]
  },
  {
   "cell_type": "code",
   "execution_count": 36,
   "metadata": {},
   "outputs": [
    {
     "name": "stdout",
     "output_type": "stream",
     "text": [
      " Live Dragon Tiger is a casino game where players can bet on the highest card value in the Dragon's hand or the Tiger's hand. The game has a theoretical return to player of 96.26% over a long period of time. The game also has side bets such as Odd/Even, Big/Small, Black/Red. The side bets are minor bets that can be placed by the Player. When betting on the side bets, the Player loses all his/her bets on the side bets he/she placed if the card is dealt as 7. The side bets are placed on the value of the Dragon's hand (left) or Tiger's hand (right) being an Odd number, Even number, Small number, Big number, Red, or Black. The cards in the game are ranked from the lowest to the highest starting from Ace to King. The dealer will burn one card in the beginning of every round and the Operator reserves the rights to reshuffle the particular decks of cards if any human or non-human errors occur during cards shuffling. Any failure of the Player's equipment including but not limited to network connection or computer problems will not void the game result. Any Operator system malfunction and/or hardware failure during Live Dealer Dragon Tiger will void the play, and the particular table will be closed.\n"
     ]
    }
   ],
   "source": [
    "summarize_content = summarize(content)\n",
    "print(summarize_content)"
   ]
  },
  {
   "cell_type": "code",
   "execution_count": 46,
   "metadata": {},
   "outputs": [
    {
     "name": "stdout",
     "output_type": "stream",
     "text": [
      " Question: What is Live Dragon Tiger?\n",
      "Answer: Live Dragon Tiger is a casino game where players can bet on the highest card value in the Dragon's hand or the Tiger's hand.\n",
      "\n",
      "Question: What are the side bets in Live Dragon Tiger?\n",
      "Answer: The side bets in Live Dragon Tiger are Odd/Even, Big/Small, and Black/Red.\n",
      "\n",
      "Question: What happens if the card dealt as 7 in the side bets?\n",
      "Answer: If the card dealt as 7 in the side bets, the player loses all his/her bets on the side bets he/she placed.\n",
      "\n",
      "Question: How are the cards ranked in Live Dragon Tiger?\n",
      "Answer: The cards in Live Dragon Tiger are ranked from the lowest to the highest starting from Ace to King.\n",
      "\n",
      "Question: How does the dealer handle errors in Live Dragon Tiger?\n",
      "Answer: The dealer will burn one card in the beginning of every round and the Operator reserves the rights to reshuffle the particular decks of cards if any human or non-human errors occur during cards shuffling.\n",
      "\n",
      "Question: What happens if there is a failure of the player's equipment in Live Dragon Tiger?\n",
      "Answer: Any failure of the Player's equipment including but limited to network connection or computer problems will not void the game result.\n",
      "\n",
      "Question: What happens if there is an Operator system malfunction or hardware failure in Live Dragon Tiger?\n",
      "Answer: Any Operator system malfunction and/or hardware failure during Live Dealer Dragon Tiger will void the play, and the particular table will be closed.\n",
      "\n",
      "Question: What happens if there is a malfunction of the Operator system or hardware in Live Dragon Tiger?\n",
      "Answer: Any Operator system malfunction and/or hardware failure during Live Dealer Dragon Tiger will void the play, and the particular table will be closed.\n"
     ]
    }
   ],
   "source": [
    "print(generate_qa(summarize_content))"
   ]
  },
  {
   "cell_type": "code",
   "execution_count": 41,
   "metadata": {},
   "outputs": [],
   "source": [
    "def extract_topics(content):\n",
    "   template = \"\"\"{content}\n",
    "   ----------\n",
    "   According to the above content, \n",
    "   Extract several NLP topics, list them, with each topic on a separate line.\n",
    "   \"\"\"\n",
    "   answer = llm.ask(template.format(content=content))\n",
    "   return answer"
   ]
  },
  {
   "cell_type": "code",
   "execution_count": 40,
   "metadata": {},
   "outputs": [
    {
     "name": "stdout",
     "output_type": "stream",
     "text": [
      " 1. Live Dealer Dragon Tiger\n",
      "2. Card Values\n",
      "3. Side Bets\n",
      "4. Bet Options and Payout\n",
      "5. Burn Card\n",
      "6. Reshuffles\n",
      "7. Electronic Malfunctions\n",
      "8. Operator System Malfunction\n",
      "9. Hardware Failure\n",
      "10. Game Result Voiding\n"
     ]
    }
   ],
   "source": [
    "topics = extract_topics(content)\n",
    "print(topics)"
   ]
  },
  {
   "cell_type": "code",
   "execution_count": 44,
   "metadata": {},
   "outputs": [],
   "source": [
    "def generate_qa_from_topics(content, topics):\n",
    "   template = \"\"\"{content}\n",
    "   ----------\n",
    "   According to the above content, \n",
    "   Generate questions based on these TOPICS; the answers must be present in the above content.\n",
    "   {topics}\n",
    "   \"\"\"\n",
    "   answer = llm.ask(template.format(content=content, topics=topics))\n",
    "   return answer"
   ]
  },
  {
   "cell_type": "code",
   "execution_count": 45,
   "metadata": {},
   "outputs": [
    {
     "name": "stdout",
     "output_type": "stream",
     "text": [
      " 1. What is Live Dealer Dragon Tiger?\n",
      "Answer: Live Dealer Dragon Tiger is a casino game where the objective is to bet on whichever of the two hands, the Dragon's hand or the Tiger's hand that the Player thinks will have the highest card value. The Player can also bet on Tie. Dealer will draw one card for the Dragon's hand and one card for the Tiger's hand. No additional cards will be drawn for each hand.\n",
      "2. What are the card values in Live Dealer Dragon Tiger?\n",
      "Answer: Cards in Live Dragon Tiger are ranked from the lowest to the highest starting from Ace to King. Aces are counted as one, Jacks are counted as 11, Queens are counted as 12, Kings are counted as 13, and so on.\n",
      "3. What are the side bets in Live Dealer Dragon Tiger?\n",
      "Answer: Live Dragon Tiger game also has side bets: Odd/Even, Big/Small, Black/Red. The side bets are the minor bets that can be placed by the Player.\n",
      "4. What are the bet options and payouts in Live Dealer Dragon Tiger?\n",
      "Answer: Dragon: Bet on Dragon's hand. 50% of the bet will be returned to Player if the result is Tie. 1:1. Tiger: Bet on Tiger's hand. 50% of the bet will be returned to Player if the result is Tie. 1:1. Tie: Bet on Tie which the value of both Dragon and Tiger's hand are equal/same hand rank value. 8:1. Odd: Bet on value of Dragon's hand (left) or Tiger's hand (right) will be an Odd number. Bet loses if the result is 7. 1:1. Even: Bet on value of Dragon's hand (left) or Tiger's hand (right) will be an Even number. Bet loses if the result is 7. 1:1. Small: Bet on value of Dragon's hand (left) or Tiger's hand (right) will be a Small number, including Ace to 6. Bet loses if the result is 7. 1:1. Big: Bet on value of Dragon's hand (left) or Tiger's hand (right) will be a Big number, including 8 to K. Bet loses if the result is 7. 1:1. Red: Bet on poker colour of Dragon hand's (left) or Tiger hand's (right) will be Red. Bet loses if the result is 7. 1:1. Black: Bet on poker colour Dragon hand's (left) or Tiger hand's (right) will be Black. Bet loses if the result is 7. 1:1.\n",
      "5. What is the burn card in Live Dealer Dragon Tiger?\n",
      "Answer: The dealer will burn one card in the beginning of every round in the games.\n",
      "6. What is reshuffling in Live Dealer Dragon Tiger?\n",
      "Answer: The Operator reserves the rights to reshuffle the particular decks of cards if any human or non-human errors occur during cards shuffling.\n",
      "7. What is electronic malfunction in Live Dealer Dragon Tiger?\n",
      "Answer: Any failure of the Player's equipment including but not limited to network connection or computer problems, will not void the game result. The Player can check their bet history on the Report section.\n",
      "8. What is operator system malfunction in Live Dealer Dragon Tiger?\n",
      "Answer: Any Operator system malfunction and/or hardware failure during Live Dealer Dragon Tiger will void the play, and the particular table will be closed.\n",
      "9. What is hardware failure in Live Dealer Dragon Tiger?\n",
      "Answer: Any hardware failure during Live Dealer Dragon Tiger will void the play, and the particular table will be closed.\n",
      "10. What is game result voiding in Live Dealer Dragon Tiger?\n",
      "Answer: Any failure of the Player's equipment including but not limited to network connection or computer problems, will not void the game result. The Player can check their bet history on the Report section. Any Operator system malfunction and/or hardware failure during Live Dealer Dragon Tiger will void the play, and the particular table will be closed.\n"
     ]
    }
   ],
   "source": [
    "print(generate_qa_from_topics(content, topics))"
   ]
  }
 ],
 "metadata": {
  "kernelspec": {
   "display_name": "whisper",
   "language": "python",
   "name": "python3"
  },
  "language_info": {
   "codemirror_mode": {
    "name": "ipython",
    "version": 3
   },
   "file_extension": ".py",
   "mimetype": "text/x-python",
   "name": "python",
   "nbconvert_exporter": "python",
   "pygments_lexer": "ipython3",
   "version": "3.10.13"
  }
 },
 "nbformat": 4,
 "nbformat_minor": 2
}
