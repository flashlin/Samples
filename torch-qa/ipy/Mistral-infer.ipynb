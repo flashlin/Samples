{
 "cells": [
  {
   "cell_type": "code",
   "execution_count": null,
   "metadata": {},
   "outputs": [],
   "source": [
    "#pip install transformers trl accelerate torch bitsandbytes peft datasets -qU\n",
    "#pip install scipy"
   ]
  },
  {
   "cell_type": "code",
   "execution_count": 1,
   "metadata": {},
   "outputs": [],
   "source": [
    "from transformers import AutoModelForCausalLM, AutoTokenizer, BitsAndBytesConfig\n",
    "import torch\n",
    "\n",
    "nf4_config = BitsAndBytesConfig(\n",
    "   load_in_4bit=True,\n",
    "   bnb_4bit_quant_type=\"nf4\",\n",
    "   bnb_4bit_use_double_quant=True,\n",
    "   bnb_4bit_compute_dtype=torch.bfloat16,\n",
    ")"
   ]
  },
  {
   "cell_type": "code",
   "execution_count": 2,
   "metadata": {},
   "outputs": [
    {
     "data": {
      "application/vnd.jupyter.widget-view+json": {
       "model_id": "4f61217dfdf243a3b102a8c426e1e6df",
       "version_major": 2,
       "version_minor": 0
      },
      "text/plain": [
       "Loading checkpoint shards:   0%|          | 0/3 [00:00<?, ?it/s]"
      ]
     },
     "metadata": {},
     "output_type": "display_data"
    }
   ],
   "source": [
    "MODEL_PATH = f\"../models/Mistral-7B-Instruct-v0.2\"\n",
    "model = AutoModelForCausalLM.from_pretrained(\n",
    "    MODEL_PATH,\n",
    "    quantization_config=nf4_config,\n",
    "    device_map='auto',\n",
    "    local_files_only=True,\n",
    "    #trust_remote_code=False,\n",
    "    use_cache=True\n",
    ")"
   ]
  },
  {
   "cell_type": "code",
   "execution_count": 3,
   "metadata": {},
   "outputs": [],
   "source": [
    "tokenizer = AutoTokenizer.from_pretrained(MODEL_PATH)\n",
    "#tokenizer.pad_token = tokenizer.eos_token\n",
    "#tokenizer.padding_side = \"right\""
   ]
  },
  {
   "cell_type": "code",
   "execution_count": 5,
   "metadata": {},
   "outputs": [
    {
     "name": "stderr",
     "output_type": "stream",
     "text": [
      "The attention mask and the pad token id were not set. As a consequence, you may observe unexpected behavior. Please pass your input's `attention_mask` to obtain reliable results.\n",
      "Setting `pad_token_id` to `eos_token_id`:2 for open-end generation.\n"
     ]
    },
    {
     "data": {
      "text/plain": [
       "\"<s> [INST] What is your favourite condiment? [/INST]Well, I'm quite partial to a good squeeze of fresh lemon juice. It adds just the right amount of zesty flavour to whatever I'm cooking up in the kitchen!</s> [INST] Do you have mayonnaise recipes? [/INST] I'm an artificial intelligence and don't have the ability to create or cook recipes. However, I can certainly provide you with a classic mayonnaise recipe! Here it is:\\n\\nIngredients:\\n- 1 cup vegetable oil\\n- 1 tablespoon white wine vinegar\\n- 1 tablespoon Dijon mustard\\n- 1 tablespoon fresh lemon juice\\n- 1 teaspoon salt\\n- 1 1/2 tablespoons water\\n- 1 large egg yolk\\n\\nInstructions:\\n1. In a large bowl, whisk together the vinegar, mustard, lemon juice, salt, and water.\\n2. Gradually add the oil to the mixture, drop by drop, while continuously whisking. Once the oil is fully incorporated, you can begin to add it in a thin, steady stream.\\n3. Once all of the oil has been added, whisk in the egg yolk.\\n4. Taste the mayonnaise and adjust the seasoning with salt, pepper, or acid (vinegar or lemon juice) as desired.\\n\\nRemember to whisk constantly while adding the oil to ensure that the mayonnaise emulsifies properly and doesn't break. And be patient - adding the oil slowly and in a steady stream will give you a nice, smooth result. Enjoy!</s>\""
      ]
     },
     "execution_count": 5,
     "metadata": {},
     "output_type": "execute_result"
    }
   ],
   "source": [
    "def ask():\n",
    "   global model\n",
    "   messages = [\n",
    "      {\"role\": \"user\", \"content\": \"What is your favourite condiment?\"},\n",
    "      {\"role\": \"assistant\", \"content\": \"Well, I'm quite partial to a good squeeze of fresh lemon juice. It adds just the right amount of zesty flavour to whatever I'm cooking up in the kitchen!\"},\n",
    "      {\"role\": \"user\", \"content\": \"Do you have mayonnaise recipes?\"}\n",
    "   ]\n",
    "   encodeds = tokenizer.apply_chat_template(messages, return_tensors=\"pt\")\n",
    "   model_inputs = encodeds.to(model.device)\n",
    "   generated_ids = model.generate(model_inputs, \n",
    "                                  max_new_tokens=1000, \n",
    "                                  do_sample=True)\n",
    "   decoded_output = tokenizer.batch_decode(generated_ids)\n",
    "   #print(decoded_output[0])\n",
    "   return decoded_output[0]\n",
    "\n",
    "ask()\n",
    "   "
   ]
  }
 ],
 "metadata": {
  "kernelspec": {
   "display_name": "tune",
   "language": "python",
   "name": "python3"
  },
  "language_info": {
   "codemirror_mode": {
    "name": "ipython",
    "version": 3
   },
   "file_extension": ".py",
   "mimetype": "text/x-python",
   "name": "python",
   "nbconvert_exporter": "python",
   "pygments_lexer": "ipython3",
   "version": "3.11.5"
  }
 },
 "nbformat": 4,
 "nbformat_minor": 2
}
