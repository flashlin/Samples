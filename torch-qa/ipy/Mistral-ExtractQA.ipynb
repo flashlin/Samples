{
 "cells": [
  {
   "cell_type": "code",
   "execution_count": null,
   "metadata": {},
   "outputs": [],
   "source": [
    "#pip install transformers trl accelerate torch bitsandbytes peft datasets -qU\n",
    "#pip install scipy\n",
    "#torch==2.1.2\n",
    "#transformers==4.36.0\n",
    "#trl==0.7.4\n",
    "#accelerate==0.25.0\n",
    "#bitsandbytes==0.41.3.post2\n",
    "#peft==0.7.0\n",
    "#datasets==2.15.0\n",
    "#scipy==1.11.4\n",
    "#sentencepiece==0.1.99"
   ]
  },
  {
   "cell_type": "code",
   "execution_count": 98,
   "metadata": {},
   "outputs": [],
   "source": [
    "from py_standard.langchain_lit import load_all_documents\n",
    "\n",
    "docs = load_all_documents('./data-user/', 1000 * 2, 500)\n",
    "\n",
    "def read_page_contents_from_docs(docs):\n",
    "   for doc in docs:\n",
    "      yield doc.page_content"
   ]
  },
  {
   "cell_type": "code",
   "execution_count": null,
   "metadata": {},
   "outputs": [],
   "source": [
    "#pip install -U spacy\n",
    "#python -m spacy download en_core_web_lg==3.7.1\n",
    "import spacy\n",
    "\n",
    "nlp = spacy.load('en_core_web_lg')\n",
    "\n",
    "def read_file_segments(file_path):\n",
    "   with open(file_path, 'r', encoding='utf-8') as file:\n",
    "      text = file.read()\n",
    "   doc = nlp(text)\n",
    "   for sentence in doc.sents:\n",
    "      yield sentence.text\n",
    "\n",
    "a = list(read_file_segments('./documents/live-baccarat-doc.md'))\n",
    "a"
   ]
  },
  {
   "cell_type": "code",
   "execution_count": 5,
   "metadata": {},
   "outputs": [],
   "source": [
    "from transformers import AutoModelForCausalLM, AutoTokenizer, BitsAndBytesConfig\n",
    "import torch\n",
    "from IPython.display import display, Markdown, Latex\n",
    "\n",
    "nf4_config = BitsAndBytesConfig(\n",
    "   load_in_4bit=True,\n",
    "   bnb_4bit_quant_type=\"nf4\",\n",
    "   bnb_4bit_use_double_quant=True,\n",
    "   bnb_4bit_compute_dtype=torch.bfloat16,\n",
    ")"
   ]
  },
  {
   "cell_type": "code",
   "execution_count": 6,
   "metadata": {},
   "outputs": [
    {
     "data": {
      "application/vnd.jupyter.widget-view+json": {
       "model_id": "b3791723d24b481b87f8dff36f8e7708",
       "version_major": 2,
       "version_minor": 0
      },
      "text/plain": [
       "Loading checkpoint shards:   0%|          | 0/3 [00:00<?, ?it/s]"
      ]
     },
     "metadata": {},
     "output_type": "display_data"
    }
   ],
   "source": [
    "MODEL_PATH = f\"../models/Mistral-7B-Instruct-v0.2\"\n",
    "model = AutoModelForCausalLM.from_pretrained(\n",
    "    MODEL_PATH,\n",
    "    quantization_config=nf4_config,\n",
    "    device_map='auto',\n",
    "    local_files_only=True,\n",
    "    #trust_remote_code=False,\n",
    "    use_cache=True\n",
    ")"
   ]
  },
  {
   "cell_type": "code",
   "execution_count": 7,
   "metadata": {},
   "outputs": [],
   "source": [
    "tokenizer = AutoTokenizer.from_pretrained(MODEL_PATH)\n",
    "tokenizer.pad_token = tokenizer.eos_token\n",
    "tokenizer.padding_side = \"right\""
   ]
  },
  {
   "cell_type": "code",
   "execution_count": 29,
   "metadata": {},
   "outputs": [
    {
     "data": {
      "text/plain": [
       "\"<s> [INST] What is your favourite condiment? [/INST]Well, I'm quite partial to a good squeeze of fresh lemon juice. It adds just the right amount of zesty flavour to whatever I'm cooking up in the kitchen!</s> [INST] Do you have mayonnaise recipes? [/INST]While I don't have the ability to create or prepare recipes myself, I can certainly help you find one for mayonnaise! Here's a classic and simple Homemade Mayonnaise recipe you can try:\\n\\nIngredients:\\n- 1 cup (240 ml) light tasting oil (like canola, safflower, or vegetable oil)\\n- 1 large egg yolk\\n- 1 tablespoon (15 ml) white wine vinegar or other mild vinegar\\n- 1 teaspoon (5 g) Dijon mustard\\n- 1/2 teaspoon (3 g) Kosher salt\\n- 1/2 teaspoon (3 g) Freshly ground black pepper\\n\\nInstructions:\\n1. Set up a large bowl with an immersion blender. This will make the process simpler. However, you can also use a regular blender or a whisk.\\n2. Add the egg yolk, vinegar, Dijon mustard, salt, and pepper to the bowl.\\n3. With the immersion blender at the bottom, drizzle the oil into the egg mixture in a slow but steady stream. Turn on the blender and blend the oil and egg mixture together until you have a thick, creamy mayonnaise. The oil should be fully incorporated before adding more.\\n4. Taste the mayonnaise and adjust seasoning if needed. Add any additional herbs, spices or other ingredients according to your preference.\\n5. Store the mayonnaise in an airtight container in the refrigerator. It will keep for up to one week.\\n\\nLet me know if this helps, or if you have any other questions!</s>\""
      ]
     },
     "execution_count": 29,
     "metadata": {},
     "output_type": "execute_result"
    }
   ],
   "source": [
    "def ask1():\n",
    "   global model, tokenizer\n",
    "   messages = [\n",
    "      {\"role\": \"user\", \"content\": \"What is your favourite condiment?\"},\n",
    "      {\"role\": \"assistant\", \"content\": \"Well, I'm quite partial to a good squeeze of fresh lemon juice. It adds just the right amount of zesty flavour to whatever I'm cooking up in the kitchen!\"},\n",
    "      {\"role\": \"user\", \"content\": \"Do you have mayonnaise recipes?\"}\n",
    "   ]\n",
    "   model_inputs = tokenizer.apply_chat_template(messages, return_tensors=\"pt\").to(model.device)\n",
    "   generated_ids = model.generate(model_inputs, \n",
    "                                  max_new_tokens=1000, \n",
    "                                  do_sample=True,\n",
    "                                  pad_token_id=tokenizer.pad_token_id)\n",
    "   decoded_output = tokenizer.batch_decode(generated_ids)\n",
    "   #print(decoded_output[0])\n",
    "   return decoded_output[0]\n",
    "\n",
    "answer = ask1()\n",
    "answer\n",
    "   "
   ]
  },
  {
   "cell_type": "code",
   "execution_count": 121,
   "metadata": {},
   "outputs": [],
   "source": [
    "def lstrip_inst(text):\n",
    "   token = \"[/INST]\"\n",
    "   idx = text.rfind(token)\n",
    "   if idx != -1:\n",
    "      extracted_text = text[idx + len(token):]\n",
    "      return extracted_text.lstrip()\n",
    "   return text\n",
    "\n",
    "def rstrip_s(text):\n",
    "   token = \"</s>\"\n",
    "   idx = text.rfind(token)\n",
    "   if idx != -1:\n",
    "      extracted_text = text[:idx]\n",
    "      return extracted_text\n",
    "   return text\n",
    "\n",
    "\n",
    "def ask(user_input, max_new_tokens=2000):\n",
    "   global model, tokenizer\n",
    "   messages = [\n",
    "      {\"role\": \"user\", \"content\": user_input}\n",
    "   ]\n",
    "   model_inputs = tokenizer.apply_chat_template(messages, return_tensors=\"pt\").to(model.device)\n",
    "   generated_ids = model.generate(model_inputs, \n",
    "                                  max_new_tokens=max_new_tokens, \n",
    "                                  do_sample=True,\n",
    "                                  pad_token_id=tokenizer.pad_token_id)\n",
    "   decoded_output = tokenizer.batch_decode(generated_ids)\n",
    "   answer = decoded_output[0]\n",
    "   answer = lstrip_inst(answer)\n",
    "   return rstrip_s(answer)"
   ]
  },
  {
   "cell_type": "code",
   "execution_count": null,
   "metadata": {},
   "outputs": [],
   "source": [
    "answer = ask(\"what is your name?\")\n",
    "answer"
   ]
  },
  {
   "cell_type": "code",
   "execution_count": 86,
   "metadata": {},
   "outputs": [],
   "source": [
    "def modify_qa_content(content):\n",
    "   prompt_template = \"\"\"{content}\n",
    "   ----------\n",
    "   If the content above matches the format 'Question: Answer:', \n",
    "   maintain the original format. \n",
    "   Otherwise, modify the content related to Q&A to the format 'Question: Answer:'.\n",
    "   \"\"\"   \n",
    "   prompt = prompt_template.format(content=content)\n",
    "   return ask(prompt)"
   ]
  },
  {
   "cell_type": "code",
   "execution_count": 22,
   "metadata": {},
   "outputs": [],
   "source": [
    "def extract_markdown_tables_from_content(page_content):\n",
    "   prompt = f\"\"\"{page_content}\n",
    "   ----------\n",
    "   Extract the Markdown table data and its related content from the above content,\n",
    "   and directly describe the data and related content in English.\n",
    "   \"\"\"\n",
    "   answer_markdown = ask(prompt)\n",
    "   return answer_markdown\n",
    "\n",
    "def generate_qa_from_markdown_tables(markdown_content):\n",
    "   prompt_template = \"\"\"{content}\n",
    "   ----------\n",
    "   Based on the above content, extract the Markdown table data and its related content,\n",
    "   and generate corresponding questions and answers directly.\n",
    "   Response Format:\n",
    "   Question: What is your name?\n",
    "   Answer: My name is Astro.\n",
    "   \"\"\"\n",
    "   prompt = prompt_template.format(content=markdown_content)\n",
    "   return ask(prompt)\n"
   ]
  },
  {
   "cell_type": "code",
   "execution_count": 23,
   "metadata": {},
   "outputs": [],
   "source": [
    "def generate_qa_from_markdown_table_rows(markdown_content):\n",
    "   prompt_template = \"\"\"{content}\n",
    "   ----------\n",
    "   Based on the above content,\n",
    "   extract each row of data from the Markdown table data,\n",
    "   and generate corresponding questions and answers for each individual row directly.\n",
    "   Response Format:\n",
    "   Question: What is your name?\n",
    "   Answer: My name is Astro.\n",
    "   \"\"\"\n",
    "   prompt = prompt_template.format(content=markdown_content)\n",
    "   return ask(prompt)\n"
   ]
  },
  {
   "cell_type": "code",
   "execution_count": 24,
   "metadata": {},
   "outputs": [],
   "source": [
    "def generate_qa_from_extract_terms(page_content):\n",
    "   prompt_template = \"\"\"{content}\n",
    "   ----------\n",
    "   Extract all the common terms from the above content and generate corresponding questions and answers for each one directly.\n",
    "   Response Format:\n",
    "   Question: What is your name?\n",
    "   Answer: My name is Astro.\n",
    "   \"\"\"\n",
    "   prompt = prompt_template.format(content=page_content)\n",
    "   return ask(prompt)\n"
   ]
  },
  {
   "cell_type": "code",
   "execution_count": 25,
   "metadata": {},
   "outputs": [],
   "source": [
    "def generate_qa_from_extract_summary(page_content):\n",
    "   prompt_template = \"\"\"{content}\n",
    "   ----------\n",
    "   Summarize the above content and then generate corresponding questions and answers directly.\n",
    "   Response Format:\n",
    "   Question: What is your name?\n",
    "   Answer: My name is Astro.\n",
    "   \"\"\"\n",
    "   prompt = prompt_template.format(content=page_content)\n",
    "   answer = ask(prompt)\n",
    "   answer = modify_qa_content(page_content)\n",
    "   return answer"
   ]
  },
  {
   "cell_type": "code",
   "execution_count": 84,
   "metadata": {},
   "outputs": [],
   "source": [
    "def keep_qa_content(content):\n",
    "   prompt_template = \"\"\"{content}\n",
    "   ----------\n",
    "   Keep only the QA content from the above. Remove all other content.\n",
    "   \"\"\"\n",
    "   prompt = prompt_template.format(content=content)\n",
    "   return ask(prompt)\n",
    "\n",
    "def generate_qa_from_extract_segments(page_content):\n",
    "   prompt_template = \"\"\"{content}\n",
    "   ----------\n",
    "   Segment the above content into appropriate paragraphs,\n",
    "   summarize each segment, Do not response summary and segment, and then generate corresponding questions and answers for each segment directly.\n",
    "   Response Format:\n",
    "   Question: What is your name?\n",
    "   Answer: My name is Astro.\n",
    "   \"\"\"\n",
    "   prompt = prompt_template.format(content=page_content)\n",
    "   answer = ask(prompt)\n",
    "   answer = keep_qa_content(answer)\n",
    "   return answer\n"
   ]
  },
  {
   "cell_type": "code",
   "execution_count": 85,
   "metadata": {},
   "outputs": [
    {
     "data": {
      "text/plain": [
       "\"Question: What happens if a card fails to scan during a Live Baccarat game on SBOBET Casino?\\nAnswer: The dealer will re- scan the card to display the result to the Players.\\n\\nQuestion: What is the consequence of an Operator system malfunction during Live Baccarat on SBOBET Casino?\\nAnswer: The game will be voided, and the particular table will be closed.\\n\\nQuestion: What should be done if a card falls off the table during a Live Baccarat game on SBOBET Casino?\\nAnswer: The current round will be aborted, and the particular shoe will be replaced with a new shoe.\\n\\nQuestion: What information should Players provide when making a complaint or dispute regarding a Live Baccarat game on SBOBET Casino?\\nAnswer: Players must provide the date and time of playing, Table ID, dealer's name, and round number to have their complaint considered.\\n\\nQuestion: What is the time limit for Players to submit complaints or disputes during Live Baccarat games on SBOBET Casino?\\nAnswer: Players must address their complaint within 24 hours of the dispute occurring.\""
      ]
     },
     "execution_count": 85,
     "metadata": {},
     "output_type": "execute_result"
    }
   ],
   "source": [
    "page_content = \"\"\"Summary:\n",
    "The text outlines rules and procedures in case of electronic and physical malfunctions, as well as complaints during Live Baccarat games on SBOBET Casino. Electronic malfunctions may cause game results to be displayed incorrectly, but Player equipment problems do not affect game results. Operator system malfunctions and hardware failures will void the game and the table will be closed. Physical malfunctions, such as revealing cards or dealing extra cards, will result in the current round being aborted and the particular shoe being replaced. For complaints or disputes, Players must provide specific details, including the date and time of playing, Table ID, dealer's name, and round number, in order for the complaint to be considered.\n",
    "\n",
    "Questions:\n",
    "1. What happens if a card fails to scan during a Live Baccarat game on SBOBET Casino?\n",
    "   Answer: The dealer will re-scan the card to display the result to the Players.\n",
    "\n",
    "2. What is the consequence of an Operator system malfunction during Live Baccarat on SBOBET Casino?\n",
    "   Answer: The game will be voided, and the particular table will be closed.\n",
    "\n",
    "3. What should be done if a card falls off the table during a Live Baccarat game on SBOBET Casino?\n",
    "   Answer: The current round will be aborted, and the particular shoe will be replaced with a new shoe.\n",
    "\n",
    "4. What information should Players provide when making a complaint or dispute regarding a Live Baccarat game on SBOBET Casino?\n",
    "   Answer: Players must provide the date and time of playing, Table ID, dealer's name, and round number to have their complaint considered.\n",
    "\n",
    "5. What is the time limit for Players to submit complaints or disputes during Live Baccarat games on SBOBET Casino?\n",
    "   Answer: Players must address their complaint within 24 hours of the dispute occurring.\"\"\"\n",
    "   \n",
    "answer = modify_qa_content(page_content)\n",
    "answer"
   ]
  },
  {
   "cell_type": "code",
   "execution_count": 88,
   "metadata": {},
   "outputs": [
    {
     "data": {
      "text/plain": [
       "\"Question: What should a player do if a card fails to scan during Live Baccarat?\\nAnswer: The player should wait while the dealer re-scans the card. The game result will not be voided even if there are problems with the Player's equipment.\\n\\nQuestion: What information is required to make a complaint or dispute a game result in Live Baccarat?\\nAnswer: The player needs to provide the following information: date and time of playing, Table ID, dealer's name, and round number.\\n\\nQuestion: What happens if a player fails to provide the required information to make a complaint or dispute a game result in Live Baccarat?\\nAnswer: The complaint will not be processed as we cannot proceed with insufficient information.\\n\\nQuestion: What happens if there's an Operator system malfunction or hardware failure during Live Baccarat?\\nAnswer: If there's a technical issue with the Live Baccarat software or hardware, the game will be voided, and the particular table will be closed until the problem is resolved.\\n\\nQuestion: What happens if cards are dealt accidentally in more than one place, or if cards are revealed during shuffling, or if they fall off the table in Live Baccarat?\\nAnswer: In such cases, the round will be aborted, and a new shoe will be used to ensure the game fairness and continuity.\\n\\nQuestion: What happens if the dealer deals an extra card after the game is finished in Live Baccarat?\\nAnswer: The result is considered valid since the extra card was dealt unintentionally after the game had ended.\""
      ]
     },
     "execution_count": 88,
     "metadata": {},
     "output_type": "execute_result"
    }
   ],
   "source": [
    "page_content = \"\"\"Question: What should a player do if a card fails to scan during Live Baccarat?\n",
    "Answer: The dealer will re-scan the card and the game result will not be voided even if there are problems with the Players' equipment.\n",
    "\n",
    "Question: What information is required to make a complaint or dispute a game result in Live Baccarat?\n",
    "Answer: The player must provide the date and time of playing, Table ID, dealer's name, and round number.\n",
    "\n",
    "Question: What happens if a player fails to provide the required information to make a complaint or dispute a game result in Live Baccarat?\n",
    "Answer: The complaint will be rejected without further explanation.\n",
    "\n",
    "Question: What happens if there's an Operator system malfunction or hardware failure during Live Baccarat?\n",
    "Answer: The game will be voided and the particular table will be closed.\n",
    "\n",
    "Question: What happens if cards are dealt accidentally in more than one place, or if cards are revealed during shuffling or if they fall off the table in Live Baccarat?\n",
    "Answer: The round will be aborted and a new shoe will be used.\n",
    "\n",
    "Question: What happens if the dealer deals an extra card after the game is finished in Live Baccarat?\n",
    "Answer: The result will be considered valid.\"\"\"\n",
    "answer = modify_qa_content(page_content)\n",
    "answer"
   ]
  },
  {
   "cell_type": "code",
   "execution_count": 76,
   "metadata": {},
   "outputs": [
    {
     "data": {
      "text/plain": [
       "\"Question: What is Live Dealer Baccarat?\\nAnswer: Live Dealer Baccarat is a casino table game presented by a live dealer where players bet on the hand with a point value closest to 9 (Player or Banker).\\n\\nQuestion: What is the objective of Live Dealer Baccarat?\\nAnswer: The objective is to bet on the hand with a point value closest to 9 (Player or Banker).\\n\\nQuestion: What is the theoretical return to player of Live Deacer Baccarat?\\nAnswer: The theoretical return to player is 98.41%.\\n\\nQuestion: How do I place a bet in Live Dealer Baccarat?\\nAnswer: You place a bet in Live Dealer Baccarat by selecting chip values and placing them in the Betting Area on the table layout.\\n\\nQuestion: What is the Betting Timer, and why is it important?\\nAnswer: The Betting Timer is a countdown that indicates the time players have to place their bets. Betting on the table is not allowed after the Betting Timer has expired.\\n\\nQuestion: What is the 'DOUBLE' bet button used for?\\nAnswer: The 'DOUBLE' bet button doubles all the unconfirmed bets placed on the table.\\n\\nQuestion: What happens when both hands have the same point value?\\nAnswer: It is a tie, and neither side wins or loses. Tie bets win.\\n\\nQuestion: What is the highest point value in Live Dealer Baccarat?\\nAnswer: The highest point value in Live Dealer Baccarat is 9.\\n\\nQuestion: What are some common Baccarat terms?\\nAnswer: Dragon Bonus, Fortune Six, and Tiger Baccarat are optional side bets in Live Dealer Baccarat. Each has its payout odds and conditions for winning.\\n\\nQuestion: What is Dragon Bonus in Live Dealer Baccarat?\\nAnswer: Dragon Bonus is a side bet in Live Dealer Baccarat that pays when the chosen hand has a natural win or a win by at least 4 points difference.\\n\\nQuestion: What is Fortune Six in Live Dealer Baccarat?\\nAnswer: Fortune Six is a side bet in Live Dealer Baccarat that pays if the Banker hand wins with a total of six.\\n\\nQuestion: What is Tiger Baccarat in Live Dealer Baccarat?\\nAnswer: Tiger Baccarat is a set of up to 5 optional wagers that may be used on a Baccarat table.\\n\\nQuestion: How do I play Tiger in Live Dealer Baccarat?\\nAnswer: To play Tiger, place a bet in the Tiger betting area of the layout. All bets must be placed before any cards are dealt. If the Banker wins with a score total of six, you win.\""
      ]
     },
     "execution_count": 76,
     "metadata": {},
     "output_type": "execute_result"
    }
   ],
   "source": [
    "answer = generate_qa_from_extract_segments(docs[0].page_content)\n",
    "answer"
   ]
  },
  {
   "cell_type": "code",
   "execution_count": 27,
   "metadata": {},
   "outputs": [],
   "source": [
    "def generate_qa_from_extract_values(page_content):\n",
    "   prompt_template = \"\"\"{content}\n",
    "   ----------\n",
    "   Extract each sentence related to numbers from the above content and generate corresponding question-answer pairs directly.\n",
    "   Response Format:\n",
    "   Question: What is your name?\n",
    "   Answer: My name is Astro.\n",
    "   \"\"\"\n",
    "   prompt = prompt_template.format(content=page_content)\n",
    "   return ask(prompt)"
   ]
  },
  {
   "cell_type": "code",
   "execution_count": 96,
   "metadata": {},
   "outputs": [],
   "source": [
    "def generate_qa_from_extract_classify_terms(page_content):\n",
    "   prompt_template = \"\"\"{content}\n",
    "   ----------\n",
    "   Identify all terms within the above content and categorize them. \n",
    "   Use all relevant content related to terms within the same category as the answer. \n",
    "   Generate questions and answers based on this content. \n",
    "   The answers must be derived from the content above.\n",
    "   Only respond with Question and Answer content.\n",
    "   Response Format:\n",
    "   Question: What is your name?\n",
    "   Answer: My name is Astro.\"\"\"\n",
    "   prompt = prompt_template.format(content=page_content)\n",
    "   return ask(prompt)"
   ]
  },
  {
   "cell_type": "code",
   "execution_count": 217,
   "metadata": {},
   "outputs": [],
   "source": [
    "import re\n",
    "from py_standard.data_utils import combinations_fn\n",
    "\n",
    "def terms_to_list(content):\n",
    "   pattern1 = re.compile(r'([\\*\\-]|\\d+\\.)(.*)')\n",
    "   result = []\n",
    "   for line in content.split('\\n'):\n",
    "      line = line.strip()\n",
    "      if line != \"\":\n",
    "         if \",\" in line:\n",
    "            continue\n",
    "         if line.rstrip().endswith(\".\"):\n",
    "            continue\n",
    "         match = pattern1.match(line)\n",
    "         if match:\n",
    "            line = match.group(2).lstrip()\n",
    "         result.append(line)\n",
    "\n",
    "   return result\n",
    "\n",
    "def extract_terms(page_content):\n",
    "   prompt_template = \"\"\"{content}\n",
    "   ----------\n",
    "   List 10 terms from the above content, and the term must appear in the above content.\n",
    "   one term without description per line.\n",
    "   \"\"\"\n",
    "   prompt = prompt_template.format(content=page_content)\n",
    "   answer = ask(prompt, 200)\n",
    "   terms = terms_to_list(answer)\n",
    "   return terms\n",
    "\n",
    "def extract_adj(token):\n",
    "   prompt_template = \"\"\"{token}\n",
    "   ----------\n",
    "   Extract adjectives. Return an empty string if none are found. No additional explanation needed.\"\"\"\n",
    "   prompt = prompt_template.format(token=token)\n",
    "   answer = ask(prompt, 80)\n",
    "   return answer\n",
    "\n",
    "def is_opposing_terms1(term1, term2):\n",
    "   prompt_template = f\"\"\"Based on your understanding,\n",
    "   are '{term1}' and '{term2}' opposing each other? \n",
    "   If yes, respond with 'Yes' directly.\n",
    "   If you are unable to determine, please respond with 'No'.\n",
    "   \"\"\"\n",
    "   prompt = prompt_template.format()\n",
    "   answer = ask(prompt, 80)\n",
    "   if 'Yes' in answer:\n",
    "      return True, answer\n",
    "   return False, answer\n",
    "\n",
    "def is_opposing_terms(term1, term2):\n",
    "   adj1 = extract_adj(term1)\n",
    "   adj2 = extract_adj(term2)\n",
    "   if adj1!=\"\" and adj2!=\"\":\n",
    "      is_opposing, adj_reason = is_opposing_terms1(adj1, adj2)\n",
    "      if is_opposing:\n",
    "         return True, adj_reason\n",
    "   return is_opposing_terms1(term1, term2)\n",
    "\n",
    "def generate_qa_from_two_terms(page_content, term1, term2):\n",
    "   question = f\"\"\"What are the differences between \"{term1}\" and \"{term2}\"?\"\"\"\n",
    "   prompt_template = \"\"\"{content}\n",
    "   ----------\n",
    "   Answer based on the above content.\n",
    "   The answer must be present in the above content, otherwise reply with an empty string.\n",
    "   {question}\n",
    "   \"\"\"\n",
    "   prompt = prompt_template.format(content=page_content, question=question)\n",
    "   answer = ask(prompt, 500)\n",
    "   if answer.strip() == \"\":\n",
    "      return \"\"\n",
    "   return f\"Question: {question}\\r\\nAnswer: {answer}\\r\\n\"\n",
    "\n",
    "def generate_qa_from_extract_terms_diff(page_content):\n",
    "   terms_list = extract_terms(page_content)\n",
    "   two_terms = combinations_fn(terms_list, 2)\n",
    "   qa_content = \"\"\n",
    "   for term1, term2 in two_terms:\n",
    "      sub_qa = generate_qa_from_two_terms(page_content, term1, term2)\n",
    "      qa_content += sub_qa\n",
    "   return qa_content"
   ]
  },
  {
   "cell_type": "code",
   "execution_count": 94,
   "metadata": {},
   "outputs": [],
   "source": [
    "docs1 = docs[1].page_content"
   ]
  },
  {
   "cell_type": "code",
   "execution_count": 220,
   "metadata": {},
   "outputs": [
    {
     "name": "stdout",
     "output_type": "stream",
     "text": [
      "(True, \"Yes, 'commissioned' and 'non-commissioned' are opposing adjectives when used in the context of the military rank. However, in the context of a fee or charge paid for facilitating a transaction or providing a service, 'commission' and 'non-commission' are not adjectives but rather nouns, and they don't have\")\n"
     ]
    }
   ],
   "source": [
    "#answer = is_opposing_terms(\"Small Tiger\", \"Tiger Tie\")\n",
    "#print(answer)\n",
    "#answer = is_opposing_terms(\"Small Tiger\", \"Big Tiger\")\n",
    "#print(answer)\n",
    "#answer = is_opposing_terms(\"Player\", \"Banker\")\n",
    "#print(answer)\n",
    "answer = is_opposing_terms(\"commision\", \"non-commision\")\n",
    "print(answer)"
   ]
  },
  {
   "cell_type": "code",
   "execution_count": 82,
   "metadata": {},
   "outputs": [],
   "source": [
    "def write_qa_file(file_path, text, mode=\"a\"):\n",
    "   with open(file_path, mode, encoding='utf-8') as f:\n",
    "      f.write(text)\n",
    "      f.flush()\n",
    "      \n",
    "def append_delimit(content):\n",
    "   return f\"{content}\\r\\n##########\\r\\n\"\n",
    "   \n",
    "def append_qa_content(sub_qa, content):\n",
    "   sub_qa = append_delimit(sub_qa)\n",
    "   return content + sub_qa\n",
    "      \n",
    "def generate_qa_from_page_content(page_content, write_qa_file_fn=None):\n",
    "   qa_content = \"\"\n",
    "   def write_file(text):\n",
    "      if write_qa_file_fn is None:\n",
    "         return\n",
    "      text = append_delimit(text)\n",
    "      write_qa_file_fn(text)\n",
    "      \n",
    "   def append_to_qa_content(title, sub_qa):\n",
    "      nonlocal qa_content\n",
    "      write_file(f\"# {title}\\r\\n\")\n",
    "      write_file(sub_qa)\n",
    "      qa_content = append_qa_content(sub_qa, qa_content)\n",
    "      \n",
    "   sub_qa = generate_qa_from_extract_summary(page_content)\n",
    "   append_to_qa_content(\"summary\", sub_qa)\n",
    "\n",
    "   sub_qa = generate_qa_from_extract_segments(page_content)\n",
    "   append_to_qa_content(\"segments\", sub_qa)\n",
    "\n",
    "   sub_qa = generate_qa_from_extract_terms(page_content)\n",
    "   append_to_qa_content(\"terms\", sub_qa)\n",
    "   \n",
    "   sub_qa = generate_qa_from_extract_classify_terms(page_content)\n",
    "   append_to_qa_content(\"classify terms\", sub_qa)\n",
    "\n",
    "   markdown_content = extract_markdown_tables_from_content(page_content)\n",
    "   sub_qa = generate_qa_from_markdown_tables(markdown_content)\n",
    "   append_to_qa_content(\"tables\", sub_qa)\n",
    "\n",
    "   sub_qa = generate_qa_from_markdown_table_rows(markdown_content)\n",
    "   append_to_qa_content(\"rows\", sub_qa)\n",
    "\n",
    "   sub_qa = generate_qa_from_extract_values(page_content)\n",
    "   append_to_qa_content(\"amounts\", sub_qa)\n",
    "   return qa_content\n"
   ]
  },
  {
   "cell_type": "code",
   "execution_count": 83,
   "metadata": {},
   "outputs": [],
   "source": [
    "qa_file = \"./results/llm-qa.md\"\n",
    "docs_len = len(docs)\n",
    "for idx, doc in enumerate(docs):\n",
    "   if idx == 0:\n",
    "      write_qa_file(qa_file, \"\", mode=\"w\")\n",
    "   write_qa_file(qa_file, f\"# {idx+1}/{docs_len} documents\\r\\n\")\n",
    "   generate_qa_from_page_content(doc.page_content, \n",
    "                                 lambda content: write_qa_file(qa_file, content))"
   ]
  }
 ],
 "metadata": {
  "kernelspec": {
   "display_name": "tune",
   "language": "python",
   "name": "python3"
  },
  "language_info": {
   "codemirror_mode": {
    "name": "ipython",
    "version": 3
   },
   "file_extension": ".py",
   "mimetype": "text/x-python",
   "name": "python",
   "nbconvert_exporter": "python",
   "pygments_lexer": "ipython3",
   "version": "3.9.18"
  }
 },
 "nbformat": 4,
 "nbformat_minor": 2
}
