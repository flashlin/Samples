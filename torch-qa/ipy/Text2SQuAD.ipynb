{
 "cells": [
  {
   "cell_type": "code",
   "execution_count": null,
   "metadata": {},
   "outputs": [],
   "source": [
    "from text2sqaud import Text2SQuAD\n",
    "\n",
    "# 原文文本\n",
    "text = \"\"\"這是一段示例文本。文本中提到了機器學習和深度學習的內容。主要講述了如何利用PyTorch進行模型訓練的一些方法。\"\"\"\n",
    "\n",
    "# 初始化Text2SQuAD并生成QA數據集\n",
    "text2squad = Text2SQuAD()\n",
    "train_data, dev_data = text2squad.generate(text, split_ratio=0.9)\n",
    "\n",
    "# 打印示例数据\n",
    "print(train_data[0]) "
   ]
  }
 ],
 "metadata": {
  "language_info": {
   "name": "python"
  }
 },
 "nbformat": 4,
 "nbformat_minor": 2
}
