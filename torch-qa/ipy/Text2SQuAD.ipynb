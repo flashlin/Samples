{
 "cells": [
  {
   "cell_type": "code",
   "execution_count": 1,
   "metadata": {},
   "outputs": [
    {
     "ename": "ModuleNotFoundError",
     "evalue": "No module named 'text2sqaud'",
     "output_type": "error",
     "traceback": [
      "\u001b[0;31m---------------------------------------------------------------------------\u001b[0m",
      "\u001b[0;31mModuleNotFoundError\u001b[0m                       Traceback (most recent call last)",
      "Cell \u001b[0;32mIn[1], line 1\u001b[0m\n\u001b[0;32m----> 1\u001b[0m \u001b[38;5;28;01mfrom\u001b[39;00m \u001b[38;5;21;01mtext2sqaud\u001b[39;00m \u001b[38;5;28;01mimport\u001b[39;00m Text2SQuAD\n\u001b[1;32m      3\u001b[0m \u001b[38;5;66;03m# 原文文本\u001b[39;00m\n\u001b[1;32m      4\u001b[0m text \u001b[38;5;241m=\u001b[39m \u001b[38;5;124m\"\"\"\u001b[39m\u001b[38;5;124m這是一段示例文本。文本中提到了機器學習和深度學習的內容。主要講述了如何利用PyTorch進行模型訓練的一些方法。\u001b[39m\u001b[38;5;124m\"\"\"\u001b[39m\n",
      "\u001b[0;31mModuleNotFoundError\u001b[0m: No module named 'text2sqaud'"
     ]
    }
   ],
   "source": [
    "from text2sqaud import Text2SQuAD\n",
    "\n",
    "# 原文文本\n",
    "text = \"\"\"這是一段示例文本。文本中提到了機器學習和深度學習的內容。主要講述了如何利用PyTorch進行模型訓練的一些方法。\"\"\"\n",
    "\n",
    "# 初始化Text2SQuAD并生成QA數據集\n",
    "text2squad = Text2SQuAD()\n",
    "train_data, dev_data = text2squad.generate(text, split_ratio=0.9)\n",
    "\n",
    "# 打印示例数据\n",
    "print(train_data[0]) "
   ]
  }
 ],
 "metadata": {
  "kernelspec": {
   "display_name": "whisper",
   "language": "python",
   "name": "python3"
  },
  "language_info": {
   "codemirror_mode": {
    "name": "ipython",
    "version": 3
   },
   "file_extension": ".py",
   "mimetype": "text/x-python",
   "name": "python",
   "nbconvert_exporter": "python",
   "pygments_lexer": "ipython3",
   "version": "3.11.5"
  }
 },
 "nbformat": 4,
 "nbformat_minor": 2
}
