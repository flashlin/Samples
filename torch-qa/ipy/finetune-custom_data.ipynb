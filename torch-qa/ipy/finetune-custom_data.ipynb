{
 "cells": [
  {
   "cell_type": "code",
   "execution_count": 1,
   "metadata": {},
   "outputs": [],
   "source": [
    "import pandas as pd\n",
    "\n",
    "df = pd.read_parquet('/mnt/d/Demo/datasets/train.parquet')\n",
    "df.to_csv('/mnt/d/Demo/datasets/train.csv')\n",
    "\n",
    "df.to_parquet('data2.parquet')"
   ]
  },
  {
   "cell_type": "code",
   "execution_count": 7,
   "metadata": {},
   "outputs": [],
   "source": [
    "from py_standard.json_lit import enumerate_huge_json_file\n",
    "import json\n",
    "\n",
    "huge_json_file = '/mnt/d/Demo/datasets/en_vi_mtet_training_set.json'\n",
    "with open('/mnt/d/Demo/datasets/en_vi.jsonl', 'w', encoding='utf-8') as f:\n",
    "   for row in enumerate_huge_json_file(huge_json_file):\n",
    "      obj = {\n",
    "         \"input\": row['input'],\n",
    "         \"output\": row['output']\n",
    "      }\n",
    "      line = json.dumps(obj)\n",
    "      f.write(line+\"\\r\\n\")\n",
    "   f.flush()"
   ]
  }
 ],
 "metadata": {
  "kernelspec": {
   "display_name": "torch",
   "language": "python",
   "name": "python3"
  },
  "language_info": {
   "codemirror_mode": {
    "name": "ipython",
    "version": 3
   },
   "file_extension": ".py",
   "mimetype": "text/x-python",
   "name": "python",
   "nbconvert_exporter": "python",
   "pygments_lexer": "ipython3",
   "version": "3.10.12"
  }
 },
 "nbformat": 4,
 "nbformat_minor": 2
}
