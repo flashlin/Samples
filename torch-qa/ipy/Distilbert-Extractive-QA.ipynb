{
 "cells": [
  {
   "cell_type": "code",
   "execution_count": null,
   "metadata": {},
   "outputs": [],
   "source": []
  },
  {
   "cell_type": "code",
   "execution_count": 48,
   "metadata": {},
   "outputs": [],
   "source": [
    "import re\n",
    "\n",
    "def get_prev_captured_length(matches, current_idx):\n",
    "   captured_length = 0\n",
    "   for _ in matches[:current_idx]:\n",
    "      captured_length += 4\n",
    "   return captured_length\n",
    "\n",
    "def capture_labels(text):\n",
    "   pattern = re.compile(r\"(?<!\\\\)<%(.*?)(?<!\\\\)%>\", re.DOTALL)\n",
    "   matches = pattern.finditer(text)\n",
    "   matches = [item for item in matches]\n",
    "   labels = []\n",
    "   for idx, match in enumerate(matches):\n",
    "      labels.append({\n",
    "         'start': match.start() + 2,\n",
    "         'label_start': match.start() - get_prev_captured_length(matches, idx),\n",
    "         'text': match.group(1)\n",
    "      })\n",
    "   return labels\n",
    "\n",
    "def clean_labels(text):\n",
    "   pattern = re.compile(r\"(?<!\\\\)<%(.*?)(?<!\\\\)%>\", re.DOTALL)\n",
    "   result = re.sub(pattern, lambda x: x.group(0)[2:-2], text)\n",
    "   return result"
   ]
  },
  {
   "cell_type": "code",
   "execution_count": 49,
   "metadata": {},
   "outputs": [
    {
     "name": "stdout",
     "output_type": "stream",
     "text": [
      "b='a abc1 cd 2 f3 4'\n",
      "s='abc'\n",
      "s='cd'\n",
      "s='f'\n",
      "s=''\n"
     ]
    }
   ],
   "source": [
    "a = \"\"\"a <%abc%>1 <%cd%> 2 <%f%>3 <%%>4\"\"\"\n",
    "b = clean_labels(a)\n",
    "labels = capture_labels(a)\n",
    "         \n",
    "print(f\"{b=}\")         \n",
    "\n",
    "for label in labels:\n",
    "   text_length = len(label['text'])\n",
    "   start = label['label_start']\n",
    "   s = b[start:start+text_length]      \n",
    "   print(f\"{s=}\")"
   ]
  },
  {
   "cell_type": "code",
   "execution_count": 50,
   "metadata": {},
   "outputs": [
    {
     "data": {
      "text/plain": [
       "[{'start': 30,\n",
       "  'label_start': 28,\n",
       "  'text': 'For Reviewee:\\n* Engage in discussion with the reviewer regarding the code and requirements.\\n* Take notes of feedback and improvement suggestions.\\n* Address identified improvements before the next review iteration.\\nFor Reviewer:\\n* Offer feedback on strengths and weaknesses of the code.\\n* Give specific suggestions for improvement and guide on addressing issues.\\n* Ensure that feedback helps enhance code quality and align with standards.'}]"
      ]
     },
     "execution_count": 50,
     "metadata": {},
     "output_type": "execute_result"
    }
   ],
   "source": [
    "labels = capture_labels(\"\"\"Code Review Short Checklist\n",
    "<%For Reviewee:\n",
    "* Engage in discussion with the reviewer regarding the code and requirements.\n",
    "* Take notes of feedback and improvement suggestions.\n",
    "* Address identified improvements before the next review iteration.\n",
    "For Reviewer:\n",
    "* Offer feedback on strengths and weaknesses of the code.\n",
    "* Give specific suggestions for improvement and guide on addressing issues.\n",
    "* Ensure that feedback helps enhance code quality and align with standards.%>\"\"\")\n",
    "labels"
   ]
  },
  {
   "cell_type": "code",
   "execution_count": 53,
   "metadata": {},
   "outputs": [],
   "source": [
    "def extractive_answers(text):\n",
    "    labels = capture_labels(text)\n",
    "    answers = [{ \"text\": label['text'], \"answer_start\": label['label_start'] } for label in labels]\n",
    "    return answers\n",
    "\n",
    "def create_qas(question, context):\n",
    "    answers = extractive_answers(context)\n",
    "    return {\n",
    "       \"question\": question, \n",
    "       \"answers\": answers\n",
    "    }\n",
    "    \n",
    "def create_full_qas(context, qas_list):\n",
    "    return {\n",
    "        \"context\": context,\n",
    "        \"qas\": qas_list\n",
    "    }\n",
    "   \n",
    "def create_qas_from_file(qas_file):\n",
    "    question_pattern = re.compile(r\"Question:(.*)\")\n",
    "    with open(qas_file, 'r', encoding='utf-8') as f:\n",
    "        context = \"\"\n",
    "        for idx, line in enumerate(f):\n",
    "            if idx == 0:\n",
    "                match = re.match(question_pattern, line)\n",
    "                if not match:\n",
    "                    return None\n",
    "                question = match.group(1).lstrip()\n",
    "            else:\n",
    "                context += line\n",
    "    qas = create_qas(question, context)\n",
    "    return qas\n",
    "                "
   ]
  },
  {
   "cell_type": "code",
   "execution_count": 54,
   "metadata": {},
   "outputs": [
    {
     "data": {
      "text/plain": [
       "{'question': 'What is the checklist for a code review?',\n",
       " 'answers': [{'text': 'For Reviewee:\\n* Engage in discussion with the reviewer regarding the code and requirements.\\n* Take notes of feedback and improvement suggestions.\\n* Address identified improvements before the next review iteration.\\nFor Reviewer:\\n* Offer feedback on strengths and weaknesses of the code.\\n* Give specific suggestions for improvement and guide on addressing issues.\\n* Ensure that feedback helps enhance code quality and align with standards.',\n",
       "   'answer_start': 28}]}"
      ]
     },
     "execution_count": 54,
     "metadata": {},
     "output_type": "execute_result"
    }
   ],
   "source": [
    "qas = create_qas_from_file('./documents/qas.md')\n",
    "qas"
   ]
  },
  {
   "cell_type": "code",
   "execution_count": 4,
   "metadata": {},
   "outputs": [
    {
     "name": "stdout",
     "output_type": "stream",
     "text": [
      "Some text matched with matched matches.\n"
     ]
    }
   ],
   "source": [
    "a = \"Some text <%matched1%> with <%matched2%> matches.\"\n",
    "pattern = r\"<%.*?%>\"  # 这个模式会匹配 \"<%...%>\"\n",
    "\n",
    "result = re.sub(pattern, lambda x: x.group(0)[2:-3], a)\n",
    "print(result)"
   ]
  }
 ],
 "metadata": {
  "kernelspec": {
   "display_name": "torch",
   "language": "python",
   "name": "python3"
  },
  "language_info": {
   "codemirror_mode": {
    "name": "ipython",
    "version": 3
   },
   "file_extension": ".py",
   "mimetype": "text/x-python",
   "name": "python",
   "nbconvert_exporter": "python",
   "pygments_lexer": "ipython3",
   "version": "3.10.12"
  }
 },
 "nbformat": 4,
 "nbformat_minor": 2
}
