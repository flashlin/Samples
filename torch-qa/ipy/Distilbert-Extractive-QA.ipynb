{
 "cells": [
  {
   "cell_type": "code",
   "execution_count": null,
   "metadata": {},
   "outputs": [],
   "source": []
  },
  {
   "cell_type": "code",
   "execution_count": 30,
   "metadata": {},
   "outputs": [
    {
     "name": "stdout",
     "output_type": "stream",
     "text": [
      "b='a abc1 cd 2 f3 4'\n",
      "s='abc'\n",
      "s='cd'\n",
      "s='f'\n",
      "s=''\n"
     ]
    }
   ],
   "source": [
    "import re\n",
    "\n",
    "def get_prev_captured_length(matches, current_idx):\n",
    "   captured_length = 0\n",
    "   for _ in matches[:current_idx]:\n",
    "      captured_length += 4\n",
    "   return captured_length\n",
    "\n",
    "def capture_labels(text):\n",
    "   pattern = re.compile(r\"(?<!\\\\)<%(.*?)(?<!\\\\)%>\")\n",
    "   matches = pattern.finditer(text)\n",
    "   matches = [item for item in matches]\n",
    "   labels = []\n",
    "   for idx, match in enumerate(matches):\n",
    "      labels.append({\n",
    "         'start': match.start() + 2,\n",
    "         'label_start': match.start() - get_prev_captured_length(matches, idx),\n",
    "         'text': match.group(1)\n",
    "      })\n",
    "   return labels\n",
    "\n",
    "def clean_labels(text):\n",
    "   pattern = re.compile(r\"(?<!\\\\)<%(.*?)(?<!\\\\)%>\")\n",
    "   result = re.sub(pattern, lambda x: x.group(0)[2:-2], text)\n",
    "   return result\n",
    "   \n",
    "      \n",
    "a = \"\"\"a <%abc%>1 <%cd%> 2 <%f%>3 <%%>4\"\"\"\n",
    "b = clean_labels(a)\n",
    "labels = capture_labels(a)\n",
    "         \n",
    "print(f\"{b=}\")         \n",
    "\n",
    "for label in labels:\n",
    "   text_length = len(label['text'])\n",
    "   start = label['label_start']\n",
    "   s = b[start:start+text_length]      \n",
    "   print(f\"{s=}\")"
   ]
  },
  {
   "cell_type": "code",
   "execution_count": null,
   "metadata": {},
   "outputs": [],
   "source": []
  },
  {
   "cell_type": "code",
   "execution_count": 4,
   "metadata": {},
   "outputs": [
    {
     "name": "stdout",
     "output_type": "stream",
     "text": [
      "Some text matched with matched matches.\n"
     ]
    }
   ],
   "source": [
    "a = \"Some text <%matched1%> with <%matched2%> matches.\"\n",
    "pattern = r\"<%.*?%>\"  # 这个模式会匹配 \"<%...%>\"\n",
    "\n",
    "result = re.sub(pattern, lambda x: x.group(0)[2:-3], a)\n",
    "print(result)"
   ]
  }
 ],
 "metadata": {
  "kernelspec": {
   "display_name": "torch",
   "language": "python",
   "name": "python3"
  },
  "language_info": {
   "codemirror_mode": {
    "name": "ipython",
    "version": 3
   },
   "file_extension": ".py",
   "mimetype": "text/x-python",
   "name": "python",
   "nbconvert_exporter": "python",
   "pygments_lexer": "ipython3",
   "version": "3.10.12"
  }
 },
 "nbformat": 4,
 "nbformat_minor": 2
}
