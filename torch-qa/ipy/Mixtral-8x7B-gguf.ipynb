{
 "cells": [
  {
   "cell_type": "code",
   "execution_count": null,
   "metadata": {},
   "outputs": [],
   "source": [
    "# pip install sentence_transformers\n",
    "# pip install langchain\n",
    "# pip install pypdf\n",
    "# pip install typing-extensions\n",
    "# pip install chromadb\n",
    "# pip install unstructured"
   ]
  },
  {
   "cell_type": "code",
   "execution_count": 7,
   "metadata": {},
   "outputs": [
    {
     "name": "stderr",
     "output_type": "stream",
     "text": [
      "............................................................................\n",
      "llama_new_context_with_model: n_ctx      = 32768\n",
      "llama_new_context_with_model: freq_base  = 10000.0\n",
      "llama_new_context_with_model: freq_scale = 1\n",
      "llama_new_context_with_model: KV self size  = 4096.00 MiB, K (f16): 2048.00 MiB, V (f16): 2048.00 MiB\n",
      "llama_build_graph: non-view tensors processed: 1124/1124\n",
      "llama_new_context_with_model: compute buffer total size = 2167.22 MiB\n",
      "llama_new_context_with_model: VRAM scratch buffer: 2164.04 MiB\n",
      "llama_new_context_with_model: total VRAM used: 27309.60 MiB (model: 25145.56 MiB, context: 2164.04 MiB)\n",
      "AVX = 1 | AVX2 = 1 | AVX512 = 0 | AVX512_VBMI = 0 | AVX512_VNNI = 0 | FMA = 1 | NEON = 0 | ARM_FMA = 0 | F16C = 1 | FP16_VA = 0 | WASM_SIMD = 0 | BLAS = 1 | SSE3 = 1 | SSSE3 = 1 | VSX = 0 | \n"
     ]
    }
   ],
   "source": [
    "from langchain.llms import LlamaCpp\n",
    "\n",
    "MODEL_PATH = \"../models/dolphin-2.5-mixtral-8x7b.Q4_K_M.gguf\"\n",
    "MODEL_PATH = \"/home/flash/models/dolphin-2.5-mixtral-8x7b.Q4_K_M.gguf\"\n",
    "# 38min\n",
    "# 40s\n",
    "llm = LlamaCpp(\n",
    "    model_path=MODEL_PATH,\n",
    "    n_ctx=1024 * 32,\n",
    "    n_gpu_layers=40,\n",
    "    n_threads=15,\n",
    "    n_batch=512,\n",
    "    f16_kv=True,\n",
    "    #callback_manager=callback_manager,\n",
    "    verbose=True,\n",
    "    temperature=0.2,\n",
    "    max_tokens=1024\n",
    ")"
   ]
  },
  {
   "cell_type": "code",
   "execution_count": 27,
   "metadata": {},
   "outputs": [],
   "source": [
    "def ask(user_input):\n",
    "   system_prompt = \"\"\"I'm a QA expert, I'll respond only to answers I'm confident in, and for ones I'm not sure about, I'll simply say 'I don't know'.\"\"\"\n",
    "   prompt_template = \"\"\"<|im_start|>system\n",
    "{system_prompt}<|im_end|>\n",
    "<|im_start|>user\n",
    "{user_prompt}<|im_end|>\n",
    "<|im_start|>assistant\n",
    "\"\"\"\n",
    "   prompt = prompt_template.format(system_prompt=system_prompt, user_prompt=user_input)\n",
    "   resp = llm(prompt,  \n",
    "      max_tokens=2048,\n",
    "      temperature=0.7,\n",
    "      top_p=0.1,\n",
    "      repeat_penalty=1.1)\n",
    "   return resp"
   ]
  },
  {
   "cell_type": "code",
   "execution_count": 28,
   "metadata": {},
   "outputs": [
    {
     "name": "stderr",
     "output_type": "stream",
     "text": [
      "Llama.generate: prefix-match hit\n",
      "\n",
      "llama_print_timings:        load time =    4787.84 ms\n",
      "llama_print_timings:      sample time =       2.50 ms /     7 runs   (    0.36 ms per token,  2797.76 tokens per second)\n",
      "llama_print_timings: prompt eval time =    1015.09 ms /    62 tokens (   16.37 ms per token,    61.08 tokens per second)\n",
      "llama_print_timings:        eval time =     276.69 ms /     6 runs   (   46.11 ms per token,    21.69 tokens per second)\n",
      "llama_print_timings:       total time =    1327.97 ms\n"
     ]
    },
    {
     "data": {
      "text/plain": [
       "\" I don't know.\""
      ]
     },
     "execution_count": 28,
     "metadata": {},
     "output_type": "execute_result"
    }
   ],
   "source": [
    "answer = ask(\"What is your name?\")\n",
    "answer"
   ]
  },
  {
   "cell_type": "code",
   "execution_count": 13,
   "metadata": {},
   "outputs": [],
   "source": [
    "def read_file(file):\n",
    "   with open(file, 'r', encoding='utf-8') as f:\n",
    "      return f.read()"
   ]
  },
  {
   "cell_type": "code",
   "execution_count": 2,
   "metadata": {},
   "outputs": [],
   "source": [
    "from py_standard.langchain_lit import split_documents, convert_docs_to_splits, LlmEmbedding, load_markdown_documents\n",
    "from py_standard.pdf_utils import load_pdf_documents_from_directory\n",
    "from langchain.vectorstores import Chroma\n",
    "\n",
    "EMB_MODEL = \"bge-base-en\"\n",
    "#EMB_MODEL = \"bge-large-zh-v1.5\"\n",
    "EMB_MODEL = \"UAE-Large-V1\"\n",
    "\n",
    "def load_all_pdfs(path):\n",
    "   txts = load_markdown_documents('./mds')\n",
    "   pdfs = load_pdf_documents_from_directory(path)\n",
    "   all_docs = txts + pdfs\n",
    "   docs = split_documents(all_docs, 500)\n",
    "   return docs\n",
    "   \n",
    "def load_vectorstore(docs):\n",
    "   llm_embedding = LlmEmbedding(f\"../models/{EMB_MODEL}\")\n",
    "   vectorstore = Chroma.from_documents(documents=docs,\n",
    "                                        embedding=llm_embedding.embedding,\n",
    "                                        collection_metadata={\"hnsw:space\": \"cosine\",\n",
    "                                                             \"hnsw:search_ef\" : 100})\n",
    "   return vectorstore\n",
    "   # retriever = vectorstore.as_retriever(\n",
    "   #   search_kwargs={'k': 3, 'fetch_k': 50}\n",
    "   # )\n",
    "   # return retriever\n"
   ]
  },
  {
   "cell_type": "code",
   "execution_count": 3,
   "metadata": {},
   "outputs": [
    {
     "name": "stderr",
     "output_type": "stream",
     "text": [
      "No sentence-transformers model found with name ../models/UAE-Large-V1. Creating a new one with MEAN pooling.\n"
     ]
    },
    {
     "data": {
      "text/plain": [
       "2477"
      ]
     },
     "execution_count": 3,
     "metadata": {},
     "output_type": "execute_result"
    }
   ],
   "source": [
    "docs = load_all_pdfs('./pdfs')\n",
    "vectorstore = load_vectorstore(docs)\n",
    "len(docs)"
   ]
  },
  {
   "cell_type": "code",
   "execution_count": 4,
   "metadata": {},
   "outputs": [],
   "source": [
    "def search_docs(user_query):\n",
    "   docs = vectorstore.similarity_search_with_score(user_query, k=5)\n",
    "   return docs"
   ]
  },
  {
   "cell_type": "code",
   "execution_count": 5,
   "metadata": {},
   "outputs": [
    {
     "name": "stdout",
     "output_type": "stream",
     "text": [
      "split['score']=0.29337143898010254 split['source']='mds/test.md'\n",
      "split['score']=0.38078171014785767 split['source']='pdfs/Five-CountBaccarat-Book.pdf'\n",
      "split['score']=0.38078171014785767 split['source']='pdfs/Silverthorne Publications, Inc..pdf'\n",
      "split['score']=0.4123804569244385 split['source']='pdfs/pdfcoffee.com_targetbaccarat-bookpdf-pdf-free.pdf'\n",
      "split['score']=0.4290034770965576 split['source']='pdfs/The Ultimate Baccarat Strategy.pdf'\n"
     ]
    }
   ],
   "source": [
    "question = \"What is your name?\"\n",
    "\n",
    "splits = []\n",
    "for doc, score in search_docs(question):\n",
    "   item = {\n",
    "      'page_content': doc.page_content,\n",
    "      'score': score,\n",
    "      'source': doc.metadata['source']\n",
    "   }\n",
    "   splits.append(item)\n",
    "   \n",
    "   #print(page_content)  \n",
    "#splits = convert_docs_to_splits(docs)\n",
    "for split in splits:\n",
    "   print(f\"{split['score']=} {split['source']=}\")"
   ]
  },
  {
   "cell_type": "code",
   "execution_count": 10,
   "metadata": {},
   "outputs": [],
   "source": [
    "from langchain.chains import LLMChain\n",
    "from langchain.prompts import PromptTemplate\n",
    "from langchain.chains.question_answering import load_qa_chain\n",
    "\n",
    "def create_qa_chain_prompt_template():\n",
    "    system_prompt = \"\"\"You are a helpful assistant, you will use the provided context to answer user questions.\n",
    "Read the given context before answering questions and think step by step. \n",
    "If you can not answer a user question based on the provided context, inform the user. \n",
    "Do not use any other information for answering user.\"\"\"\n",
    "\n",
    "    prompt_template = \"\"\"Instruction: Answer the question based on following context. \n",
    "If the answer cannot be found from the following context, respond with 'I don't know.'.\n",
    "Here is context to help:\n",
    "\n",
    "{context}\n",
    "    \n",
    "### QUESTION:\n",
    "{question}\n",
    "    \"\"\"\n",
    "    \n",
    "    prompt_template1 = system_prompt + \"\"\"\n",
    "Here is context to help:\n",
    "\n",
    "{context}\n",
    "    \n",
    "### QUESTION:\n",
    "{question}\n",
    "    \"\"\"\n",
    "\n",
    "    qa_chain_prompt = PromptTemplate(\n",
    "        input_variables=[\"context\", \"question\"],\n",
    "        template=prompt_template\n",
    "    )\n",
    "    return qa_chain_prompt\n",
    "\n",
    "# Chain\n",
    "qa_chain = load_qa_chain(\n",
    "    llm,\n",
    "    chain_type=\"stuff\",\n",
    "    prompt=create_qa_chain_prompt_template()\n",
    ")\n",
    "\n",
    "# Run\n",
    "def ask_qa(user_question):\n",
    "    all_docs = search_docs(user_question)\n",
    "    docs = []\n",
    "    for doc, score in all_docs:\n",
    "        docs.append(doc)\n",
    "    result = qa_chain({\n",
    "        \"input_documents\": docs,\n",
    "        \"question\": user_question\n",
    "        },\n",
    "        return_only_outputs=True\n",
    "    )\n",
    "    return result['output_text']"
   ]
  },
  {
   "cell_type": "code",
   "execution_count": 11,
   "metadata": {},
   "outputs": [
    {
     "name": "stderr",
     "output_type": "stream",
     "text": [
      "\n",
      "llama_print_timings:        load time =    2087.39 ms\n",
      "llama_print_timings:      sample time =       5.21 ms /    14 runs   (    0.37 ms per token,  2687.14 tokens per second)\n",
      "llama_print_timings: prompt eval time =    2086.66 ms /   190 tokens (   10.98 ms per token,    91.05 tokens per second)\n",
      "llama_print_timings:        eval time =     660.87 ms /    13 runs   (   50.84 ms per token,    19.67 tokens per second)\n",
      "llama_print_timings:       total time =    2791.80 ms\n"
     ]
    },
    {
     "data": {
      "text/plain": [
       "'\\nA: Your name is Astro. Flash created me.'"
      ]
     },
     "execution_count": 11,
     "metadata": {},
     "output_type": "execute_result"
    }
   ],
   "source": [
    "ask_qa(\"What is your name?\")"
   ]
  },
  {
   "cell_type": "code",
   "execution_count": 12,
   "metadata": {},
   "outputs": [
    {
     "name": "stderr",
     "output_type": "stream",
     "text": [
      "Llama.generate: prefix-match hit\n",
      "\n",
      "llama_print_timings:        load time =    2087.39 ms\n",
      "llama_print_timings:      sample time =      12.99 ms /    37 runs   (    0.35 ms per token,  2849.22 tokens per second)\n",
      "llama_print_timings: prompt eval time =    2170.95 ms /   214 tokens (   10.14 ms per token,    98.57 tokens per second)\n",
      "llama_print_timings:        eval time =    2029.62 ms /    36 runs   (   56.38 ms per token,    17.74 tokens per second)\n",
      "llama_print_timings:       total time =    4288.49 ms\n"
     ]
    },
    {
     "data": {
      "text/plain": [
       "'\\n### ANSWER:\\n Five-Count Baccarat is a variant of the card game baccarat, which has its own set of rules and strategies.'"
      ]
     },
     "execution_count": 12,
     "metadata": {},
     "output_type": "execute_result"
    }
   ],
   "source": [
    "ask_qa(\"What is Five-Count Baccarat?\")"
   ]
  },
  {
   "cell_type": "code",
   "execution_count": 13,
   "metadata": {},
   "outputs": [
    {
     "name": "stderr",
     "output_type": "stream",
     "text": [
      "Llama.generate: prefix-match hit\n",
      "\n",
      "llama_print_timings:        load time =    2087.39 ms\n",
      "llama_print_timings:      sample time =       6.20 ms /    17 runs   (    0.36 ms per token,  2741.05 tokens per second)\n",
      "llama_print_timings: prompt eval time =    4795.85 ms /   501 tokens (    9.57 ms per token,   104.47 tokens per second)\n",
      "llama_print_timings:        eval time =    1000.22 ms /    16 runs   (   62.51 ms per token,    16.00 tokens per second)\n",
      "llama_print_timings:       total time =    5833.08 ms\n"
     ]
    },
    {
     "data": {
      "text/plain": [
       "'\\n### ANSWER:\\n About 39% of its games.'"
      ]
     },
     "execution_count": 13,
     "metadata": {},
     "output_type": "execute_result"
    }
   ],
   "source": [
    "ask_qa(\"What is Flat betting won?\")"
   ]
  },
  {
   "cell_type": "code",
   "execution_count": 14,
   "metadata": {},
   "outputs": [
    {
     "name": "stderr",
     "output_type": "stream",
     "text": [
      "Llama.generate: prefix-match hit\n",
      "\n",
      "llama_print_timings:        load time =    2087.39 ms\n",
      "llama_print_timings:      sample time =       9.29 ms /    26 runs   (    0.36 ms per token,  2799.31 tokens per second)\n",
      "llama_print_timings: prompt eval time =    5189.94 ms /   531 tokens (    9.77 ms per token,   102.31 tokens per second)\n",
      "llama_print_timings:        eval time =    1544.06 ms /    25 runs   (   61.76 ms per token,    16.19 tokens per second)\n",
      "llama_print_timings:       total time =    6794.89 ms\n"
     ]
    },
    {
     "data": {
      "text/plain": [
       "'\\n### ANSWER:\\n Flat betting is when a beginner makes the same size bet over and over again.'"
      ]
     },
     "execution_count": 14,
     "metadata": {},
     "output_type": "execute_result"
    }
   ],
   "source": [
    "ask_qa(\"What is Flat betting?\")"
   ]
  },
  {
   "cell_type": "code",
   "execution_count": 15,
   "metadata": {},
   "outputs": [
    {
     "name": "stderr",
     "output_type": "stream",
     "text": [
      "Llama.generate: prefix-match hit\n",
      "\n",
      "llama_print_timings:        load time =    2087.39 ms\n",
      "llama_print_timings:      sample time =      16.98 ms /    46 runs   (    0.37 ms per token,  2708.75 tokens per second)\n",
      "llama_print_timings: prompt eval time =    5305.62 ms /   530 tokens (   10.01 ms per token,    99.89 tokens per second)\n",
      "llama_print_timings:        eval time =    2949.11 ms /    45 runs   (   65.54 ms per token,    15.26 tokens per second)\n",
      "llama_print_timings:       total time =    8404.98 ms\n"
     ]
    },
    {
     "data": {
      "text/plain": [
       "'\\n### ANSWER:\\n To engage in flat betting, you simply make the same size bet over and over again. This approach offers the greatest likelihood of keeping your bankroll, but the poorest chance of winning.'"
      ]
     },
     "execution_count": 15,
     "metadata": {},
     "output_type": "execute_result"
    }
   ],
   "source": [
    "ask_qa(\"How do you engage in Flat betting?\")"
   ]
  },
  {
   "cell_type": "code",
   "execution_count": 16,
   "metadata": {},
   "outputs": [
    {
     "name": "stderr",
     "output_type": "stream",
     "text": [
      "Llama.generate: prefix-match hit\n",
      "\n",
      "llama_print_timings:        load time =    2087.39 ms\n",
      "llama_print_timings:      sample time =      23.25 ms /    60 runs   (    0.39 ms per token,  2580.42 tokens per second)\n",
      "llama_print_timings: prompt eval time =    6686.94 ms /   680 tokens (    9.83 ms per token,   101.69 tokens per second)\n",
      "llama_print_timings:        eval time =    4330.64 ms /    59 runs   (   73.40 ms per token,    13.62 tokens per second)\n",
      "llama_print_timings:       total time =   11183.29 ms\n"
     ]
    },
    {
     "data": {
      "text/plain": [
       "'\\n### ANSWER:\\n The strategy for playing a coin-toss game is to always wager heads, never bet tie, and use a betting system that varies the size of your bankroll and the number of games played. Each game consists of 100 bets.'"
      ]
     },
     "execution_count": 16,
     "metadata": {},
     "output_type": "execute_result"
    }
   ],
   "source": [
    "ask_qa(\"What's the strategy for playing a coin-toss game?\")"
   ]
  },
  {
   "cell_type": "code",
   "execution_count": 17,
   "metadata": {},
   "outputs": [
    {
     "name": "stderr",
     "output_type": "stream",
     "text": [
      "Llama.generate: prefix-match hit\n",
      "\n",
      "llama_print_timings:        load time =    2087.39 ms\n",
      "llama_print_timings:      sample time =       8.45 ms /    23 runs   (    0.37 ms per token,  2722.54 tokens per second)\n",
      "llama_print_timings: prompt eval time =    6088.41 ms /   612 tokens (    9.95 ms per token,   100.52 tokens per second)\n",
      "llama_print_timings:        eval time =    1409.57 ms /    22 runs   (   64.07 ms per token,    15.61 tokens per second)\n",
      "llama_print_timings:       total time =    7559.31 ms\n"
     ]
    },
    {
     "data": {
      "text/plain": [
       "'\\n### ANSWER:\\n Flat betting wins 38.70% of the games.'"
      ]
     },
     "execution_count": 17,
     "metadata": {},
     "output_type": "execute_result"
    }
   ],
   "source": [
    "ask_qa(\"In betting strategies, what percentage of games does flat betting win?\")"
   ]
  },
  {
   "cell_type": "code",
   "execution_count": 18,
   "metadata": {},
   "outputs": [
    {
     "name": "stderr",
     "output_type": "stream",
     "text": [
      "Llama.generate: prefix-match hit\n",
      "\n",
      "llama_print_timings:        load time =    2087.39 ms\n",
      "llama_print_timings:      sample time =      33.84 ms /    91 runs   (    0.37 ms per token,  2689.28 tokens per second)\n",
      "llama_print_timings: prompt eval time =    5811.16 ms /   602 tokens (    9.65 ms per token,   103.59 tokens per second)\n",
      "llama_print_timings:        eval time =    6309.73 ms /    90 runs   (   70.11 ms per token,    14.26 tokens per second)\n",
      "llama_print_timings:       total time =   12327.57 ms\n"
     ]
    },
    {
     "data": {
      "text/plain": [
       "'\\n### ANSWER:\\n A starter bet is a neutral bet made only to start a game. You will need to make this bet whenever the house requires a wager in order to start a game, and you are the only player at the table. You will encounter this situation with online baccarat games where you are playing a computer-controlled game which will only deal a round of play if you have a bet placed.'"
      ]
     },
     "execution_count": 18,
     "metadata": {},
     "output_type": "execute_result"
    }
   ],
   "source": [
    "ask_qa(\"How to Starter bets?\")"
   ]
  },
  {
   "cell_type": "code",
   "execution_count": 19,
   "metadata": {},
   "outputs": [
    {
     "name": "stderr",
     "output_type": "stream",
     "text": [
      "Llama.generate: prefix-match hit\n",
      "\n",
      "llama_print_timings:        load time =    2087.39 ms\n",
      "llama_print_timings:      sample time =      38.81 ms /   102 runs   (    0.38 ms per token,  2628.19 tokens per second)\n",
      "llama_print_timings: prompt eval time =    6546.41 ms /   669 tokens (    9.79 ms per token,   102.19 tokens per second)\n",
      "llama_print_timings:        eval time =    7277.35 ms /   101 runs   (   72.05 ms per token,    13.88 tokens per second)\n",
      "llama_print_timings:       total time =   14055.21 ms\n"
     ]
    },
    {
     "data": {
      "text/plain": [
       "'\\n### ANSWER:\\n Starter bets are wagers made to start a game when you don’t have two previous decisions to observe.  You will need to make these bets whenever the house requires a wager in order to start a game and you are the only player at the table.   You will encounter this situation with online baccarat games where you are playing a computer-controlled game which will only deal a round of play if you have a bet placed.'"
      ]
     },
     "execution_count": 19,
     "metadata": {},
     "output_type": "execute_result"
    }
   ],
   "source": [
    "ask_qa(\"Can you explain the concept of 'Starter bets' as presented in the article?\")"
   ]
  },
  {
   "cell_type": "code",
   "execution_count": 20,
   "metadata": {},
   "outputs": [
    {
     "name": "stderr",
     "output_type": "stream",
     "text": [
      "Llama.generate: prefix-match hit\n",
      "\n",
      "llama_print_timings:        load time =    2087.39 ms\n",
      "llama_print_timings:      sample time =      21.87 ms /    62 runs   (    0.35 ms per token,  2834.93 tokens per second)\n",
      "llama_print_timings: prompt eval time =    4714.74 ms /   506 tokens (    9.32 ms per token,   107.32 tokens per second)\n",
      "llama_print_timings:        eval time =    3886.74 ms /    61 runs   (   63.72 ms per token,    15.69 tokens per second)\n",
      "llama_print_timings:       total time =    8738.27 ms\n"
     ]
    },
    {
     "data": {
      "text/plain": [
       "'\\n### ANSWER:\\n Attack Bets are a type of bet that follows the same playing rules for any level of play. These bets are always started at the lowest level Attack Bet and can trigger a move to Recovery Betting if the highest level Attack Bet is lost.'"
      ]
     },
     "execution_count": 20,
     "metadata": {},
     "output_type": "execute_result"
    }
   ],
   "source": [
    "ask_qa(\"What is Attack Bets?\")"
   ]
  },
  {
   "cell_type": "code",
   "execution_count": 21,
   "metadata": {},
   "outputs": [
    {
     "name": "stderr",
     "output_type": "stream",
     "text": [
      "Llama.generate: prefix-match hit\n",
      "\n",
      "llama_print_timings:        load time =    2087.39 ms\n",
      "llama_print_timings:      sample time =      12.82 ms /    35 runs   (    0.37 ms per token,  2730.32 tokens per second)\n"
     ]
    },
    {
     "data": {
      "text/plain": [
       "'\\n### ANSWER:\\n The two baccarat decisions you have to make are where do you place each bet and how much do you bet each time.'"
      ]
     },
     "execution_count": 21,
     "metadata": {},
     "output_type": "execute_result"
    },
    {
     "name": "stderr",
     "output_type": "stream",
     "text": [
      "llama_print_timings: prompt eval time =    5967.32 ms /   600 tokens (    9.95 ms per token,   100.55 tokens per second)\n",
      "llama_print_timings:        eval time =    2165.01 ms /    34 runs   (   63.68 ms per token,    15.70 tokens per second)\n",
      "llama_print_timings:       total time =    8210.66 ms\n"
     ]
    }
   ],
   "source": [
    "ask_qa(\"What are the Two Baccarat Decisions You Have to Make?\")"
   ]
  },
  {
   "cell_type": "markdown",
   "metadata": {},
   "source": [
    "####"
   ]
  },
  {
   "cell_type": "code",
   "execution_count": 31,
   "metadata": {},
   "outputs": [],
   "source": [
    "context = read_file('./data/baccarat-book.md')"
   ]
  },
  {
   "cell_type": "code",
   "execution_count": 26,
   "metadata": {},
   "outputs": [],
   "source": [
    "def split_string(text, length):\n",
    "    return [text[i:i+length] for i in range(0, len(text), length)]"
   ]
  },
  {
   "cell_type": "code",
   "execution_count": 32,
   "metadata": {},
   "outputs": [],
   "source": [
    "context_splits = split_string(context, 6000)"
   ]
  },
  {
   "cell_type": "code",
   "execution_count": 33,
   "metadata": {},
   "outputs": [
    {
     "name": "stderr",
     "output_type": "stream",
     "text": [
      "Llama.generate: prefix-match hit\n",
      "\n",
      "llama_print_timings:        load time =    1408.84 ms\n",
      "llama_print_timings:      sample time =      93.50 ms /   256 runs   (    0.37 ms per token,  2737.97 tokens per second)\n",
      "llama_print_timings: prompt eval time =   21537.70 ms /  1750 tokens (   12.31 ms per token,    81.25 tokens per second)\n",
      "llama_print_timings:        eval time =   30391.78 ms /   255 runs   (  119.18 ms per token,     8.39 tokens per second)\n",
      "llama_print_timings:       total time =   52509.51 ms\n"
     ]
    },
    {
     "data": {
      "text/plain": [
       "\" Baccarat is a popular card game played in casinos around the world. The objective of the game is for the player to predict whether the value of their hand will be closer to or equal to the value of the banker's hand. The game is usually played with eight decks of cards, and the value of each card is determined as follows: an ace counts as 1 point, a two through nine count as the face value of the card (for example, a seven counts as 7 points), and a ten or face card (king, queen) counts as 0 points. The total value of each player's hand is then calculated by adding together the values of all of the cards in that player's hand. For example, if a player was holding a two and an ace, the total value of their hand would be calculated as follows: 2 (two) + 1 (ace) = 3 points. Similarly, if a player was holding a seven and an eight, the total value of their hand would be calculated as follows: 7 (seven) + 8 (eight) = 15 points. However, since the game is usually played with eight decks of cards, and there are only two\""
      ]
     },
     "execution_count": 33,
     "metadata": {},
     "output_type": "execute_result"
    }
   ],
   "source": [
    "qa_prompt_template = \"\"\"Instruction: Answer the question based on following context. \n",
    "If the answer cannot be found from the following context, respond with 'I don't know.'.\n",
    "Here is context to help:\n",
    "\n",
    "{context}\n",
    "\n",
    "### USER QUESTION:\n",
    "{question} \n",
    "\"\"\"\n",
    "\n",
    "prompt = qa_prompt_template.format(context=context_splits[0],question=\"What is baccarat?\")\n",
    "answer = ask(prompt)\n",
    "answer"
   ]
  },
  {
   "cell_type": "code",
   "execution_count": 34,
   "metadata": {},
   "outputs": [],
   "source": [
    "def ask_qa(user_input):\n",
    "   prompt = qa_prompt_template.format(context=context_splits[0],question=user_input)\n",
    "   return ask(prompt)"
   ]
  },
  {
   "cell_type": "code",
   "execution_count": 35,
   "metadata": {},
   "outputs": [
    {
     "name": "stderr",
     "output_type": "stream",
     "text": [
      "Llama.generate: prefix-match hit\n",
      "\n",
      "llama_print_timings:        load time =    1408.84 ms\n",
      "llama_print_timings:      sample time =      44.83 ms /   120 runs   (    0.37 ms per token,  2676.90 tokens per second)\n",
      "llama_print_timings: prompt eval time =    1164.92 ms /    18 tokens (   64.72 ms per token,    15.45 tokens per second)\n",
      "llama_print_timings:        eval time =   13307.87 ms /   119 runs   (  111.83 ms per token,     8.94 tokens per second)\n",
      "llama_print_timings:       total time =   14733.31 ms\n"
     ]
    },
    {
     "data": {
      "text/plain": [
       "\" Contra-d'Alembert is a betting system in the game of roulette. The name itself is derived from French mathematician Jean le Rond d'Alembert. \\n\\nThe concept behind this betting system is contrary to that of the famous martingale betting system. Unlike the martingale system, which involves increasing your bets after losing rounds, Contra-d'Alembert requires you to decrease your bets after losing rounds and increase them after winning ones. This approach aims at minimizing losses while maximizing profits.\""
      ]
     },
     "execution_count": 35,
     "metadata": {},
     "output_type": "execute_result"
    }
   ],
   "source": [
    "answer = ask_qa(\"What is Contra-d'Alembert?\")\n",
    "answer"
   ]
  },
  {
   "cell_type": "code",
   "execution_count": 45,
   "metadata": {},
   "outputs": [
    {
     "name": "stderr",
     "output_type": "stream",
     "text": [
      "Llama.generate: prefix-match hit\n",
      "\n",
      "llama_print_timings:        load time =    1408.84 ms\n",
      "llama_print_timings:      sample time =      31.19 ms /    84 runs   (    0.37 ms per token,  2693.26 tokens per second)\n",
      "llama_print_timings: prompt eval time =    1074.32 ms /    15 tokens (   71.62 ms per token,    13.96 tokens per second)\n",
      "llama_print_timings:        eval time =    8756.51 ms /    83 runs   (  105.50 ms per token,     9.48 tokens per second)\n",
      "llama_print_timings:       total time =   10017.74 ms\n"
     ]
    },
    {
     "data": {
      "text/plain": [
       "' Tracker Betting is a betting strategy used in baccarat play. It involves tracking the results of each round of play to determine where to place bets for subsequent rounds of play. The goal of Tracker Betting is to identify patterns in the outcomes of each round of play and then use this information to make informed decisions about where to place bets in order to maximize profits and minimize losses.'"
      ]
     },
     "execution_count": 45,
     "metadata": {},
     "output_type": "execute_result"
    }
   ],
   "source": [
    "answer = ask_qa('What is \"Tracker Betting\"?')\n",
    "answer"
   ]
  },
  {
   "cell_type": "code",
   "execution_count": 44,
   "metadata": {},
   "outputs": [
    {
     "name": "stderr",
     "output_type": "stream",
     "text": [
      "Llama.generate: prefix-match hit\n",
      "\n",
      "llama_print_timings:        load time =    1408.84 ms\n",
      "llama_print_timings:      sample time =     745.15 ms /  2048 runs   (    0.36 ms per token,  2748.45 tokens per second)\n",
      "llama_print_timings: prompt eval time =    1044.97 ms /    32 tokens (   32.66 ms per token,    30.62 tokens per second)\n",
      "llama_print_timings:        eval time =  334022.37 ms /  2047 runs   (  163.18 ms per token,     6.13 tokens per second)\n",
      "llama_print_timings:       total time =  342075.28 ms\n"
     ]
    },
    {
     "data": {
      "text/plain": [
       "' A: Sure, here are some questions and answers based on the context provided:\\n\\nQ1: What is Target Baccarat?\\nA1: Target Baccarat is a professional-level baccarat betting strategy that has never lost in over 10,000 documented games played by real players.\\nQ2: How does Target Baccarat work?\\nA2: Target Baccarat uses a combination of Target Betting and Tracker Betting to determine where to bet and how much to bet. The strategy also includes a Unique Bet Timing System that is used to pick the optimal time to place each bet.\\n\\nQ3: What are some key features of Target Baccarat?\\nA3: Some key features of Target Baccarat include its ability to consistently produce explosive profits, its use of a combination of Target Betting and Tracker Betting to determine where to bet and how much to bet, its inclusion of a Unique Bet Timing System that is used to pick the optimal time to place each bet, and its overall ease of use and ability to be quickly learned and easily applied by both new and experienced baccarat players alike.\\n\\nQ4: How does Target Baccarat determine where to bet?\\nA4: Target Baccarat uses a combination of Target Betting and Tracker Betting to determine where to bet. The strategy first uses Target Betting to set up a predetermined profit target that is used as the basis for determining where to place each bet. The strategy then uses Tracker Betting to track and monitor the ongoing progress and performance of each individual bet that is placed during the course of play, in order to ensure that each individual bet that is placed is consistently producing optimal results and outcomes in terms of maximizing profits and minimizing losses for each individual bet that is placed.\\n\\nQ5: How does Target Baccarat determine how much to bet?\\nA5: Target Baccarat uses a combination of Target Betting and Tracker Betting to determine where to bet, as well as how much to bet. The strategy first uses Target Betting to set up a predetermined profit target that is used as the basis for determining where to place each bet. The strategy then uses Tracker Betting to track and monitor the ongoing progress and performance of each individual bet that is placed during the course of play, in order to ensure that each individual bet that is placed is consistently producing optimal results and outcomes in terms of maximizing profits and minimizing losses for each individual bet that is placed.\\n\\nQ6: How does Target Baccarat use a Unique Bet Timing System to pick where to bet?\\nA6: Target Baccarat uses a combination of Target Betting and Tracker Betting to determine where to bet, as well as how much to bet. The strategy first uses Target Betting to set up a predetermined profit target that is used as the basis for determining where to place each bet. The strategy then uses Tracker Betting to track and monitor the ongoing progress and performance of each individual bet that is placed during the course of play, in order to ensure that each individual bet that is placed is consistently producing optimal results and outcomes in terms of maximizing profits and minimizing losses for each individual bet that is placed.\\n\\nQ7: How does Target Baccarat adjust the amounts bet using a Bet Sizing Strategy?\\nA7: Target Baccarat uses a combination of Target Betting and Tracker Betting to determine where to bet, as well as how much to bet. The strategy first uses Target Betting to set up a predetermined profit target that is used as the basis for determining where to place each bet. The strategy then uses Tracker Betting to track and monitor the ongoing progress and performance of each individual bet that is placed during the course of play, in order to ensure that each individual bet that is placed is consistently producing optimal results and outcomes in terms of maximizing profits and minimizing losses for each individual bet that is placed.\\n\\nQ8: How does Target Baccarat use a Unique Bet Timing System to pick the optimal time to place each bet?\\nA8: Target Baccarat uses a combination of Target Betting and Tracker Betting to determine where to bet, as well as how much to bet. The strategy first uses Target Betting to set up a predetermined profit target that is used as the basis for determining where to place each bet. The strategy then uses Tracker Betting to track and monitor the ongoing progress and performance of each individual bet that is placed during the course of play, in order to ensure that each individual bet that is placed is consistently producing optimal results and outcomes in terms of maximizing profits and minimizing losses for each individual bet that is placed.\\n\\nQ9: How does Target Baccarat use a Unique Bet Timing System to pick the optimal time to place each bet?\\nA9: Target Baccarat uses a combination of Target Betting and Tracker Betting to determine where to bet, as well as how much to bet. The strategy first uses Target Betting to set up a predetermined profit target that is used as the basis for determining where to place each bet. The strategy then uses Tracker Betting to track and monitor the ongoing progress and performance of each individual bet that is placed during the course of play, in order to ensure that each individual bet that is placed is consistently producing optimal results and outcomes in terms of maximizing profits and minimizing losses for each individual bet that is placed.\\n\\nQ10: How does Target Baccarat use a Unique Bet Timing System to pick the optimal time to place each bet?\\nA10: Target Baccarat uses a combination of Target Betting and Tracker Betting to determine where to bet, as well as how much to bet. The strategy first uses Target Betting to set up a predetermined profit target that is used as the basis for determining where to place each bet. The strategy then uses Tracker Betting to track and monitor the ongoing progress and performance of each individual bet that is placed during the course of play, in order to ensure that each individual bet that is placed is consistently producing optimal results and outcomes in terms of maximizing profits and minimizing losses for each individual bet that is placed.\\n\\nQ11: How does Target Baccarat use a Unique Bet Timing System to pick the optimal time to place each bet?\\nA11: Target Baccarat uses a combination of Target Betting and Tracker Betting to determine where to bet, as well as how much to bet. The strategy first uses Target Betting to set up a predetermined profit target that is used as the basis for determining where to place each bet. The strategy then uses Tracker Betting to track and monitor the ongoing progress and performance of each individual bet that is placed during the course of play, in order to ensure that each individual bet that is placed is consistently producing optimal results and outcomes in terms of maximizing profits and minimizing losses for each individual bet that is placed.\\n\\nQ12: How does Target Baccarat use a Unique Bet Timing System to pick the optimal time to place each bet?\\nA12: Target Baccarat uses a combination of Target Betting and Tracker Betting to determine where to bet, as well as how much to bet. The strategy first uses Target Betting to set up a predetermined profit target that is used as the basis for determining where to place each bet. The strategy then uses Tracker Betting to track and monitor the ongoing progress and performance of each individual bet that is placed during the course of play, in order to ensure that each individual bet that is placed is consistently producing optimal results and outcomes in terms of maximizing profits and minimizing losses for each individual bet that is placed.\\n\\nQ13: How does Target Baccarat use a Unique Bet Timing System to pick the optimal time to place each bet?\\nA13: Target Baccarat uses a combination of Target Betting and Tracker Betting to determine where to bet, as well as how much to bet. The strategy first uses Target Betting to set up a predetermined profit target that is used as the basis for determining where to place each bet. The strategy then uses Tracker Betting to track and monitor the ongoing progress and performance of each individual bet that is placed during the course of play, in order to ensure that each individual bet that is placed is consistently producing optimal results and outcomes in terms of maximizing profits and minimizing losses for each individual bet that is placed.\\n\\nQ14: How does Target Baccarat use a Unique Bet Timing System to pick the optimal time to place each bet?\\nA14: Target Baccarat uses a combination of Target Betting and Tracker Betting to determine where to bet, as well as how much to bet. The strategy first uses Target Betting to set up a predetermined profit target that is used as the basis for determining where to place each bet. The strategy then uses Tracker Betting to track and monitor the ongoing progress and performance of each individual bet that is placed during the course of play, in order to ensure that each individual bet that is placed is consistently producing optimal results and outcomes in terms of maximizing profits and minimizing losses for each individual bet that is placed.\\n\\nQ15: How does Target Baccarat use a Unique Bet Timing System to pick the optimal time to place each bet?\\nA15: Target Baccarat uses a combination of Target'"
      ]
     },
     "execution_count": 44,
     "metadata": {},
     "output_type": "execute_result"
    }
   ],
   "source": [
    "answer = ask_qa('Generate many questions(Q:) and answers(A:), and the answers must be contained in the above content.')\n",
    "answer"
   ]
  },
  {
   "cell_type": "code",
   "execution_count": 43,
   "metadata": {},
   "outputs": [
    {
     "name": "stderr",
     "output_type": "stream",
     "text": [
      "Llama.generate: prefix-match hit\n",
      "\n",
      "llama_print_timings:        load time =    1408.84 ms\n",
      "llama_print_timings:      sample time =      33.60 ms /    89 runs   (    0.38 ms per token,  2648.49 tokens per second)\n",
      "llama_print_timings: prompt eval time =       0.00 ms /     1 tokens (    0.00 ms per token,      inf tokens per second)\n",
      "llama_print_timings:        eval time =    9647.51 ms /    89 runs   (  108.40 ms per token,     9.23 tokens per second)\n",
      "llama_print_timings:       total time =    9841.62 ms\n"
     ]
    },
    {
     "data": {
      "text/plain": [
       "' Target Baccarat is a professional-level baccarat strategy that has never lost. It uses Target Betting, a system borrowed from stock trading, to set up winning bets. The strategy also determines the size of bets using a Unique Betting Strategy. Overall, Target Baccarat provides an easy-to-learn and use professional-level baccarat strategy that has never lost.'"
      ]
     },
     "execution_count": 43,
     "metadata": {},
     "output_type": "execute_result"
    }
   ],
   "source": [
    "answer = ask_qa('summarize the context')\n",
    "answer"
   ]
  }
 ],
 "metadata": {
  "kernelspec": {
   "display_name": "tune2",
   "language": "python",
   "name": "python3"
  },
  "language_info": {
   "codemirror_mode": {
    "name": "ipython",
    "version": 3
   },
   "file_extension": ".py",
   "mimetype": "text/x-python",
   "name": "python",
   "nbconvert_exporter": "python",
   "pygments_lexer": "ipython3",
   "version": "3.9.18"
  }
 },
 "nbformat": 4,
 "nbformat_minor": 2
}
