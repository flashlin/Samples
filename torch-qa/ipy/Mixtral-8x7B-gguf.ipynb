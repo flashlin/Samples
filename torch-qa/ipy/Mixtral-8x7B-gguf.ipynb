{
 "cells": [
  {
   "cell_type": "code",
   "execution_count": 3,
   "metadata": {},
   "outputs": [],
   "source": [
    "from langchain.llms import LlamaCpp"
   ]
  },
  {
   "cell_type": "code",
   "execution_count": null,
   "metadata": {},
   "outputs": [],
   "source": [
    "# pip install sentence_transformers\n",
    "# pip install langchain\n",
    "# pip install pypdf\n",
    "# pip install typing-extensions==4.8.0\n",
    "# pip install chromadb"
   ]
  },
  {
   "cell_type": "code",
   "execution_count": null,
   "metadata": {},
   "outputs": [],
   "source": [
    "MODEL_PATH = \"../models/dolphin-2.5-mixtral-8x7b.Q4_K_M.gguf\"\n",
    "MODEL_PATH = \"/home/flash/models/dolphin-2.5-mixtral-8x7b.Q4_K_M.gguf\"\n",
    "# 38min\n",
    "# 40s\n",
    "llm = LlamaCpp(\n",
    "    model_path=MODEL_PATH,\n",
    "    n_ctx=1024 * 32,\n",
    "    n_gpu_layers=40,\n",
    "    n_threads=15,\n",
    "    n_batch=512,\n",
    "    f16_kv=True,\n",
    "    #callback_manager=callback_manager,\n",
    "    verbose=True,\n",
    ")"
   ]
  },
  {
   "cell_type": "code",
   "execution_count": 6,
   "metadata": {},
   "outputs": [],
   "source": [
    "system_prompt = \"\"\"I'm a QA expert, I'll respond only to answers I'm confident in, and for ones I'm not sure about, I'll simply say 'I don't know'.\"\"\""
   ]
  },
  {
   "cell_type": "code",
   "execution_count": 7,
   "metadata": {},
   "outputs": [],
   "source": [
    "prompt_template = \"\"\"<|im_start|>system\n",
    "{system_prompt}<|im_end|>\n",
    "<|im_start|>user\n",
    "{user_prompt}<|im_end|>\n",
    "<|im_start|>assistant\n",
    "\"\"\""
   ]
  },
  {
   "cell_type": "code",
   "execution_count": 8,
   "metadata": {},
   "outputs": [],
   "source": [
    "def ask(user_input):\n",
    "   prompt = prompt_template.format(system_prompt=system_prompt, user_prompt=user_input)\n",
    "   resp = llm(prompt,  \n",
    "      max_tokens=2048,\n",
    "      temperature=0.7,\n",
    "      top_p=0.1,\n",
    "      repeat_penalty=1.1)\n",
    "   return resp"
   ]
  },
  {
   "cell_type": "code",
   "execution_count": 9,
   "metadata": {},
   "outputs": [
    {
     "name": "stderr",
     "output_type": "stream",
     "text": [
      "\n",
      "llama_print_timings:        load time =    1002.43 ms\n",
      "llama_print_timings:      sample time =       2.47 ms /     7 runs   (    0.35 ms per token,  2836.30 tokens per second)\n",
      "llama_print_timings: prompt eval time =    1000.54 ms /    63 tokens (   15.88 ms per token,    62.97 tokens per second)\n",
      "llama_print_timings:        eval time =     275.20 ms /     6 runs   (   45.87 ms per token,    21.80 tokens per second)\n",
      "llama_print_timings:       total time =    1313.20 ms\n"
     ]
    },
    {
     "data": {
      "text/plain": [
       "\" I don't know.\""
      ]
     },
     "execution_count": 9,
     "metadata": {},
     "output_type": "execute_result"
    }
   ],
   "source": [
    "answer = ask(\"What is your name?\")\n",
    "answer"
   ]
  },
  {
   "cell_type": "code",
   "execution_count": 13,
   "metadata": {},
   "outputs": [],
   "source": [
    "def read_file(file):\n",
    "   with open(file, 'r', encoding='utf-8') as f:\n",
    "      return f.read()"
   ]
  },
  {
   "cell_type": "code",
   "execution_count": 1,
   "metadata": {},
   "outputs": [],
   "source": [
    "from py_standard.langchain_lit import split_documents, convert_docs_to_splits, LlmEmbedding\n",
    "from py_standard.pdf_utils import load_pdf_documents_from_directory\n",
    "from langchain.vectorstores import Chroma\n",
    "\n",
    "EMB_MODEL = \"bge-base-en\"\n",
    "def load_all_pdfs(path):\n",
    "   pdfs = load_pdf_documents_from_directory(path)\n",
    "   docs = split_documents(pdfs, 1000 * 10)\n",
    "   return docs\n",
    "   \n",
    "def load_vectorstore(docs):\n",
    "   llm_embedding = LlmEmbedding(f\"../models/{EMB_MODEL}\")\n",
    "   vectorstore = Chroma.from_documents(documents=docs,\n",
    "                                        embedding=llm_embedding.embedding)\n",
    "   return vectorstore\n",
    "   # retriever = vectorstore.as_retriever(\n",
    "   #   search_kwargs={'k': 3, 'fetch_k': 50}\n",
    "   # )\n",
    "   # return retriever\n"
   ]
  },
  {
   "cell_type": "code",
   "execution_count": 2,
   "metadata": {},
   "outputs": [],
   "source": [
    "docs = load_all_pdfs('./pdfs')\n",
    "vectorstore = load_vectorstore(docs)"
   ]
  },
  {
   "cell_type": "code",
   "execution_count": 13,
   "metadata": {},
   "outputs": [
    {
     "name": "stdout",
     "output_type": "stream",
     "text": [
      "split['source']='pdfs/Silverthorne Publications, Inc..pdf'\n",
      "split['source']='pdfs/Five-CountBaccarat-Book.pdf'\n",
      "split['source']='pdfs/Five-CountBaccarat-Book.pdf'\n",
      "split['source']='pdfs/Silverthorne Publications, Inc..pdf'\n"
     ]
    }
   ],
   "source": [
    "question = \"What is Five-Count Baccarat?\"\n",
    "docs = vectorstore.similarity_search(question)\n",
    "splits = convert_docs_to_splits(docs)\n",
    "for split in splits:\n",
    "   print(f\"{split['source']=}\")"
   ]
  },
  {
   "cell_type": "code",
   "execution_count": 17,
   "metadata": {},
   "outputs": [
    {
     "name": "stderr",
     "output_type": "stream",
     "text": [
      "Llama.generate: prefix-match hit\n",
      "\n",
      "llama_print_timings:        load time =    1002.43 ms\n",
      "llama_print_timings:      sample time =      96.68 ms /   256 runs   (    0.38 ms per token,  2647.97 tokens per second)\n",
      "llama_print_timings: prompt eval time =       0.00 ms /     1 tokens (    0.00 ms per token,      inf tokens per second)\n",
      "llama_print_timings:        eval time =   27949.25 ms /   256 runs   (  109.18 ms per token,     9.16 tokens per second)\n",
      "llama_print_timings:       total time =   28566.84 ms\n"
     ]
    },
    {
     "data": {
      "text/plain": [
       "'Answer: Five-Count Baccarat is a betting system used in the card game baccarat. This system is based on tracking consecutive wins or losses for either the Player or Banker hand, and adjusting the bet size accordingly. The term \"Five-Count\" refers to the fact that this system tracks a series of five consecutive wins or losses before adjusting the bet size.\\nThe Five-Count Baccarat betting system is designed to optimize a player\\'s chances of winning in baccarat by adjusting the bet size based on tracking consecutive wins or losses for either the Player or Banker hand. The system is based on the assumption that after five consecutive wins or losses, the next card dealt is likely to be of a different value than the previous ones, thereby creating a situation where the betting odds are more favorable to the player who adjusts their bet size accordingly.\\nThe Five-Count Baccarat betting system is relatively simple to understand and implement in one\\'s own baccarat gameplay. The basic steps involved in using this system in one\\'s own baccarat gameplay are as follows:\\n1. Choose a starting bet amount that is comfortable and affordable for you to'"
      ]
     },
     "execution_count": 17,
     "metadata": {},
     "output_type": "execute_result"
    }
   ],
   "source": [
    "from langchain.chains import LLMChain\n",
    "from langchain.prompts import PromptTemplate\n",
    "from langchain.chains.question_answering import load_qa_chain\n",
    "\n",
    "system_prompt = \"\"\"You are a helpful assistant, you will use the provided context to answer user questions.\n",
    "Read the given context before answering questions and think step by step. If you can not answer a user question based on\n",
    "the provided context, inform the user. Do not use any other information for answering user\"\"\"\n",
    "\n",
    "prompt_template = \"\"\"\n",
    "Context: {context}\n",
    "User: {question}\n",
    "\"\"\"\n",
    "\n",
    "QA_CHAIN_PROMPT = PromptTemplate(\n",
    "    input_variables=[\"context\", \"question\"],\n",
    "    template=prompt_template\n",
    ")\n",
    "\n",
    "# Chain\n",
    "qa_chain = load_qa_chain(\n",
    "    llm,\n",
    "    chain_type=\"stuff\",\n",
    "    prompt=QA_CHAIN_PROMPT\n",
    ")\n",
    "\n",
    "# Run\n",
    "question = \"What is Five-Count Baccarat?\"\n",
    "docs = vectorstore.similarity_search(question)\n",
    "result = qa_chain({\n",
    "    \"input_documents\": docs,\n",
    "    \"question\": question\n",
    "    },\n",
    "    return_only_outputs=True\n",
    ")\n",
    "\n",
    "# Output\n",
    "result['output_text']"
   ]
  },
  {
   "cell_type": "code",
   "execution_count": 31,
   "metadata": {},
   "outputs": [],
   "source": [
    "context = read_file('./data/baccarat-book.md')"
   ]
  },
  {
   "cell_type": "code",
   "execution_count": 26,
   "metadata": {},
   "outputs": [],
   "source": [
    "def split_string(text, length):\n",
    "    return [text[i:i+length] for i in range(0, len(text), length)]"
   ]
  },
  {
   "cell_type": "code",
   "execution_count": 32,
   "metadata": {},
   "outputs": [],
   "source": [
    "context_splits = split_string(context, 6000)"
   ]
  },
  {
   "cell_type": "code",
   "execution_count": 33,
   "metadata": {},
   "outputs": [
    {
     "name": "stderr",
     "output_type": "stream",
     "text": [
      "Llama.generate: prefix-match hit\n",
      "\n",
      "llama_print_timings:        load time =    1408.84 ms\n",
      "llama_print_timings:      sample time =      93.50 ms /   256 runs   (    0.37 ms per token,  2737.97 tokens per second)\n",
      "llama_print_timings: prompt eval time =   21537.70 ms /  1750 tokens (   12.31 ms per token,    81.25 tokens per second)\n",
      "llama_print_timings:        eval time =   30391.78 ms /   255 runs   (  119.18 ms per token,     8.39 tokens per second)\n",
      "llama_print_timings:       total time =   52509.51 ms\n"
     ]
    },
    {
     "data": {
      "text/plain": [
       "\" Baccarat is a popular card game played in casinos around the world. The objective of the game is for the player to predict whether the value of their hand will be closer to or equal to the value of the banker's hand. The game is usually played with eight decks of cards, and the value of each card is determined as follows: an ace counts as 1 point, a two through nine count as the face value of the card (for example, a seven counts as 7 points), and a ten or face card (king, queen) counts as 0 points. The total value of each player's hand is then calculated by adding together the values of all of the cards in that player's hand. For example, if a player was holding a two and an ace, the total value of their hand would be calculated as follows: 2 (two) + 1 (ace) = 3 points. Similarly, if a player was holding a seven and an eight, the total value of their hand would be calculated as follows: 7 (seven) + 8 (eight) = 15 points. However, since the game is usually played with eight decks of cards, and there are only two\""
      ]
     },
     "execution_count": 33,
     "metadata": {},
     "output_type": "execute_result"
    }
   ],
   "source": [
    "qa_prompt_template = \"\"\"Instruction: Answer the question based on following context. \n",
    "If the answer cannot be found from the following context, respond with 'I don't know.'.\n",
    "Here is context to help:\n",
    "\n",
    "{context}\n",
    "\n",
    "### USER QUESTION:\n",
    "{question} \n",
    "\"\"\"\n",
    "\n",
    "prompt = qa_prompt_template.format(context=context_splits[0],question=\"What is baccarat?\")\n",
    "answer = ask(prompt)\n",
    "answer"
   ]
  },
  {
   "cell_type": "code",
   "execution_count": 34,
   "metadata": {},
   "outputs": [],
   "source": [
    "def ask_qa(user_input):\n",
    "   prompt = qa_prompt_template.format(context=context_splits[0],question=user_input)\n",
    "   return ask(prompt)"
   ]
  },
  {
   "cell_type": "code",
   "execution_count": 35,
   "metadata": {},
   "outputs": [
    {
     "name": "stderr",
     "output_type": "stream",
     "text": [
      "Llama.generate: prefix-match hit\n",
      "\n",
      "llama_print_timings:        load time =    1408.84 ms\n",
      "llama_print_timings:      sample time =      44.83 ms /   120 runs   (    0.37 ms per token,  2676.90 tokens per second)\n",
      "llama_print_timings: prompt eval time =    1164.92 ms /    18 tokens (   64.72 ms per token,    15.45 tokens per second)\n",
      "llama_print_timings:        eval time =   13307.87 ms /   119 runs   (  111.83 ms per token,     8.94 tokens per second)\n",
      "llama_print_timings:       total time =   14733.31 ms\n"
     ]
    },
    {
     "data": {
      "text/plain": [
       "\" Contra-d'Alembert is a betting system in the game of roulette. The name itself is derived from French mathematician Jean le Rond d'Alembert. \\n\\nThe concept behind this betting system is contrary to that of the famous martingale betting system. Unlike the martingale system, which involves increasing your bets after losing rounds, Contra-d'Alembert requires you to decrease your bets after losing rounds and increase them after winning ones. This approach aims at minimizing losses while maximizing profits.\""
      ]
     },
     "execution_count": 35,
     "metadata": {},
     "output_type": "execute_result"
    }
   ],
   "source": [
    "answer = ask_qa(\"What is Contra-d'Alembert?\")\n",
    "answer"
   ]
  },
  {
   "cell_type": "code",
   "execution_count": 45,
   "metadata": {},
   "outputs": [
    {
     "name": "stderr",
     "output_type": "stream",
     "text": [
      "Llama.generate: prefix-match hit\n",
      "\n",
      "llama_print_timings:        load time =    1408.84 ms\n",
      "llama_print_timings:      sample time =      31.19 ms /    84 runs   (    0.37 ms per token,  2693.26 tokens per second)\n",
      "llama_print_timings: prompt eval time =    1074.32 ms /    15 tokens (   71.62 ms per token,    13.96 tokens per second)\n",
      "llama_print_timings:        eval time =    8756.51 ms /    83 runs   (  105.50 ms per token,     9.48 tokens per second)\n",
      "llama_print_timings:       total time =   10017.74 ms\n"
     ]
    },
    {
     "data": {
      "text/plain": [
       "' Tracker Betting is a betting strategy used in baccarat play. It involves tracking the results of each round of play to determine where to place bets for subsequent rounds of play. The goal of Tracker Betting is to identify patterns in the outcomes of each round of play and then use this information to make informed decisions about where to place bets in order to maximize profits and minimize losses.'"
      ]
     },
     "execution_count": 45,
     "metadata": {},
     "output_type": "execute_result"
    }
   ],
   "source": [
    "answer = ask_qa('What is \"Tracker Betting\"?')\n",
    "answer"
   ]
  },
  {
   "cell_type": "code",
   "execution_count": 44,
   "metadata": {},
   "outputs": [
    {
     "name": "stderr",
     "output_type": "stream",
     "text": [
      "Llama.generate: prefix-match hit\n",
      "\n",
      "llama_print_timings:        load time =    1408.84 ms\n",
      "llama_print_timings:      sample time =     745.15 ms /  2048 runs   (    0.36 ms per token,  2748.45 tokens per second)\n",
      "llama_print_timings: prompt eval time =    1044.97 ms /    32 tokens (   32.66 ms per token,    30.62 tokens per second)\n",
      "llama_print_timings:        eval time =  334022.37 ms /  2047 runs   (  163.18 ms per token,     6.13 tokens per second)\n",
      "llama_print_timings:       total time =  342075.28 ms\n"
     ]
    },
    {
     "data": {
      "text/plain": [
       "' A: Sure, here are some questions and answers based on the context provided:\\n\\nQ1: What is Target Baccarat?\\nA1: Target Baccarat is a professional-level baccarat betting strategy that has never lost in over 10,000 documented games played by real players.\\nQ2: How does Target Baccarat work?\\nA2: Target Baccarat uses a combination of Target Betting and Tracker Betting to determine where to bet and how much to bet. The strategy also includes a Unique Bet Timing System that is used to pick the optimal time to place each bet.\\n\\nQ3: What are some key features of Target Baccarat?\\nA3: Some key features of Target Baccarat include its ability to consistently produce explosive profits, its use of a combination of Target Betting and Tracker Betting to determine where to bet and how much to bet, its inclusion of a Unique Bet Timing System that is used to pick the optimal time to place each bet, and its overall ease of use and ability to be quickly learned and easily applied by both new and experienced baccarat players alike.\\n\\nQ4: How does Target Baccarat determine where to bet?\\nA4: Target Baccarat uses a combination of Target Betting and Tracker Betting to determine where to bet. The strategy first uses Target Betting to set up a predetermined profit target that is used as the basis for determining where to place each bet. The strategy then uses Tracker Betting to track and monitor the ongoing progress and performance of each individual bet that is placed during the course of play, in order to ensure that each individual bet that is placed is consistently producing optimal results and outcomes in terms of maximizing profits and minimizing losses for each individual bet that is placed.\\n\\nQ5: How does Target Baccarat determine how much to bet?\\nA5: Target Baccarat uses a combination of Target Betting and Tracker Betting to determine where to bet, as well as how much to bet. The strategy first uses Target Betting to set up a predetermined profit target that is used as the basis for determining where to place each bet. The strategy then uses Tracker Betting to track and monitor the ongoing progress and performance of each individual bet that is placed during the course of play, in order to ensure that each individual bet that is placed is consistently producing optimal results and outcomes in terms of maximizing profits and minimizing losses for each individual bet that is placed.\\n\\nQ6: How does Target Baccarat use a Unique Bet Timing System to pick where to bet?\\nA6: Target Baccarat uses a combination of Target Betting and Tracker Betting to determine where to bet, as well as how much to bet. The strategy first uses Target Betting to set up a predetermined profit target that is used as the basis for determining where to place each bet. The strategy then uses Tracker Betting to track and monitor the ongoing progress and performance of each individual bet that is placed during the course of play, in order to ensure that each individual bet that is placed is consistently producing optimal results and outcomes in terms of maximizing profits and minimizing losses for each individual bet that is placed.\\n\\nQ7: How does Target Baccarat adjust the amounts bet using a Bet Sizing Strategy?\\nA7: Target Baccarat uses a combination of Target Betting and Tracker Betting to determine where to bet, as well as how much to bet. The strategy first uses Target Betting to set up a predetermined profit target that is used as the basis for determining where to place each bet. The strategy then uses Tracker Betting to track and monitor the ongoing progress and performance of each individual bet that is placed during the course of play, in order to ensure that each individual bet that is placed is consistently producing optimal results and outcomes in terms of maximizing profits and minimizing losses for each individual bet that is placed.\\n\\nQ8: How does Target Baccarat use a Unique Bet Timing System to pick the optimal time to place each bet?\\nA8: Target Baccarat uses a combination of Target Betting and Tracker Betting to determine where to bet, as well as how much to bet. The strategy first uses Target Betting to set up a predetermined profit target that is used as the basis for determining where to place each bet. The strategy then uses Tracker Betting to track and monitor the ongoing progress and performance of each individual bet that is placed during the course of play, in order to ensure that each individual bet that is placed is consistently producing optimal results and outcomes in terms of maximizing profits and minimizing losses for each individual bet that is placed.\\n\\nQ9: How does Target Baccarat use a Unique Bet Timing System to pick the optimal time to place each bet?\\nA9: Target Baccarat uses a combination of Target Betting and Tracker Betting to determine where to bet, as well as how much to bet. The strategy first uses Target Betting to set up a predetermined profit target that is used as the basis for determining where to place each bet. The strategy then uses Tracker Betting to track and monitor the ongoing progress and performance of each individual bet that is placed during the course of play, in order to ensure that each individual bet that is placed is consistently producing optimal results and outcomes in terms of maximizing profits and minimizing losses for each individual bet that is placed.\\n\\nQ10: How does Target Baccarat use a Unique Bet Timing System to pick the optimal time to place each bet?\\nA10: Target Baccarat uses a combination of Target Betting and Tracker Betting to determine where to bet, as well as how much to bet. The strategy first uses Target Betting to set up a predetermined profit target that is used as the basis for determining where to place each bet. The strategy then uses Tracker Betting to track and monitor the ongoing progress and performance of each individual bet that is placed during the course of play, in order to ensure that each individual bet that is placed is consistently producing optimal results and outcomes in terms of maximizing profits and minimizing losses for each individual bet that is placed.\\n\\nQ11: How does Target Baccarat use a Unique Bet Timing System to pick the optimal time to place each bet?\\nA11: Target Baccarat uses a combination of Target Betting and Tracker Betting to determine where to bet, as well as how much to bet. The strategy first uses Target Betting to set up a predetermined profit target that is used as the basis for determining where to place each bet. The strategy then uses Tracker Betting to track and monitor the ongoing progress and performance of each individual bet that is placed during the course of play, in order to ensure that each individual bet that is placed is consistently producing optimal results and outcomes in terms of maximizing profits and minimizing losses for each individual bet that is placed.\\n\\nQ12: How does Target Baccarat use a Unique Bet Timing System to pick the optimal time to place each bet?\\nA12: Target Baccarat uses a combination of Target Betting and Tracker Betting to determine where to bet, as well as how much to bet. The strategy first uses Target Betting to set up a predetermined profit target that is used as the basis for determining where to place each bet. The strategy then uses Tracker Betting to track and monitor the ongoing progress and performance of each individual bet that is placed during the course of play, in order to ensure that each individual bet that is placed is consistently producing optimal results and outcomes in terms of maximizing profits and minimizing losses for each individual bet that is placed.\\n\\nQ13: How does Target Baccarat use a Unique Bet Timing System to pick the optimal time to place each bet?\\nA13: Target Baccarat uses a combination of Target Betting and Tracker Betting to determine where to bet, as well as how much to bet. The strategy first uses Target Betting to set up a predetermined profit target that is used as the basis for determining where to place each bet. The strategy then uses Tracker Betting to track and monitor the ongoing progress and performance of each individual bet that is placed during the course of play, in order to ensure that each individual bet that is placed is consistently producing optimal results and outcomes in terms of maximizing profits and minimizing losses for each individual bet that is placed.\\n\\nQ14: How does Target Baccarat use a Unique Bet Timing System to pick the optimal time to place each bet?\\nA14: Target Baccarat uses a combination of Target Betting and Tracker Betting to determine where to bet, as well as how much to bet. The strategy first uses Target Betting to set up a predetermined profit target that is used as the basis for determining where to place each bet. The strategy then uses Tracker Betting to track and monitor the ongoing progress and performance of each individual bet that is placed during the course of play, in order to ensure that each individual bet that is placed is consistently producing optimal results and outcomes in terms of maximizing profits and minimizing losses for each individual bet that is placed.\\n\\nQ15: How does Target Baccarat use a Unique Bet Timing System to pick the optimal time to place each bet?\\nA15: Target Baccarat uses a combination of Target'"
      ]
     },
     "execution_count": 44,
     "metadata": {},
     "output_type": "execute_result"
    }
   ],
   "source": [
    "answer = ask_qa('Generate many questions(Q:) and answers(A:), and the answers must be contained in the above content.')\n",
    "answer"
   ]
  },
  {
   "cell_type": "code",
   "execution_count": 43,
   "metadata": {},
   "outputs": [
    {
     "name": "stderr",
     "output_type": "stream",
     "text": [
      "Llama.generate: prefix-match hit\n",
      "\n",
      "llama_print_timings:        load time =    1408.84 ms\n",
      "llama_print_timings:      sample time =      33.60 ms /    89 runs   (    0.38 ms per token,  2648.49 tokens per second)\n",
      "llama_print_timings: prompt eval time =       0.00 ms /     1 tokens (    0.00 ms per token,      inf tokens per second)\n",
      "llama_print_timings:        eval time =    9647.51 ms /    89 runs   (  108.40 ms per token,     9.23 tokens per second)\n",
      "llama_print_timings:       total time =    9841.62 ms\n"
     ]
    },
    {
     "data": {
      "text/plain": [
       "' Target Baccarat is a professional-level baccarat strategy that has never lost. It uses Target Betting, a system borrowed from stock trading, to set up winning bets. The strategy also determines the size of bets using a Unique Betting Strategy. Overall, Target Baccarat provides an easy-to-learn and use professional-level baccarat strategy that has never lost.'"
      ]
     },
     "execution_count": 43,
     "metadata": {},
     "output_type": "execute_result"
    }
   ],
   "source": [
    "answer = ask_qa('summarize the context')\n",
    "answer"
   ]
  }
 ],
 "metadata": {
  "kernelspec": {
   "display_name": "tune2",
   "language": "python",
   "name": "python3"
  },
  "language_info": {
   "codemirror_mode": {
    "name": "ipython",
    "version": 3
   },
   "file_extension": ".py",
   "mimetype": "text/x-python",
   "name": "python",
   "nbconvert_exporter": "python",
   "pygments_lexer": "ipython3",
   "version": "3.9.18"
  }
 },
 "nbformat": 4,
 "nbformat_minor": 2
}
