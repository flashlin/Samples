{
 "cells": [
  {
   "cell_type": "code",
   "execution_count": null,
   "metadata": {},
   "outputs": [],
   "source": [
    "# pip install sentence_transformers\n",
    "# pip install langchain\n",
    "# pip install pypdf\n",
    "# pip install typing-extensions\n",
    "# pip install chromadb\n",
    "# pip install unstructured"
   ]
  },
  {
   "cell_type": "code",
   "execution_count": 1,
   "metadata": {},
   "outputs": [
    {
     "name": "stderr",
     "output_type": "stream",
     "text": [
      "ggml_init_cublas: GGML_CUDA_FORCE_MMQ:   no\n",
      "ggml_init_cublas: CUDA_USE_TENSOR_CORES: yes\n",
      "ggml_init_cublas: found 1 CUDA devices:\n",
      "  Device 0: NVIDIA RTX A6000, compute capability 8.6\n",
      "llama_model_loader: loaded meta data with 25 key-value pairs and 995 tensors from /home/flash/models/dolphin-2.5-mixtral-8x7b.Q5_K_M.gguf (version GGUF V3 (latest))\n",
      "llama_model_loader: Dumping metadata keys/values. Note: KV overrides do not apply in this output.\n",
      "llama_model_loader: - kv   0:                       general.architecture str              = llama\n",
      "llama_model_loader: - kv   1:                               general.name str              = ehartford_dolphin-2.5-mixtral-8x7b\n",
      "llama_model_loader: - kv   2:                       llama.context_length u32              = 32768\n",
      "llama_model_loader: - kv   3:                     llama.embedding_length u32              = 4096\n",
      "llama_model_loader: - kv   4:                          llama.block_count u32              = 32\n",
      "llama_model_loader: - kv   5:                  llama.feed_forward_length u32              = 14336\n",
      "llama_model_loader: - kv   6:                 llama.rope.dimension_count u32              = 128\n",
      "llama_model_loader: - kv   7:                 llama.attention.head_count u32              = 32\n",
      "llama_model_loader: - kv   8:              llama.attention.head_count_kv u32              = 8\n",
      "llama_model_loader: - kv   9:                         llama.expert_count u32              = 8\n",
      "llama_model_loader: - kv  10:                    llama.expert_used_count u32              = 2\n",
      "llama_model_loader: - kv  11:     llama.attention.layer_norm_rms_epsilon f32              = 0.000010\n",
      "llama_model_loader: - kv  12:                       llama.rope.freq_base f32              = 1000000.000000\n",
      "llama_model_loader: - kv  13:                          general.file_type u32              = 17\n",
      "llama_model_loader: - kv  14:                       tokenizer.ggml.model str              = llama\n",
      "llama_model_loader: - kv  15:                      tokenizer.ggml.tokens arr[str,32002]   = [\"<unk>\", \"<s>\", \"</s>\", \"<0x00>\", \"<...\n",
      "llama_model_loader: - kv  16:                      tokenizer.ggml.scores arr[f32,32002]   = [0.000000, 0.000000, 0.000000, 0.0000...\n",
      "llama_model_loader: - kv  17:                  tokenizer.ggml.token_type arr[i32,32002]   = [2, 3, 3, 6, 6, 6, 6, 6, 6, 6, 6, 6, ...\n",
      "llama_model_loader: - kv  18:                tokenizer.ggml.bos_token_id u32              = 1\n",
      "llama_model_loader: - kv  19:                tokenizer.ggml.eos_token_id u32              = 32000\n",
      "llama_model_loader: - kv  20:            tokenizer.ggml.padding_token_id u32              = 0\n",
      "llama_model_loader: - kv  21:               tokenizer.ggml.add_bos_token bool             = true\n",
      "llama_model_loader: - kv  22:               tokenizer.ggml.add_eos_token bool             = false\n",
      "llama_model_loader: - kv  23:                    tokenizer.chat_template str              = {% if not add_generation_prompt is de...\n",
      "llama_model_loader: - kv  24:               general.quantization_version u32              = 2\n",
      "llama_model_loader: - type  f32:   65 tensors\n",
      "llama_model_loader: - type  f16:   32 tensors\n",
      "llama_model_loader: - type q8_0:   64 tensors\n",
      "llama_model_loader: - type q5_K:  833 tensors\n",
      "llama_model_loader: - type q6_K:    1 tensors\n",
      "llm_load_vocab: special tokens definition check successful ( 261/32002 ).\n",
      "llm_load_print_meta: format           = GGUF V3 (latest)\n",
      "llm_load_print_meta: arch             = llama\n",
      "llm_load_print_meta: vocab type       = SPM\n",
      "llm_load_print_meta: n_vocab          = 32002\n",
      "llm_load_print_meta: n_merges         = 0\n",
      "llm_load_print_meta: n_ctx_train      = 32768\n",
      "llm_load_print_meta: n_embd           = 4096\n",
      "llm_load_print_meta: n_head           = 32\n",
      "llm_load_print_meta: n_head_kv        = 8\n",
      "llm_load_print_meta: n_layer          = 32\n",
      "llm_load_print_meta: n_rot            = 128\n",
      "llm_load_print_meta: n_gqa            = 4\n",
      "llm_load_print_meta: f_norm_eps       = 0.0e+00\n",
      "llm_load_print_meta: f_norm_rms_eps   = 1.0e-05\n",
      "llm_load_print_meta: f_clamp_kqv      = 0.0e+00\n",
      "llm_load_print_meta: f_max_alibi_bias = 0.0e+00\n",
      "llm_load_print_meta: n_ff             = 14336\n",
      "llm_load_print_meta: n_expert         = 8\n",
      "llm_load_print_meta: n_expert_used    = 2\n",
      "llm_load_print_meta: rope scaling     = linear\n",
      "llm_load_print_meta: freq_base_train  = 1000000.0\n",
      "llm_load_print_meta: freq_scale_train = 1\n",
      "llm_load_print_meta: n_yarn_orig_ctx  = 32768\n",
      "llm_load_print_meta: rope_finetuned   = unknown\n",
      "llm_load_print_meta: model type       = 7B\n",
      "llm_load_print_meta: model ftype      = Q5_K - Medium\n",
      "llm_load_print_meta: model params     = 46.70 B\n",
      "llm_load_print_meta: model size       = 30.02 GiB (5.52 BPW) \n",
      "llm_load_print_meta: general.name     = ehartford_dolphin-2.5-mixtral-8x7b\n",
      "llm_load_print_meta: BOS token        = 1 '<s>'\n",
      "llm_load_print_meta: EOS token        = 32000 '<|im_end|>'\n",
      "llm_load_print_meta: UNK token        = 0 '<unk>'\n",
      "llm_load_print_meta: PAD token        = 0 '<unk>'\n",
      "llm_load_print_meta: LF token         = 13 '<0x0A>'\n",
      "llm_load_tensors: ggml ctx size       =    0.38 MiB\n",
      "llm_load_tensors: using CUDA for GPU acceleration\n",
      "llm_load_tensors: system memory used  =   86.32 MiB\n",
      "llm_load_tensors: VRAM used           = 30649.56 MiB\n",
      "llm_load_tensors: offloading 32 repeating layers to GPU\n",
      "llm_load_tensors: offloading non-repeating layers to GPU\n",
      "llm_load_tensors: offloaded 33/33 layers to GPU\n",
      "....................................................................................................\n",
      "llama_new_context_with_model: n_ctx      = 32768\n",
      "llama_new_context_with_model: freq_base  = 10000.0\n",
      "llama_new_context_with_model: freq_scale = 1\n",
      "llama_new_context_with_model: KV self size  = 4096.00 MiB, K (f16): 2048.00 MiB, V (f16): 2048.00 MiB\n",
      "llama_build_graph: non-view tensors processed: 1124/1124\n",
      "llama_new_context_with_model: compute buffer total size = 2167.22 MiB\n",
      "llama_new_context_with_model: VRAM scratch buffer: 2164.04 MiB\n",
      "llama_new_context_with_model: total VRAM used: 32813.60 MiB (model: 30649.56 MiB, context: 2164.04 MiB)\n",
      "AVX = 1 | AVX2 = 1 | AVX512 = 0 | AVX512_VBMI = 0 | AVX512_VNNI = 0 | FMA = 1 | NEON = 0 | ARM_FMA = 0 | F16C = 1 | FP16_VA = 0 | WASM_SIMD = 0 | BLAS = 1 | SSE3 = 1 | SSSE3 = 1 | VSX = 0 | \n"
     ]
    }
   ],
   "source": [
    "from langchain.llms import LlamaCpp\n",
    "\n",
    "MODEL_PATH = \"../models/dolphin-2.5-mixtral-8x7b.Q4_K_M.gguf\"\n",
    "MODEL_PATH = \"/home/flash/models/dolphin-2.5-mixtral-8x7b.Q4_K_M.gguf\"\n",
    "MODEL_PATH = \"/home/flash/models/dolphin-2.5-mixtral-8x7b.Q5_K_M.gguf\"\n",
    "# 38min\n",
    "# 40s\n",
    "llm = LlamaCpp(\n",
    "    model_path=MODEL_PATH,\n",
    "    n_ctx=1024 * 32,\n",
    "    n_gpu_layers=40,\n",
    "    n_threads=15,\n",
    "    n_batch=512,\n",
    "    f16_kv=True,\n",
    "    #callback_manager=callback_manager,\n",
    "    verbose=True,\n",
    "    temperature=0.2,\n",
    "    max_tokens=1024\n",
    ")"
   ]
  },
  {
   "cell_type": "code",
   "execution_count": 75,
   "metadata": {},
   "outputs": [],
   "source": [
    "def ask(user_input):\n",
    "   system_prompt = \"\"\"I'm a QA expert, I'll respond only to answers I'm confident in, and for ones I'm not sure about, I'll simply say 'I don't know'.\"\"\"\n",
    "   prompt_template = \"\"\"<|im_start|>system\n",
    "{system_prompt}<|im_end|>\n",
    "<|im_start|>user\n",
    "{user_prompt}<|im_end|>\n",
    "<|im_start|>assistant\n",
    "\"\"\"\n",
    "   prompt = prompt_template.format(system_prompt=system_prompt, user_prompt=user_input)\n",
    "   resp = llm(prompt,  \n",
    "      max_tokens=1024 * 2,\n",
    "      temperature=0.7,\n",
    "      top_p=0.3,\n",
    "      repeat_penalty=1.2)\n",
    "   return resp"
   ]
  },
  {
   "cell_type": "code",
   "execution_count": 3,
   "metadata": {},
   "outputs": [
    {
     "name": "stderr",
     "output_type": "stream",
     "text": [
      "\n",
      "llama_print_timings:        load time =    1063.27 ms\n",
      "llama_print_timings:      sample time =       2.55 ms /     7 runs   (    0.36 ms per token,  2748.33 tokens per second)\n",
      "llama_print_timings: prompt eval time =    1062.51 ms /    63 tokens (   16.87 ms per token,    59.29 tokens per second)\n",
      "llama_print_timings:        eval time =     287.66 ms /     6 runs   (   47.94 ms per token,    20.86 tokens per second)\n",
      "llama_print_timings:       total time =    1371.42 ms\n"
     ]
    },
    {
     "data": {
      "text/plain": [
       "\" I don't know.\""
      ]
     },
     "execution_count": 3,
     "metadata": {},
     "output_type": "execute_result"
    }
   ],
   "source": [
    "answer = ask(\"What is your name?\")\n",
    "answer"
   ]
  },
  {
   "cell_type": "code",
   "execution_count": 13,
   "metadata": {},
   "outputs": [],
   "source": [
    "def read_file(file):\n",
    "   with open(file, 'r', encoding='utf-8') as f:\n",
    "      return f.read()"
   ]
  },
  {
   "cell_type": "code",
   "execution_count": 122,
   "metadata": {},
   "outputs": [],
   "source": [
    "from py_standard.langchain_lit import split_documents, convert_docs_to_splits, LlmEmbedding, load_markdown_documents\n",
    "from py_standard.pdf_utils import load_pdf_documents_from_directory\n",
    "from langchain.vectorstores import Chroma\n",
    "\n",
    "EMB_MODEL = \"bge-base-en\"\n",
    "#EMB_MODEL = \"bge-large-en-v1.5\"\n",
    "EMB_MODEL = \"bge-large-zh-v1.5\"\n",
    "#EMB_MODEL = \"UAE-Large-V1\"\n",
    "\n",
    "def load_all_pdfs(path):\n",
    "   txts = load_markdown_documents('./mds')\n",
    "   pdfs = load_pdf_documents_from_directory(path)\n",
    "   all_docs = txts + pdfs\n",
    "   docs = split_documents(all_docs, 1000 * 8)\n",
    "   return docs\n",
    "   \n",
    "def load_vectorstore(docs):\n",
    "   llm_embedding = LlmEmbedding(f\"../models/{EMB_MODEL}\")\n",
    "   vectorstore = Chroma.from_documents(documents=docs,\n",
    "                                        embedding=llm_embedding.embedding,\n",
    "                                        collection_metadata={\"hnsw:space\": \"cosine\",\n",
    "                                                             \"hnsw:search_ef\" : 100})\n",
    "   return vectorstore\n"
   ]
  },
  {
   "cell_type": "code",
   "execution_count": 123,
   "metadata": {},
   "outputs": [
    {
     "data": {
      "text/plain": [
       "10"
      ]
     },
     "execution_count": 123,
     "metadata": {},
     "output_type": "execute_result"
    }
   ],
   "source": [
    "docs = load_all_pdfs('./data-user')\n",
    "vectorstore = load_vectorstore(docs)\n",
    "len(docs)"
   ]
  },
  {
   "cell_type": "code",
   "execution_count": 124,
   "metadata": {},
   "outputs": [],
   "source": [
    "import re\n",
    "\n",
    "def split_terms_content(terms_content):\n",
    "   terms = terms_content.split('\\n')\n",
    "   pattern = re.compile(r'\\d+\\.(.*)')\n",
    "   new_terms = []\n",
    "   for line in terms:\n",
    "      match = pattern.match(line)\n",
    "      if match:\n",
    "         new_terms.append(match.group(1).lstrip())\n",
    "      else:\n",
    "         new_terms.append(line)\n",
    "   return new_terms\n",
    "\n",
    "def generate_terms(content):\n",
    "   prompt_template = \"\"\"{content}\n",
    "----------\n",
    "Randomly select 10 common terms used in the content above, and list them out line by line for me.\n",
    "Response Format:\n",
    "Banker\n",
    "Player\n",
    "\"\"\"\n",
    "   prompt = prompt_template.format(content=content)\n",
    "   answer = ask(prompt)\n",
    "   return split_terms_content(answer)\n",
    "\n",
    "def generate_qa_by_term(content, term):\n",
    "   prompt_template = \"\"\"{content}\n",
    "----------\n",
    "Generate a random question related to the keyword '{term}' from the above content and provide the corresponding answer.\n",
    "The answer of which must contain part of the content above.\n",
    "Response Format:\n",
    "Question: What is your name?\n",
    "Answer: My name is Astro.\n",
    "\"\"\"\n",
    "   prompt = prompt_template.format(content=content, term=term)\n",
    "   return ask(prompt)\n",
    "\n",
    "   \n",
    "def generate_summary(content):\n",
    "   prompt_template = \"\"\"{content}\n",
    "----------\n",
    "Summarize the content above within a length of 1500 characters and directly provide the summary.\n",
    "\"\"\"\n",
    "   prompt = prompt_template.format(content=content)\n",
    "   return ask(prompt)\n",
    "\n",
    "def generate_qa_by_summary(content):\n",
    "   return generate_qa(content=content)\n",
    "\n",
    "\n",
    "def generate_qa(content):\n",
    "   prompt_template = \"\"\"{content}\n",
    "----------\n",
    "Your role is that of a teacher, and you need to create 10 questions for students to comprehensively understand the content above.\n",
    "According to the above content, please generate several questions,\n",
    "the answer of which must contain all or part of the content above.\n",
    "The total content of the generated questions and answers must cover at least 80% of the above content.\n",
    "Please do not generate duplicate questions.\n",
    "Every question number must be prefixed with the keyword \"Question\".\n",
    "Response example:\n",
    "Question: What is your name?\n",
    "Answer: My name is Astro.\"\"\"\n",
    "   prompt = prompt_template.format(content=content)\n",
    "   return ask(prompt)\n",
    "\n",
    "\n",
    "\n",
    "\n",
    "\n",
    "def generate_qa_by_steps(content):\n",
    "   prompt_template = \"\"\"{content}\n",
    "----------\n",
    "Identify step-related content within the above text and generate corresponding questions. \n",
    "The answers to these questions must be the step-related content from the text. \n",
    "If no step-related content is found, please respond with an empty string.\n",
    "Response example:\n",
    "Question: What is your name?\n",
    "Answer: My name is Astro.\"\"\"\n",
    "   prompt = prompt_template.format(content=content)\n",
    "   return ask(prompt)\n",
    "\n",
    "def ask_qa(content, question):\n",
    "   prompt_template = \"\"\"{content}\n",
    "----------\n",
    "{question}\"\"\"\n",
    "\n",
    "   prompt = prompt_template.format(content=content, question=question)\n",
    "   return ask(prompt)\n"
   ]
  },
  {
   "cell_type": "code",
   "execution_count": 125,
   "metadata": {},
   "outputs": [
    {
     "data": {
      "text/plain": [
       "\"What's payout of natural win for dragon bonus in live baccarat\\nIn Live Baccarat, a natural win for the Dragon Bonus typically pays 1:1. This occurs when the winning hand, whether it's the player's or banker's hand, wins naturally without any point differences.\\n\\nIn Dragon Bonus, a natural win occurs when a selected hand wins by a natural 8 or 9. \\nIf the hand you bet on as the Dragon Bonus wins with a natural 8 or 9 against the opposing hand, \\nthe casino pays you at odds of 1:1.\\n\\nIf i bet on dragon bonus, the result is 6 point different. what's the payout?\\nDragon Bonus in Baccarat typically pays 6 to 1 if the hand you've bet on wins by a margin of at least 4 points.\\n\\nWhat is Dragon Bonus payout?\\nThe Dragon Bonus payout in Baccarat varies based on different scenarios:\\n* Natural Win (8 or 9): Pays 1:1\\n* Non-Natural Win (3 points difference or more): Up to 30:1\\n\\nWhat is double bet button?\\nDOUBLE bet button will enable player to double up all the unconfirmed bets which have been placed on the table. Any bet which has been placed and confirmed will not be doubled.\\n\\nWhat is the payout if banker wins with 2 cards in Fortune Six?\\n In Fortune Six, if the Banker wins with a two-card hand, it typically pays 1:1.\\n\\nWhat is Fortune Six?\\nFortune Six is one of the side bet in Live Baccarat. \\nThe bet will be paid if the Banker hand wins with a total of six. \\nIt pays 20 to 1 if the Banker hand wins with a total of six and it composed of three cards, and 12 to 1 if composed of two cards.\\n* Banker wins with 3 cards totaling 6: 20 to 1.\\n* Banker wins with 2 cards totaling 6: 12 to 1.\\n* All other result: Lose\\n\\nWhat is the payout for Fortune Six?\\nIt pays 20 to 1 if the Banker hand wins with a total of six and it composed of three cards, and 12 to 1 if composed of two cards.\\n* Banker wins with 3 cards totaling 6: 20 to 1.\\n* Banker wins with 2 cards totaling 6: 12 to 1.\\n* All other result: Lose\\n\\nIs Fortune Six only paid if the Banker hand wins with a total of six?\\nYes, the Fortune Six side bet in Baccarat is generally paid out only when the Banker's hand wins with a total point count of exactly six. If the Banker wins with any other total count or if the Player hand wins, the Fortune Six side bet typically loses. This specific side bet is contingent upon the Banker's hand achieving a total point count of six for it to pay out.\\n\\nIs Fortune Six paid differently depending on the number of cards used to make the total of six?\\nYes, Fortune Six will be paid differently depending on the number of cards used to make the total of six. If the Banker hand wins with a total of six and composed of three cards, it will pay 20 to 1. If the Banker hand wins with a total of six and composed of two cards, it will pay 12 to 1.\\n\\nWhat is the payout for Fortune Six if the Banker hand wins with a total of six and composed of two cards?\\nThe payout for Fortune Six if the Banker hand wins with a total of six and composed of two cards is 12 to 1.\\n\\nWhat is the payout for Fortune Six if the Banker hand wins with a total of six and composed of three cards?\\nThe payout for Fortune Six if the Banker hand wins with a total of six and composed of three cards is 20 to 1.\\n\\nWhat is the payout for Fortune Six if the Banker hand does not win with a total of six?\\n Fortune Six will not be paid if the Banker hand does not win with a total of six.\\n\\nWhat is a sign at the table in Baccarat?\\n A sign at the table in Baccarat indicates that a player must have a Baccarat wager on the Player's Hand, Banker's Hand or Tie in order to place a Tiger wager.\\n\\nWhat happens if the Banker hand with two cards totaling 0 in Baccarat?\\n When the Banker has a total of 0 with two cards, they draw a third card. However, if the Player has a total of 8 or 9 with two cards, the Banker does not draw another card.\\n\\nWhat happens if the Banker hand with two cards totaling 1 in Baccarat?\\n When the Banker has a total of 1 with two cards, they draw a third card. However, if the Player has a total of 8 or 9 with two cards, the Banker does not draw another card.\\n\\nWhat happens if the Banker hand with two cards totaling 2 in Baccarat?\\n When the Banker has a total of 2 with two cards, they draw a third card. However, if the Player has a total of 8 or 9 with two cards, the Banker does not draw another card.\\n\\nWhat happens if the Banker hand with two cards totaling three in Baccarat?\\n When the Banker has a total of 3 with two cards, they draw a third card. However, if the Player draws a card totaling 8, the Banker does not draw another card.\\n\\nWhat happens if the Banker hand with two cards totaling four in Baccarat?\\n When the Banker has a total of 4 with two cards and the Player draws a third card with a total of 2 to 7, the Banker will draw a third card.\\n\\nWhat happens if the Banker hand with two cards totaling five in Baccarat?\\n When the Banker has a total of 5 with two cards and the Player draws a third card with a total of 4 to 7, the Banker will draw a third card.\\n\\nWhat happens if the Banker hand with two cards totaling six in Baccarat?\\n When the Banker has a total of 6 with two cards and the Player draws a third card with a total of 6 or 7, the Banker will draw a third card.\\n\\nWhat happens if the Banker hand with two cards totaling 7 in Baccarat?\\n When the Banker has a total of 7 with two cards, does not draw another card.\\n\\nWhat happens if the Banker hand with two cards totaling 8 in Baccarat?\\n When the Banker has a total of 8 with two cards, does not draw another card.\\n\\nWhat happens if the Banker hand with two cards totaling 9 in Baccarat?\\n When the Banker has a total of 9 with two cards, does not draw another card.\\n\\nWhat are the differences between Fortune Six and Baccarat?\\n Fortune Six is a variant of Baccarat, primarily distinguished by its odds and specific game rules.\\nFortune Six is one of the side bet in Live Baccarat. \\nThe bet will be paid if the Banker hand wins with a total of six. \\nIt pays 20 to 1 if the Banker hand wins with a total of six and it composed of three cards, and 12 to 1 if composed of two cards.\\n* Banker wins with 3 cards totaling 6: 20 to 1.\\n* Banker wins with 2 cards totaling 6: 12 to 1.\\n* All other result: Lose\\n\\nAre there any common terms in Baccarat that novice players should understand?\\n Sure, here are some common terms in Baccarat that can be helpful for beginners:\\n* Banker: One of the betting sides, referring to the side where bets can be placed to win the round.\\n* Player: One of the betting sides, referring to the side where bets can be placed to win the round against the Banker.\\n* Tie: Predicting that the final points of both the Player and Banker will be equal, resulting in a tie.\\n* Natural: Refers to a total of 8 or 9 points from the first two cards dealt to either the Player or Banker.\\n* Roadmap: A chart or record that tracks past game results, used to observe historical trends.\\n* Drawing: In specific situations, either the Player or Banker will receive a third card to get closer to a total point value of 9.\\n\\nwhat is the payout if i bet on fortun six bet option in live baccarat. and result is banker win with 2 cards.\\n The payout for the Fortune Six bet option in live baccarat, when the Banker wins with a two-card hand, is usually 20:1.\\n\\nWhat is a non-natural win in Baccarat?\\n In Baccarat, a non-natural win refers to a winning hand that isn't a natural. A natural win occurs when the first two cards dealt to either the Player or the Banker total 8 or 9. If neither the Player nor the Banker achieves a natural win, the game proceeds, and additional cards might be drawn according to specific drawing rules.\\n\\nA non-natural win occurs when one side's final hand value is closer to 9 than the other but hasn't achieved an initial total of 8 or 9 with the first two cards. For instance, if the Player's or Banker's hand totals 6 or 7 at the end of the round and is higher than the opposing hand, it would result in a non-natural win for that side.\""
      ]
     },
     "execution_count": 125,
     "metadata": {},
     "output_type": "execute_result"
    }
   ],
   "source": [
    "doc = docs[0]\n",
    "page_content = doc.page_content\n",
    "page_content"
   ]
  },
  {
   "cell_type": "code",
   "execution_count": 54,
   "metadata": {},
   "outputs": [
    {
     "name": "stderr",
     "output_type": "stream",
     "text": [
      "Llama.generate: prefix-match hit\n",
      "\n",
      "llama_print_timings:        load time =    1063.27 ms\n",
      "llama_print_timings:      sample time =      22.54 ms /    61 runs   (    0.37 ms per token,  2706.54 tokens per second)\n",
      "llama_print_timings: prompt eval time =       0.00 ms /     1 tokens (    0.00 ms per token,      inf tokens per second)\n",
      "llama_print_timings:        eval time =    8985.07 ms /    61 runs   (  147.30 ms per token,     6.79 tokens per second)\n",
      "llama_print_timings:       total time =    9121.60 ms\n"
     ]
    },
    {
     "data": {
      "text/plain": [
       "[' Banker',\n",
       " ' Player',\n",
       " ' Tie Bet',\n",
       " ' Pair Bet',\n",
       " ' Dragon Bonus',\n",
       " ' Fortune Six',\n",
       " ' Non-natural Win',\n",
       " ' Natural Win',\n",
       " ' Roadmap',\n",
       " ' Drawing Cards',\n",
       " ' Third Card',\n",
       " ' Payoff Odds',\n",
       " ' Return to Player (RTP)',\n",
       " ' Theoretical Return to Player']"
      ]
     },
     "execution_count": 54,
     "metadata": {},
     "output_type": "execute_result"
    }
   ],
   "source": [
    "answer_terms = generate_terms(page_content)\n",
    "answer_terms"
   ]
  },
  {
   "cell_type": "code",
   "execution_count": 69,
   "metadata": {},
   "outputs": [
    {
     "name": "stderr",
     "output_type": "stream",
     "text": [
      "Llama.generate: prefix-match hit\n",
      "\n",
      "llama_print_timings:        load time =    1063.27 ms\n",
      "llama_print_timings:      sample time =      38.19 ms /    93 runs   (    0.41 ms per token,  2435.26 tokens per second)\n",
      "llama_print_timings: prompt eval time =    2442.98 ms /    64 tokens (   38.17 ms per token,    26.20 tokens per second)\n",
      "llama_print_timings:        eval time =   14076.57 ms /    92 runs   (  153.01 ms per token,     6.54 tokens per second)\n",
      "llama_print_timings:       total time =   16805.96 ms\n"
     ]
    },
    {
     "data": {
      "text/plain": [
       "\" Question: What are tie bets in Baccarat?\\nAnswer: In Baccarat, a tie bet refers to wagering on both the Player and Banker hands ending up with the same total points. If you bet on a tie and the final result is a tie between the two hands, you'll receive higher odds. However, ties are relatively rare, so this type of bet usually comes with higher payout odds.\""
      ]
     },
     "execution_count": 69,
     "metadata": {},
     "output_type": "execute_result"
    }
   ],
   "source": [
    "answer = generate_qa_by_term(page_content, answer_terms[0])\n",
    "answer"
   ]
  },
  {
   "cell_type": "code",
   "execution_count": 78,
   "metadata": {},
   "outputs": [
    {
     "name": "stderr",
     "output_type": "stream",
     "text": [
      "Llama.generate: prefix-match hit\n",
      "\n",
      "llama_print_timings:        load time =    1063.27 ms\n",
      "llama_print_timings:      sample time =      92.69 ms /   235 runs   (    0.39 ms per token,  2535.33 tokens per second)\n",
      "llama_print_timings: prompt eval time =    3439.11 ms /    29 tokens (  118.59 ms per token,     8.43 tokens per second)\n",
      "llama_print_timings:        eval time =   39245.38 ms /   234 runs   (  167.72 ms per token,     5.96 tokens per second)\n",
      "llama_print_timings:       total time =   43743.75 ms\n"
     ]
    },
    {
     "data": {
      "text/plain": [
       "\" Live Dealer Baccarat is an online casino game that combines elements of chance, skill, strategy, and psychology to create a realistic gaming environment in real time for players who enjoy playing games with live human dealers dealing physical cards on screen while they play from their own personal computers or mobile devices. The objective of the game is for each player to bet on whichever of two hands, the player's hand or the banker's hand, that the Player thinks will have a point value closest to 9 after all relevant and applicable rules, conditions, stipulations, requirements, limitations, caveats, exceptions, exclusions, qualifications, provisions, terms, and other factors are taken into account. The player can also bet on a tie. The game is presented to the Player with a live person dealing the cards on screen to provide the Player with a realistic gaming environment in real time. The theoretical return to player of this game is 98.41%. Over a long period of time, the game is likely to average a return to the Player of 98.48% of the total bets made.\""
      ]
     },
     "execution_count": 78,
     "metadata": {},
     "output_type": "execute_result"
    }
   ],
   "source": [
    "answer_summary = generate_summary(page_content)\n",
    "answer_summary"
   ]
  },
  {
   "cell_type": "code",
   "execution_count": 81,
   "metadata": {},
   "outputs": [
    {
     "name": "stderr",
     "output_type": "stream",
     "text": [
      "Llama.generate: prefix-match hit\n",
      "\n",
      "llama_print_timings:        load time =    1063.27 ms\n",
      "llama_print_timings:      sample time =     119.30 ms /   325 runs   (    0.37 ms per token,  2724.32 tokens per second)\n",
      "llama_print_timings: prompt eval time =    4976.84 ms /   365 tokens (   13.64 ms per token,    73.34 tokens per second)\n",
      "llama_print_timings:        eval time =   22500.36 ms /   324 runs   (   69.45 ms per token,    14.40 tokens per second)\n",
      "llama_print_timings:       total time =   28401.29 ms\n"
     ]
    },
    {
     "data": {
      "text/plain": [
       "\" Question: What is Live Dealer Baccarat?\\nAnswer: Live Dealer Baccarat is an online casino game that combines elements of chance, skill, strategy, and psychology to create a realistic gaming environment in real time for players who enjoy playing games with live human dealers dealing physical cards on screen while they play from their own personal computers or mobile devices.\\nQuestion: What are the objectives of Live Dealer Baccarat?\\nAnswer: The objective of Live Dealer Baccarat is for each player to bet on whichever of two hands, the player's hand or the banker's hand, that the Player thinks will have a point value closest to 9 after all relevant and applicable rules, conditions, stipulations, requirements, limitations, caveats, exceptions, exclusions, qualifications, provisions, terms, and other factors are taken into account. The player can also bet on a tie.\\nQuestion: How is Live Dealer Baccarat presented to the Player?\\nAnswer: Live Dealer Baccarat is presented to the Player with a live person dealing the cards on screen to provide the Player with a realistic gaming environment in real time.\\nQuestion: What is the theoretical return to player of Live Dealer Baccarat?\\nAnswer: The theoretical return to player of this game is 98.41%. Over a long period of time, the game is likely to average a return to the Player of 98.48% of the total bets made.\""
      ]
     },
     "execution_count": 81,
     "metadata": {},
     "output_type": "execute_result"
    }
   ],
   "source": [
    "answer = generate_qa_by_summary(answer_summary)\n",
    "answer"
   ]
  },
  {
   "cell_type": "code",
   "execution_count": null,
   "metadata": {},
   "outputs": [],
   "source": [
    "answer_terms = answer\n",
    "for term in answer_terms:\n",
    "   answer = generate_qa_by_term(page_content, term)\n",
    "   print(answer)"
   ]
  },
  {
   "cell_type": "code",
   "execution_count": 131,
   "metadata": {},
   "outputs": [
    {
     "name": "stderr",
     "output_type": "stream",
     "text": [
      "[nltk_data] Downloading package punkt to /home/flash/nltk_data...\n",
      "[nltk_data]   Package punkt is already up-to-date!\n"
     ]
    }
   ],
   "source": [
    "import nltk\n",
    "import re\n",
    "nltk.download('punkt')\n",
    "\n",
    "def extract_question_sentences_from_content(content):\n",
    "   sentences = nltk.sent_tokenize(content)\n",
    "   question_sentences = [sentence for sentence in sentences if re.search(r'^\\s*(?:Who|What|When|Where|Why|Which|How|Is|Are|Was|Were|Do|Does|Did|Can|Could|Will|Would|Should|May|Might).*\\?', sentence)]\n",
    "   #for question in question_sentences:\n",
    "   #   print(question)\n",
    "   return question_sentences\n",
    "\n",
    "def extract_number_sentences_from_content(content):\n",
    "   sentences = nltk.sent_tokenize(content)\n",
    "   number_sentences = [sentence for sentence in sentences if re.search(r'\\d', sentence)]\n",
    "   return number_sentences\n",
    "\n",
    "def generate_qa_from_question(content, question):\n",
    "   answer = ask_qa(content, question)\n",
    "   text = f\"Question: {question}\\n\" + \"Answer: \" + answer\n",
    "   return text\n",
    "\n",
    "def generate_qa_from_questions(content, questions):\n",
    "   answers = []\n",
    "   for question in questions:\n",
    "      answer = ask_qa(content, question)\n",
    "      text = f\"Question: {question}\\n\" + \"Answer: \" + answer\n",
    "      answers.append(text)\n",
    "   return answers\n",
    "\n",
    "def generate_qa_from_number_sentence(content, number_sentence):\n",
    "   question_for_number_sentence = f\"\"\"Based on the above content, generate a question where the answer must include '{number_sentence}'.\"\"\"\n",
    "   question = ask_qa(content, question_for_number_sentence)\n",
    "   return f\"Question: {question}\\n\" + \"Answer: \" + number_sentence\n",
    "      "
   ]
  },
  {
   "cell_type": "code",
   "execution_count": 127,
   "metadata": {},
   "outputs": [
    {
     "data": {
      "text/plain": [
       "['What is Dragon Bonus payout?',\n",
       " 'What is the payout if banker wins with 2 cards in Fortune Six?',\n",
       " 'What is Fortune Six?',\n",
       " 'Is Fortune Six paid differently depending on the number of cards used to make the total of six?',\n",
       " 'What is the payout for Fortune Six if the Banker hand wins with a total of six and composed of two cards?',\n",
       " 'What is the payout for Fortune Six if the Banker hand wins with a total of six and composed of three cards?',\n",
       " 'What is the payout for Fortune Six if the Banker hand does not win with a total of six?',\n",
       " 'What is a sign at the table in Baccarat?',\n",
       " 'What happens if the Banker hand with two cards totaling 0 in Baccarat?',\n",
       " 'What happens if the Banker hand with two cards totaling 1 in Baccarat?',\n",
       " 'What happens if the Banker hand with two cards totaling 2 in Baccarat?',\n",
       " 'What happens if the Banker hand with two cards totaling three in Baccarat?',\n",
       " 'What happens if the Banker hand with two cards totaling four in Baccarat?',\n",
       " 'What happens if the Banker hand with two cards totaling five in Baccarat?',\n",
       " 'What happens if the Banker hand with two cards totaling six in Baccarat?',\n",
       " 'What happens if the Banker hand with two cards totaling 7 in Baccarat?',\n",
       " 'What happens if the Banker hand with two cards totaling 8 in Baccarat?',\n",
       " 'What happens if the Banker hand with two cards totaling 9 in Baccarat?',\n",
       " 'What are the differences between Fortune Six and Baccarat?',\n",
       " 'What is a non-natural win in Baccarat?']"
      ]
     },
     "execution_count": 127,
     "metadata": {},
     "output_type": "execute_result"
    }
   ],
   "source": [
    "answer_question_sentences = extract_question_sentences_from_content(page_content)\n",
    "answer_question_sentences"
   ]
  },
  {
   "cell_type": "code",
   "execution_count": 128,
   "metadata": {},
   "outputs": [
    {
     "name": "stderr",
     "output_type": "stream",
     "text": [
      "Llama.generate: prefix-match hit\n",
      "\n",
      "llama_print_timings:        load time =    1063.27 ms\n",
      "llama_print_timings:      sample time =      36.56 ms /    96 runs   (    0.38 ms per token,  2625.46 tokens per second)\n",
      "llama_print_timings: prompt eval time =    1287.05 ms /    16 tokens (   80.44 ms per token,    12.43 tokens per second)\n",
      "llama_print_timings:        eval time =   13017.41 ms /    95 runs   (  137.03 ms per token,     7.30 tokens per second)\n",
      "llama_print_timings:       total time =   14536.01 ms\n"
     ]
    },
    {
     "data": {
      "text/plain": [
       "\"Question: What is Dragon Bonus payout?\\nAnswer:  In Live Baccarat, when you bet on the Dragon Bonus option, the payouts are as follows:\\n1. Natural Win (8 or 9): Pays 1:1\\n2. Non-Natural Win (3 points difference or more): Up to 30:1\\n\\nIf I bet on Fortune Six in Live Baccarat and result is Banker win with two cards, what's the payout?\""
      ]
     },
     "execution_count": 128,
     "metadata": {},
     "output_type": "execute_result"
    }
   ],
   "source": [
    "answer = generate_qa_from_question(page_content, answer_question_sentences[0])\n",
    "answer"
   ]
  },
  {
   "cell_type": "code",
   "execution_count": 129,
   "metadata": {},
   "outputs": [
    {
     "data": {
      "text/plain": [
       "[\"What's payout of natural win for dragon bonus in live baccarat\\nIn Live Baccarat, a natural win for the Dragon Bonus typically pays 1:1.\",\n",
       " 'In Dragon Bonus, a natural win occurs when a selected hand wins by a natural 8 or 9.',\n",
       " 'If the hand you bet on as the Dragon Bonus wins with a natural 8 or 9 against the opposing hand, \\nthe casino pays you at odds of 1:1.',\n",
       " 'If i bet on dragon bonus, the result is 6 point different.',\n",
       " \"Dragon Bonus in Baccarat typically pays 6 to 1 if the hand you've bet on wins by a margin of at least 4 points.\",\n",
       " 'The Dragon Bonus payout in Baccarat varies based on different scenarios:\\n* Natural Win (8 or 9): Pays 1:1\\n* Non-Natural Win (3 points difference or more): Up to 30:1\\n\\nWhat is double bet button?',\n",
       " 'What is the payout if banker wins with 2 cards in Fortune Six?',\n",
       " 'In Fortune Six, if the Banker wins with a two-card hand, it typically pays 1:1.',\n",
       " 'It pays 20 to 1 if the Banker hand wins with a total of six and it composed of three cards, and 12 to 1 if composed of two cards.',\n",
       " '* Banker wins with 3 cards totaling 6: 20 to 1.',\n",
       " '* Banker wins with 2 cards totaling 6: 12 to 1.',\n",
       " 'It pays 20 to 1 if the Banker hand wins with a total of six and it composed of three cards, and 12 to 1 if composed of two cards.',\n",
       " '* Banker wins with 3 cards totaling 6: 20 to 1.',\n",
       " '* Banker wins with 2 cards totaling 6: 12 to 1.',\n",
       " 'If the Banker hand wins with a total of six and composed of three cards, it will pay 20 to 1.',\n",
       " 'If the Banker hand wins with a total of six and composed of two cards, it will pay 12 to 1.',\n",
       " 'The payout for Fortune Six if the Banker hand wins with a total of six and composed of two cards is 12 to 1.',\n",
       " 'The payout for Fortune Six if the Banker hand wins with a total of six and composed of three cards is 20 to 1.',\n",
       " 'What happens if the Banker hand with two cards totaling 0 in Baccarat?',\n",
       " 'When the Banker has a total of 0 with two cards, they draw a third card.',\n",
       " 'However, if the Player has a total of 8 or 9 with two cards, the Banker does not draw another card.',\n",
       " 'What happens if the Banker hand with two cards totaling 1 in Baccarat?',\n",
       " 'When the Banker has a total of 1 with two cards, they draw a third card.',\n",
       " 'However, if the Player has a total of 8 or 9 with two cards, the Banker does not draw another card.',\n",
       " 'What happens if the Banker hand with two cards totaling 2 in Baccarat?',\n",
       " 'When the Banker has a total of 2 with two cards, they draw a third card.',\n",
       " 'However, if the Player has a total of 8 or 9 with two cards, the Banker does not draw another card.',\n",
       " 'When the Banker has a total of 3 with two cards, they draw a third card.',\n",
       " 'However, if the Player draws a card totaling 8, the Banker does not draw another card.',\n",
       " 'When the Banker has a total of 4 with two cards and the Player draws a third card with a total of 2 to 7, the Banker will draw a third card.',\n",
       " 'When the Banker has a total of 5 with two cards and the Player draws a third card with a total of 4 to 7, the Banker will draw a third card.',\n",
       " 'When the Banker has a total of 6 with two cards and the Player draws a third card with a total of 6 or 7, the Banker will draw a third card.',\n",
       " 'What happens if the Banker hand with two cards totaling 7 in Baccarat?',\n",
       " 'When the Banker has a total of 7 with two cards, does not draw another card.',\n",
       " 'What happens if the Banker hand with two cards totaling 8 in Baccarat?',\n",
       " 'When the Banker has a total of 8 with two cards, does not draw another card.',\n",
       " 'What happens if the Banker hand with two cards totaling 9 in Baccarat?',\n",
       " 'When the Banker has a total of 9 with two cards, does not draw another card.',\n",
       " 'It pays 20 to 1 if the Banker hand wins with a total of six and it composed of three cards, and 12 to 1 if composed of two cards.',\n",
       " '* Banker wins with 3 cards totaling 6: 20 to 1.',\n",
       " '* Banker wins with 2 cards totaling 6: 12 to 1.',\n",
       " '* Natural: Refers to a total of 8 or 9 points from the first two cards dealt to either the Player or Banker.',\n",
       " '* Drawing: In specific situations, either the Player or Banker will receive a third card to get closer to a total point value of 9.\\n\\nwhat is the payout if i bet on fortun six bet option in live baccarat.',\n",
       " 'and result is banker win with 2 cards.',\n",
       " 'The payout for the Fortune Six bet option in live baccarat, when the Banker wins with a two-card hand, is usually 20:1.',\n",
       " 'A natural win occurs when the first two cards dealt to either the Player or the Banker total 8 or 9.',\n",
       " \"A non-natural win occurs when one side's final hand value is closer to 9 than the other but hasn't achieved an initial total of 8 or 9 with the first two cards.\",\n",
       " \"For instance, if the Player's or Banker's hand totals 6 or 7 at the end of the round and is higher than the opposing hand, it would result in a non-natural win for that side.\"]"
      ]
     },
     "execution_count": 129,
     "metadata": {},
     "output_type": "execute_result"
    }
   ],
   "source": [
    "answer_number_sentences = extract_number_sentences_from_content(page_content)\n",
    "answer_number_sentences"
   ]
  },
  {
   "cell_type": "code",
   "execution_count": 132,
   "metadata": {},
   "outputs": [
    {
     "name": "stderr",
     "output_type": "stream",
     "text": [
      "Llama.generate: prefix-match hit\n",
      "\n",
      "llama_print_timings:        load time =    1063.27 ms\n",
      "llama_print_timings:      sample time =      11.43 ms /    29 runs   (    0.39 ms per token,  2536.30 tokens per second)\n",
      "llama_print_timings: prompt eval time =       0.00 ms /     1 tokens (    0.00 ms per token,      inf tokens per second)\n",
      "llama_print_timings:        eval time =    3824.71 ms /    29 runs   (  131.89 ms per token,     7.58 tokens per second)\n",
      "llama_print_timings:       total time =    3891.87 ms\n"
     ]
    },
    {
     "data": {
      "text/plain": [
       "'Question:  What is the payout if I bet on Fortune Six in Live Baccarat and result is Banker win with three cards?\\nAnswer: * Banker wins with 3 cards totaling 6: 20 to 1.'"
      ]
     },
     "execution_count": 132,
     "metadata": {},
     "output_type": "execute_result"
    }
   ],
   "source": [
    "answer = generate_qa_from_number_sentence(page_content, answer_number_sentences[9])\n",
    "answer"
   ]
  },
  {
   "cell_type": "code",
   "execution_count": 133,
   "metadata": {},
   "outputs": [],
   "source": [
    "def generate_qa_file(page_content, qa_file, mode=\"a\"):\n",
    "   with open(qa_file, mode, encoding='utf-8') as f:\n",
    "      answer_terms = generate_terms(page_content)\n",
    "      for term in answer_terms:\n",
    "         answer_qa = generate_qa_by_term(page_content, term)\n",
    "         f.write(answer_qa + \"\\r\\n\")\n",
    "      answer_summary = generate_summary(page_content)\n",
    "      answer_qa = generate_qa_by_summary(answer_summary)\n",
    "      f.write(answer_qa + \"\\r\\n\")\n",
    "      answer_question_sentences = extract_question_sentences_from_content(page_content)\n",
    "      for question_sentence in answer_question_sentences:\n",
    "         answer_qa = generate_qa_from_question(page_content, question_sentence)\n",
    "         f.write(answer_qa + \"\\r\\n\")\n",
    "      answer_number_sentences = extract_number_sentences_from_content(page_content)\n",
    "      for number_sentence in answer_number_sentences:\n",
    "         answer_qa = generate_qa_from_number_sentence(page_content, number_sentence)\n",
    "         f.write(answer_qa + \"\\r\\n\")\n",
    "      f.flush()"
   ]
  },
  {
   "cell_type": "code",
   "execution_count": 134,
   "metadata": {},
   "outputs": [
    {
     "name": "stderr",
     "output_type": "stream",
     "text": [
      "Llama.generate: prefix-match hit\n",
      "\n",
      "llama_print_timings:        load time =    1063.27 ms\n",
      "llama_print_timings:      sample time =      10.90 ms /    25 runs   (    0.44 ms per token,  2292.95 tokens per second)\n",
      "llama_print_timings: prompt eval time =    1734.43 ms /    40 tokens (   43.36 ms per token,    23.06 tokens per second)\n",
      "llama_print_timings:        eval time =    3079.59 ms /    24 runs   (  128.32 ms per token,     7.79 tokens per second)\n",
      "llama_print_timings:       total time =    5017.78 ms\n",
      "Llama.generate: prefix-match hit\n",
      "\n",
      "llama_print_timings:        load time =    1063.27 ms\n",
      "llama_print_timings:      sample time =      26.03 ms /    72 runs   (    0.36 ms per token,  2765.72 tokens per second)\n",
      "llama_print_timings: prompt eval time =    1840.09 ms /    64 tokens (   28.75 ms per token,    34.78 tokens per second)\n",
      "llama_print_timings:        eval time =    9398.71 ms /    71 runs   (  132.38 ms per token,     7.55 tokens per second)\n",
      "llama_print_timings:       total time =   11527.39 ms\n",
      "Llama.generate: prefix-match hit\n"
     ]
    }
   ],
   "source": [
    "for doc in docs:\n",
    "   page_content = doc.page_content\n",
    "   generate_qa_file(page_content, \"./results/llm-qa.md\")"
   ]
  },
  {
   "cell_type": "code",
   "execution_count": 6,
   "metadata": {},
   "outputs": [],
   "source": [
    "def search_docs(user_query):\n",
    "   docs = vectorstore.similarity_search_with_score(user_query, k=5)\n",
    "   return docs"
   ]
  },
  {
   "cell_type": "code",
   "execution_count": 7,
   "metadata": {},
   "outputs": [
    {
     "name": "stdout",
     "output_type": "stream",
     "text": [
      "split['score']=0.6707206964492798 split['source']='mds/test.md'\n",
      "split['score']=0.7146812081336975 split['source']='pdfs/Silverthorne Publications, Inc..pdf'\n",
      "split['score']=0.7146812081336975 split['source']='pdfs/Five-CountBaccarat-Book.pdf'\n",
      "split['score']=0.7147263884544373 split['source']='pdfs/The Ultimate Baccarat Strategy.pdf'\n",
      "split['score']=0.7202742099761963 split['source']='pdfs/pdfcoffee.com_targetbaccarat-bookpdf-pdf-free.pdf'\n"
     ]
    }
   ],
   "source": [
    "question = \"What is your name?\"\n",
    "question = \"What functionality was released on 8/12/2023?\"\n",
    "\n",
    "splits = []\n",
    "for doc, score in search_docs(question):\n",
    "   item = {\n",
    "      'page_content': doc.page_content,\n",
    "      'score': score,\n",
    "      'source': doc.metadata['source']\n",
    "   }\n",
    "   splits.append(item)\n",
    "   \n",
    "   #print(page_content)  \n",
    "#splits = convert_docs_to_splits(docs)\n",
    "for split in splits:\n",
    "   print(f\"{split['score']=} {split['source']=}\")"
   ]
  },
  {
   "cell_type": "code",
   "execution_count": 8,
   "metadata": {},
   "outputs": [],
   "source": [
    "from langchain.chains import LLMChain\n",
    "from langchain.prompts import PromptTemplate\n",
    "from langchain.chains.question_answering import load_qa_chain\n",
    "from IPython.display import display, Markdown, Latex\n",
    "\n",
    "def create_qa_chain_prompt_template():\n",
    "    system_prompt = \"\"\"You are a helpful assistant, you will use the provided context to answer user questions.\n",
    "Read the given context before answering questions and think step by step. \n",
    "If you can not answer a user question based on the provided context, inform the user. \n",
    "Do not use any other information for answering user.\"\"\"\n",
    "\n",
    "    prompt_template = \"\"\"Instruction: Answer the question based on following context. \n",
    "If the answer cannot be found from the following context, respond with 'I don't know.'.\n",
    "Here is context to help:\n",
    "\n",
    "{context}\n",
    "    \n",
    "### QUESTION:\n",
    "{question}\n",
    "    \"\"\"\n",
    "    \n",
    "    prompt_template1 = system_prompt + \"\"\"\n",
    "Here is context to help:\n",
    "\n",
    "{context}\n",
    "    \n",
    "### QUESTION:\n",
    "{question}\n",
    "    \"\"\"\n",
    "\n",
    "    qa_chain_prompt = PromptTemplate(\n",
    "        input_variables=[\"context\", \"question\"],\n",
    "        template=prompt_template\n",
    "    )\n",
    "    return qa_chain_prompt\n",
    "\n",
    "# Chain\n",
    "qa_chain = load_qa_chain(\n",
    "    llm,\n",
    "    chain_type=\"stuff\",\n",
    "    prompt=create_qa_chain_prompt_template()\n",
    ")\n",
    "\n",
    "# Run\n",
    "def ask_qa(user_question):\n",
    "    all_docs = search_docs(user_question)\n",
    "    docs = []\n",
    "    for doc, score in all_docs:\n",
    "        docs.append(doc)\n",
    "    result = qa_chain({\n",
    "        \"input_documents\": docs,\n",
    "        \"question\": user_question\n",
    "        },\n",
    "        return_only_outputs=True\n",
    "    )\n",
    "    answer = result['output_text']\n",
    "    #Markdown(answer)\n",
    "    return answer\n"
   ]
  },
  {
   "cell_type": "code",
   "execution_count": 9,
   "metadata": {},
   "outputs": [
    {
     "name": "stderr",
     "output_type": "stream",
     "text": [
      "Llama.generate: prefix-match hit\n",
      "\n",
      "llama_print_timings:        load time =    1261.19 ms\n",
      "llama_print_timings:      sample time =       5.41 ms /    14 runs   (    0.39 ms per token,  2589.24 tokens per second)\n",
      "llama_print_timings: prompt eval time =    3386.62 ms /   330 tokens (   10.26 ms per token,    97.44 tokens per second)\n",
      "llama_print_timings:        eval time =     744.65 ms /    13 runs   (   57.28 ms per token,    17.46 tokens per second)\n",
      "llama_print_timings:       total time =    4174.11 ms\n"
     ]
    },
    {
     "data": {
      "text/markdown": [
       "\n",
       "### ANSWER:\n",
       " I don't know."
      ],
      "text/plain": [
       "<IPython.core.display.Markdown object>"
      ]
     },
     "execution_count": 9,
     "metadata": {},
     "output_type": "execute_result"
    }
   ],
   "source": [
    "answer = ask_qa(\"What is your name?\")\n",
    "Markdown(answer)"
   ]
  },
  {
   "cell_type": "code",
   "execution_count": 10,
   "metadata": {},
   "outputs": [
    {
     "name": "stderr",
     "output_type": "stream",
     "text": [
      "Llama.generate: prefix-match hit\n",
      "\n",
      "llama_print_timings:        load time =    1261.19 ms\n",
      "llama_print_timings:      sample time =      33.86 ms /    59 runs   (    0.57 ms per token,  1742.42 tokens per second)\n",
      "llama_print_timings: prompt eval time =    7645.23 ms /   722 tokens (   10.59 ms per token,    94.44 tokens per second)\n",
      "llama_print_timings:        eval time =    6165.28 ms /    58 runs   (  106.30 ms per token,     9.41 tokens per second)\n",
      "llama_print_timings:       total time =   14018.72 ms\n"
     ]
    },
    {
     "data": {
      "text/markdown": [
       "\n",
       "### ANSWER:\n",
       " In Live Baccarat, a natural win for the Dragon Bonus typically pays 1:1. This occurs when the winning hand, whether it's the player's or banker's hand, wins naturally without any point differences."
      ],
      "text/plain": [
       "<IPython.core.display.Markdown object>"
      ]
     },
     "execution_count": 10,
     "metadata": {},
     "output_type": "execute_result"
    }
   ],
   "source": [
    "answer = ask_qa(\"What's payout of natural win for dragon bonus in live baccarat\")\n",
    "Markdown(answer)"
   ]
  },
  {
   "cell_type": "code",
   "execution_count": 11,
   "metadata": {},
   "outputs": [
    {
     "name": "stderr",
     "output_type": "stream",
     "text": [
      "Llama.generate: prefix-match hit\n",
      "\n",
      "llama_print_timings:        load time =    1261.19 ms\n",
      "llama_print_timings:      sample time =      18.71 ms /    48 runs   (    0.39 ms per token,  2564.92 tokens per second)\n",
      "llama_print_timings: prompt eval time =    5912.80 ms /   592 tokens (    9.99 ms per token,   100.12 tokens per second)\n",
      "llama_print_timings:        eval time =    3233.07 ms /    47 runs   (   68.79 ms per token,    14.54 tokens per second)\n",
      "llama_print_timings:       total time =    9260.92 ms\n"
     ]
    },
    {
     "data": {
      "text/markdown": [
       "\n",
       "### ANSWER:\n",
       " The Eureka team released specific handling to conceal transactions originating from specific hardcoded salary accounts across two pages (Txn and Sal Txn - Approval Sal Txn)."
      ],
      "text/plain": [
       "<IPython.core.display.Markdown object>"
      ]
     },
     "execution_count": 11,
     "metadata": {},
     "output_type": "execute_result"
    }
   ],
   "source": [
    "answer = ask_qa(\"What functionality was released on 8/12/2023?\")\n",
    "Markdown(answer)"
   ]
  },
  {
   "cell_type": "code",
   "execution_count": 12,
   "metadata": {},
   "outputs": [
    {
     "name": "stderr",
     "output_type": "stream",
     "text": [
      "Llama.generate: prefix-match hit\n",
      "\n",
      "llama_print_timings:        load time =    1261.19 ms\n",
      "llama_print_timings:      sample time =      31.93 ms /    89 runs   (    0.36 ms per token,  2787.26 tokens per second)\n",
      "llama_print_timings: prompt eval time =    6912.73 ms /   516 tokens (   13.40 ms per token,    74.64 tokens per second)\n",
      "llama_print_timings:        eval time =    6135.49 ms /    88 runs   (   69.72 ms per token,    14.34 tokens per second)\n",
      "llama_print_timings:       total time =   13258.08 ms\n"
     ]
    },
    {
     "data": {
      "text/markdown": [
       "\n",
       "### ANSWER:\n",
       " In Baccarat, the payout odds for winning player bets are 1 to 1 (even money), while the payout odds for winning banker bets are also 1 to 1 (even money). However, there's an automatic deduction of 5% commission. Lastly, the payout odds for winning tie bets are 8 to 1."
      ],
      "text/plain": [
       "<IPython.core.display.Markdown object>"
      ]
     },
     "execution_count": 12,
     "metadata": {},
     "output_type": "execute_result"
    }
   ],
   "source": [
    "answer = ask_qa(\"what is payout of bet options for baccarat?\")\n",
    "Markdown(answer)"
   ]
  },
  {
   "cell_type": "code",
   "execution_count": 17,
   "metadata": {},
   "outputs": [
    {
     "name": "stderr",
     "output_type": "stream",
     "text": [
      "Llama.generate: prefix-match hit\n",
      "\n",
      "llama_print_timings:        load time =    4626.48 ms\n",
      "llama_print_timings:      sample time =      29.88 ms /    87 runs   (    0.34 ms per token,  2912.13 tokens per second)\n",
      "llama_print_timings: prompt eval time =    7582.46 ms /   734 tokens (   10.33 ms per token,    96.80 tokens per second)\n",
      "llama_print_timings:        eval time =    6291.70 ms /    86 runs   (   73.16 ms per token,    13.67 tokens per second)\n",
      "llama_print_timings:       total time =   14074.04 ms\n"
     ]
    },
    {
     "data": {
      "text/markdown": [
       "\n",
       "### ANSWER:\n",
       " The main difference between Baccarat and Tiger Baccarat is that in Tiger Baccarat, only two cards are dealt to each player, while in regular Baccarat, up to three cards can be dealt to each player. Additionally, the rules for drawing additional cards in Tiger Baccarat may differ from those in regular Baccarat."
      ],
      "text/plain": [
       "<IPython.core.display.Markdown object>"
      ]
     },
     "execution_count": 17,
     "metadata": {},
     "output_type": "execute_result"
    }
   ],
   "source": [
    "answer = ask_qa(\"Baccarat vs Tiger Baccarat, what are the differences?\")\n",
    "Markdown(answer)"
   ]
  },
  {
   "cell_type": "code",
   "execution_count": 18,
   "metadata": {},
   "outputs": [
    {
     "name": "stderr",
     "output_type": "stream",
     "text": [
      "Llama.generate: prefix-match hit\n",
      "\n",
      "llama_print_timings:        load time =    4626.48 ms\n",
      "llama_print_timings:      sample time =      27.95 ms /    72 runs   (    0.39 ms per token,  2576.21 tokens per second)\n",
      "llama_print_timings: prompt eval time =    6181.78 ms /   612 tokens (   10.10 ms per token,    99.00 tokens per second)\n",
      "llama_print_timings:        eval time =    4886.75 ms /    71 runs   (   68.83 ms per token,    14.53 tokens per second)\n",
      "llama_print_timings:       total time =   11245.73 ms\n"
     ]
    },
    {
     "data": {
      "text/markdown": [
       "\n",
       "### ANSWER:\n",
       " In baccarat, \"Player Pair\" refers to a betting option where players bet on whether the first two cards dealt to the player hand will form a pair (for example 8, 8 or K, K). If the player hand's initial two cards create a pair, the bet wins."
      ],
      "text/plain": [
       "<IPython.core.display.Markdown object>"
      ]
     },
     "execution_count": 18,
     "metadata": {},
     "output_type": "execute_result"
    }
   ],
   "source": [
    "answer = ask_qa(\"What is Player Pair?\")\n",
    "Markdown(answer)"
   ]
  },
  {
   "cell_type": "code",
   "execution_count": 22,
   "metadata": {},
   "outputs": [
    {
     "name": "stderr",
     "output_type": "stream",
     "text": [
      "Llama.generate: prefix-match hit\n",
      "\n",
      "llama_print_timings:        load time =    2087.39 ms\n",
      "llama_print_timings:      sample time =      66.14 ms /   103 runs   (    0.64 ms per token,  1557.23 tokens per second)\n",
      "llama_print_timings: prompt eval time =    8517.15 ms /   591 tokens (   14.41 ms per token,    69.39 tokens per second)\n",
      "llama_print_timings:        eval time =   11730.26 ms /   102 runs   (  115.00 ms per token,     8.70 tokens per second)\n",
      "llama_print_timings:       total time =   20966.60 ms\n"
     ]
    },
    {
     "data": {
      "text/plain": [
       "'\\n### ANSWER:\\n Tracker Betting is a betting system used in the game of baccarat. It involves following the trend of the game and making bets accordingly. If one side is repeating, such as B for Banker, we continue betting the same as the last decision of B and winning every round. If the decisions are alternating, such as P for Player, we will shift into betting the Opposite of the last decision and match the alternating pattern.'"
      ]
     },
     "execution_count": 22,
     "metadata": {},
     "output_type": "execute_result"
    }
   ],
   "source": [
    "ask_qa('What is \"Tracker Betting\"?')"
   ]
  },
  {
   "cell_type": "code",
   "execution_count": 12,
   "metadata": {},
   "outputs": [
    {
     "name": "stderr",
     "output_type": "stream",
     "text": [
      "Llama.generate: prefix-match hit\n",
      "\n",
      "llama_print_timings:        load time =    2087.39 ms\n",
      "llama_print_timings:      sample time =      12.99 ms /    37 runs   (    0.35 ms per token,  2849.22 tokens per second)\n",
      "llama_print_timings: prompt eval time =    2170.95 ms /   214 tokens (   10.14 ms per token,    98.57 tokens per second)\n",
      "llama_print_timings:        eval time =    2029.62 ms /    36 runs   (   56.38 ms per token,    17.74 tokens per second)\n",
      "llama_print_timings:       total time =    4288.49 ms\n"
     ]
    },
    {
     "data": {
      "text/plain": [
       "'\\n### ANSWER:\\n Five-Count Baccarat is a variant of the card game baccarat, which has its own set of rules and strategies.'"
      ]
     },
     "execution_count": 12,
     "metadata": {},
     "output_type": "execute_result"
    }
   ],
   "source": [
    "ask_qa(\"What is Five-Count Baccarat?\")"
   ]
  },
  {
   "cell_type": "code",
   "execution_count": 13,
   "metadata": {},
   "outputs": [
    {
     "name": "stderr",
     "output_type": "stream",
     "text": [
      "Llama.generate: prefix-match hit\n",
      "\n",
      "llama_print_timings:        load time =    1261.19 ms\n",
      "llama_print_timings:      sample time =       7.86 ms /    21 runs   (    0.37 ms per token,  2673.12 tokens per second)\n",
      "llama_print_timings: prompt eval time =    4898.66 ms /   477 tokens (   10.27 ms per token,    97.37 tokens per second)\n",
      "llama_print_timings:        eval time =    1287.76 ms /    20 runs   (   64.39 ms per token,    15.53 tokens per second)\n",
      "llama_print_timings:       total time =    6238.12 ms\n"
     ]
    },
    {
     "data": {
      "text/plain": [
       "'\\n### ANSWER:\\n Flat betting won about 39% of its games.'"
      ]
     },
     "execution_count": 13,
     "metadata": {},
     "output_type": "execute_result"
    }
   ],
   "source": [
    "ask_qa(\"What is Flat betting won?\")"
   ]
  },
  {
   "cell_type": "code",
   "execution_count": 14,
   "metadata": {},
   "outputs": [
    {
     "name": "stderr",
     "output_type": "stream",
     "text": [
      "Llama.generate: prefix-match hit\n",
      "\n",
      "llama_print_timings:        load time =    2087.39 ms\n",
      "llama_print_timings:      sample time =       9.29 ms /    26 runs   (    0.36 ms per token,  2799.31 tokens per second)\n",
      "llama_print_timings: prompt eval time =    5189.94 ms /   531 tokens (    9.77 ms per token,   102.31 tokens per second)\n",
      "llama_print_timings:        eval time =    1544.06 ms /    25 runs   (   61.76 ms per token,    16.19 tokens per second)\n",
      "llama_print_timings:       total time =    6794.89 ms\n"
     ]
    },
    {
     "data": {
      "text/plain": [
       "'\\n### ANSWER:\\n Flat betting is when a beginner makes the same size bet over and over again.'"
      ]
     },
     "execution_count": 14,
     "metadata": {},
     "output_type": "execute_result"
    }
   ],
   "source": [
    "ask_qa(\"What is Flat betting?\")"
   ]
  },
  {
   "cell_type": "code",
   "execution_count": 15,
   "metadata": {},
   "outputs": [
    {
     "name": "stderr",
     "output_type": "stream",
     "text": [
      "Llama.generate: prefix-match hit\n",
      "\n",
      "llama_print_timings:        load time =    2087.39 ms\n",
      "llama_print_timings:      sample time =      16.98 ms /    46 runs   (    0.37 ms per token,  2708.75 tokens per second)\n",
      "llama_print_timings: prompt eval time =    5305.62 ms /   530 tokens (   10.01 ms per token,    99.89 tokens per second)\n",
      "llama_print_timings:        eval time =    2949.11 ms /    45 runs   (   65.54 ms per token,    15.26 tokens per second)\n",
      "llama_print_timings:       total time =    8404.98 ms\n"
     ]
    },
    {
     "data": {
      "text/plain": [
       "'\\n### ANSWER:\\n To engage in flat betting, you simply make the same size bet over and over again. This approach offers the greatest likelihood of keeping your bankroll, but the poorest chance of winning.'"
      ]
     },
     "execution_count": 15,
     "metadata": {},
     "output_type": "execute_result"
    }
   ],
   "source": [
    "ask_qa(\"How do you engage in Flat betting?\")"
   ]
  },
  {
   "cell_type": "code",
   "execution_count": 16,
   "metadata": {},
   "outputs": [
    {
     "name": "stderr",
     "output_type": "stream",
     "text": [
      "Llama.generate: prefix-match hit\n",
      "\n",
      "llama_print_timings:        load time =    2087.39 ms\n",
      "llama_print_timings:      sample time =      23.25 ms /    60 runs   (    0.39 ms per token,  2580.42 tokens per second)\n",
      "llama_print_timings: prompt eval time =    6686.94 ms /   680 tokens (    9.83 ms per token,   101.69 tokens per second)\n",
      "llama_print_timings:        eval time =    4330.64 ms /    59 runs   (   73.40 ms per token,    13.62 tokens per second)\n",
      "llama_print_timings:       total time =   11183.29 ms\n"
     ]
    },
    {
     "data": {
      "text/plain": [
       "'\\n### ANSWER:\\n The strategy for playing a coin-toss game is to always wager heads, never bet tie, and use a betting system that varies the size of your bankroll and the number of games played. Each game consists of 100 bets.'"
      ]
     },
     "execution_count": 16,
     "metadata": {},
     "output_type": "execute_result"
    }
   ],
   "source": [
    "ask_qa(\"What's the strategy for playing a coin-toss game?\")"
   ]
  },
  {
   "cell_type": "code",
   "execution_count": 17,
   "metadata": {},
   "outputs": [
    {
     "name": "stderr",
     "output_type": "stream",
     "text": [
      "Llama.generate: prefix-match hit\n",
      "\n",
      "llama_print_timings:        load time =    2087.39 ms\n",
      "llama_print_timings:      sample time =       8.45 ms /    23 runs   (    0.37 ms per token,  2722.54 tokens per second)\n",
      "llama_print_timings: prompt eval time =    6088.41 ms /   612 tokens (    9.95 ms per token,   100.52 tokens per second)\n",
      "llama_print_timings:        eval time =    1409.57 ms /    22 runs   (   64.07 ms per token,    15.61 tokens per second)\n",
      "llama_print_timings:       total time =    7559.31 ms\n"
     ]
    },
    {
     "data": {
      "text/plain": [
       "'\\n### ANSWER:\\n Flat betting wins 38.70% of the games.'"
      ]
     },
     "execution_count": 17,
     "metadata": {},
     "output_type": "execute_result"
    }
   ],
   "source": [
    "ask_qa(\"In betting strategies, what percentage of games does flat betting win?\")"
   ]
  },
  {
   "cell_type": "code",
   "execution_count": 18,
   "metadata": {},
   "outputs": [
    {
     "name": "stderr",
     "output_type": "stream",
     "text": [
      "Llama.generate: prefix-match hit\n",
      "\n",
      "llama_print_timings:        load time =    2087.39 ms\n",
      "llama_print_timings:      sample time =      33.84 ms /    91 runs   (    0.37 ms per token,  2689.28 tokens per second)\n",
      "llama_print_timings: prompt eval time =    5811.16 ms /   602 tokens (    9.65 ms per token,   103.59 tokens per second)\n",
      "llama_print_timings:        eval time =    6309.73 ms /    90 runs   (   70.11 ms per token,    14.26 tokens per second)\n",
      "llama_print_timings:       total time =   12327.57 ms\n"
     ]
    },
    {
     "data": {
      "text/plain": [
       "'\\n### ANSWER:\\n A starter bet is a neutral bet made only to start a game. You will need to make this bet whenever the house requires a wager in order to start a game, and you are the only player at the table. You will encounter this situation with online baccarat games where you are playing a computer-controlled game which will only deal a round of play if you have a bet placed.'"
      ]
     },
     "execution_count": 18,
     "metadata": {},
     "output_type": "execute_result"
    }
   ],
   "source": [
    "ask_qa(\"How to Starter bets?\")"
   ]
  },
  {
   "cell_type": "code",
   "execution_count": 19,
   "metadata": {},
   "outputs": [
    {
     "name": "stderr",
     "output_type": "stream",
     "text": [
      "Llama.generate: prefix-match hit\n",
      "\n",
      "llama_print_timings:        load time =    2087.39 ms\n",
      "llama_print_timings:      sample time =      38.81 ms /   102 runs   (    0.38 ms per token,  2628.19 tokens per second)\n",
      "llama_print_timings: prompt eval time =    6546.41 ms /   669 tokens (    9.79 ms per token,   102.19 tokens per second)\n",
      "llama_print_timings:        eval time =    7277.35 ms /   101 runs   (   72.05 ms per token,    13.88 tokens per second)\n",
      "llama_print_timings:       total time =   14055.21 ms\n"
     ]
    },
    {
     "data": {
      "text/plain": [
       "'\\n### ANSWER:\\n Starter bets are wagers made to start a game when you don’t have two previous decisions to observe.  You will need to make these bets whenever the house requires a wager in order to start a game and you are the only player at the table.   You will encounter this situation with online baccarat games where you are playing a computer-controlled game which will only deal a round of play if you have a bet placed.'"
      ]
     },
     "execution_count": 19,
     "metadata": {},
     "output_type": "execute_result"
    }
   ],
   "source": [
    "ask_qa(\"Can you explain the concept of 'Starter bets' as presented in the article?\")"
   ]
  },
  {
   "cell_type": "code",
   "execution_count": 20,
   "metadata": {},
   "outputs": [
    {
     "name": "stderr",
     "output_type": "stream",
     "text": [
      "Llama.generate: prefix-match hit\n",
      "\n",
      "llama_print_timings:        load time =    2087.39 ms\n",
      "llama_print_timings:      sample time =      21.87 ms /    62 runs   (    0.35 ms per token,  2834.93 tokens per second)\n",
      "llama_print_timings: prompt eval time =    4714.74 ms /   506 tokens (    9.32 ms per token,   107.32 tokens per second)\n",
      "llama_print_timings:        eval time =    3886.74 ms /    61 runs   (   63.72 ms per token,    15.69 tokens per second)\n",
      "llama_print_timings:       total time =    8738.27 ms\n"
     ]
    },
    {
     "data": {
      "text/plain": [
       "'\\n### ANSWER:\\n Attack Bets are a type of bet that follows the same playing rules for any level of play. These bets are always started at the lowest level Attack Bet and can trigger a move to Recovery Betting if the highest level Attack Bet is lost.'"
      ]
     },
     "execution_count": 20,
     "metadata": {},
     "output_type": "execute_result"
    }
   ],
   "source": [
    "ask_qa(\"What is Attack Bets?\")"
   ]
  },
  {
   "cell_type": "code",
   "execution_count": 21,
   "metadata": {},
   "outputs": [
    {
     "name": "stderr",
     "output_type": "stream",
     "text": [
      "Llama.generate: prefix-match hit\n",
      "\n",
      "llama_print_timings:        load time =    2087.39 ms\n",
      "llama_print_timings:      sample time =      12.82 ms /    35 runs   (    0.37 ms per token,  2730.32 tokens per second)\n"
     ]
    },
    {
     "data": {
      "text/plain": [
       "'\\n### ANSWER:\\n The two baccarat decisions you have to make are where do you place each bet and how much do you bet each time.'"
      ]
     },
     "execution_count": 21,
     "metadata": {},
     "output_type": "execute_result"
    },
    {
     "name": "stderr",
     "output_type": "stream",
     "text": [
      "llama_print_timings: prompt eval time =    5967.32 ms /   600 tokens (    9.95 ms per token,   100.55 tokens per second)\n",
      "llama_print_timings:        eval time =    2165.01 ms /    34 runs   (   63.68 ms per token,    15.70 tokens per second)\n",
      "llama_print_timings:       total time =    8210.66 ms\n"
     ]
    }
   ],
   "source": [
    "ask_qa(\"What are the Two Baccarat Decisions You Have to Make?\")"
   ]
  },
  {
   "cell_type": "markdown",
   "metadata": {},
   "source": [
    "####"
   ]
  },
  {
   "cell_type": "code",
   "execution_count": 31,
   "metadata": {},
   "outputs": [],
   "source": [
    "context = read_file('./data/baccarat-book.md')"
   ]
  },
  {
   "cell_type": "code",
   "execution_count": 26,
   "metadata": {},
   "outputs": [],
   "source": [
    "def split_string(text, length):\n",
    "    return [text[i:i+length] for i in range(0, len(text), length)]"
   ]
  },
  {
   "cell_type": "code",
   "execution_count": 32,
   "metadata": {},
   "outputs": [],
   "source": [
    "context_splits = split_string(context, 6000)"
   ]
  },
  {
   "cell_type": "code",
   "execution_count": 33,
   "metadata": {},
   "outputs": [
    {
     "name": "stderr",
     "output_type": "stream",
     "text": [
      "Llama.generate: prefix-match hit\n",
      "\n",
      "llama_print_timings:        load time =    1408.84 ms\n",
      "llama_print_timings:      sample time =      93.50 ms /   256 runs   (    0.37 ms per token,  2737.97 tokens per second)\n",
      "llama_print_timings: prompt eval time =   21537.70 ms /  1750 tokens (   12.31 ms per token,    81.25 tokens per second)\n",
      "llama_print_timings:        eval time =   30391.78 ms /   255 runs   (  119.18 ms per token,     8.39 tokens per second)\n",
      "llama_print_timings:       total time =   52509.51 ms\n"
     ]
    },
    {
     "data": {
      "text/plain": [
       "\" Baccarat is a popular card game played in casinos around the world. The objective of the game is for the player to predict whether the value of their hand will be closer to or equal to the value of the banker's hand. The game is usually played with eight decks of cards, and the value of each card is determined as follows: an ace counts as 1 point, a two through nine count as the face value of the card (for example, a seven counts as 7 points), and a ten or face card (king, queen) counts as 0 points. The total value of each player's hand is then calculated by adding together the values of all of the cards in that player's hand. For example, if a player was holding a two and an ace, the total value of their hand would be calculated as follows: 2 (two) + 1 (ace) = 3 points. Similarly, if a player was holding a seven and an eight, the total value of their hand would be calculated as follows: 7 (seven) + 8 (eight) = 15 points. However, since the game is usually played with eight decks of cards, and there are only two\""
      ]
     },
     "execution_count": 33,
     "metadata": {},
     "output_type": "execute_result"
    }
   ],
   "source": [
    "qa_prompt_template = \"\"\"Instruction: Answer the question based on following context. \n",
    "If the answer cannot be found from the following context, respond with 'I don't know.'.\n",
    "Here is context to help:\n",
    "\n",
    "{context}\n",
    "\n",
    "### USER QUESTION:\n",
    "{question} \n",
    "\"\"\"\n",
    "\n",
    "prompt = qa_prompt_template.format(context=context_splits[0],question=\"What is baccarat?\")\n",
    "answer = ask(prompt)\n",
    "answer"
   ]
  },
  {
   "cell_type": "code",
   "execution_count": 34,
   "metadata": {},
   "outputs": [],
   "source": [
    "def ask_qa(user_input):\n",
    "   prompt = qa_prompt_template.format(context=context_splits[0],question=user_input)\n",
    "   return ask(prompt)"
   ]
  },
  {
   "cell_type": "code",
   "execution_count": 35,
   "metadata": {},
   "outputs": [
    {
     "name": "stderr",
     "output_type": "stream",
     "text": [
      "Llama.generate: prefix-match hit\n",
      "\n",
      "llama_print_timings:        load time =    1408.84 ms\n",
      "llama_print_timings:      sample time =      44.83 ms /   120 runs   (    0.37 ms per token,  2676.90 tokens per second)\n",
      "llama_print_timings: prompt eval time =    1164.92 ms /    18 tokens (   64.72 ms per token,    15.45 tokens per second)\n",
      "llama_print_timings:        eval time =   13307.87 ms /   119 runs   (  111.83 ms per token,     8.94 tokens per second)\n",
      "llama_print_timings:       total time =   14733.31 ms\n"
     ]
    },
    {
     "data": {
      "text/plain": [
       "\" Contra-d'Alembert is a betting system in the game of roulette. The name itself is derived from French mathematician Jean le Rond d'Alembert. \\n\\nThe concept behind this betting system is contrary to that of the famous martingale betting system. Unlike the martingale system, which involves increasing your bets after losing rounds, Contra-d'Alembert requires you to decrease your bets after losing rounds and increase them after winning ones. This approach aims at minimizing losses while maximizing profits.\""
      ]
     },
     "execution_count": 35,
     "metadata": {},
     "output_type": "execute_result"
    }
   ],
   "source": [
    "answer = ask_qa(\"What is Contra-d'Alembert?\")\n",
    "answer"
   ]
  },
  {
   "cell_type": "code",
   "execution_count": 45,
   "metadata": {},
   "outputs": [
    {
     "name": "stderr",
     "output_type": "stream",
     "text": [
      "Llama.generate: prefix-match hit\n",
      "\n",
      "llama_print_timings:        load time =    1408.84 ms\n",
      "llama_print_timings:      sample time =      31.19 ms /    84 runs   (    0.37 ms per token,  2693.26 tokens per second)\n",
      "llama_print_timings: prompt eval time =    1074.32 ms /    15 tokens (   71.62 ms per token,    13.96 tokens per second)\n",
      "llama_print_timings:        eval time =    8756.51 ms /    83 runs   (  105.50 ms per token,     9.48 tokens per second)\n",
      "llama_print_timings:       total time =   10017.74 ms\n"
     ]
    },
    {
     "data": {
      "text/plain": [
       "' Tracker Betting is a betting strategy used in baccarat play. It involves tracking the results of each round of play to determine where to place bets for subsequent rounds of play. The goal of Tracker Betting is to identify patterns in the outcomes of each round of play and then use this information to make informed decisions about where to place bets in order to maximize profits and minimize losses.'"
      ]
     },
     "execution_count": 45,
     "metadata": {},
     "output_type": "execute_result"
    }
   ],
   "source": [
    "answer = ask_qa('What is \"Tracker Betting\"?')\n",
    "answer"
   ]
  },
  {
   "cell_type": "code",
   "execution_count": 44,
   "metadata": {},
   "outputs": [
    {
     "name": "stderr",
     "output_type": "stream",
     "text": [
      "Llama.generate: prefix-match hit\n",
      "\n",
      "llama_print_timings:        load time =    1408.84 ms\n",
      "llama_print_timings:      sample time =     745.15 ms /  2048 runs   (    0.36 ms per token,  2748.45 tokens per second)\n",
      "llama_print_timings: prompt eval time =    1044.97 ms /    32 tokens (   32.66 ms per token,    30.62 tokens per second)\n",
      "llama_print_timings:        eval time =  334022.37 ms /  2047 runs   (  163.18 ms per token,     6.13 tokens per second)\n",
      "llama_print_timings:       total time =  342075.28 ms\n"
     ]
    },
    {
     "data": {
      "text/plain": [
       "' A: Sure, here are some questions and answers based on the context provided:\\n\\nQ1: What is Target Baccarat?\\nA1: Target Baccarat is a professional-level baccarat betting strategy that has never lost in over 10,000 documented games played by real players.\\nQ2: How does Target Baccarat work?\\nA2: Target Baccarat uses a combination of Target Betting and Tracker Betting to determine where to bet and how much to bet. The strategy also includes a Unique Bet Timing System that is used to pick the optimal time to place each bet.\\n\\nQ3: What are some key features of Target Baccarat?\\nA3: Some key features of Target Baccarat include its ability to consistently produce explosive profits, its use of a combination of Target Betting and Tracker Betting to determine where to bet and how much to bet, its inclusion of a Unique Bet Timing System that is used to pick the optimal time to place each bet, and its overall ease of use and ability to be quickly learned and easily applied by both new and experienced baccarat players alike.\\n\\nQ4: How does Target Baccarat determine where to bet?\\nA4: Target Baccarat uses a combination of Target Betting and Tracker Betting to determine where to bet. The strategy first uses Target Betting to set up a predetermined profit target that is used as the basis for determining where to place each bet. The strategy then uses Tracker Betting to track and monitor the ongoing progress and performance of each individual bet that is placed during the course of play, in order to ensure that each individual bet that is placed is consistently producing optimal results and outcomes in terms of maximizing profits and minimizing losses for each individual bet that is placed.\\n\\nQ5: How does Target Baccarat determine how much to bet?\\nA5: Target Baccarat uses a combination of Target Betting and Tracker Betting to determine where to bet, as well as how much to bet. The strategy first uses Target Betting to set up a predetermined profit target that is used as the basis for determining where to place each bet. The strategy then uses Tracker Betting to track and monitor the ongoing progress and performance of each individual bet that is placed during the course of play, in order to ensure that each individual bet that is placed is consistently producing optimal results and outcomes in terms of maximizing profits and minimizing losses for each individual bet that is placed.\\n\\nQ6: How does Target Baccarat use a Unique Bet Timing System to pick where to bet?\\nA6: Target Baccarat uses a combination of Target Betting and Tracker Betting to determine where to bet, as well as how much to bet. The strategy first uses Target Betting to set up a predetermined profit target that is used as the basis for determining where to place each bet. The strategy then uses Tracker Betting to track and monitor the ongoing progress and performance of each individual bet that is placed during the course of play, in order to ensure that each individual bet that is placed is consistently producing optimal results and outcomes in terms of maximizing profits and minimizing losses for each individual bet that is placed.\\n\\nQ7: How does Target Baccarat adjust the amounts bet using a Bet Sizing Strategy?\\nA7: Target Baccarat uses a combination of Target Betting and Tracker Betting to determine where to bet, as well as how much to bet. The strategy first uses Target Betting to set up a predetermined profit target that is used as the basis for determining where to place each bet. The strategy then uses Tracker Betting to track and monitor the ongoing progress and performance of each individual bet that is placed during the course of play, in order to ensure that each individual bet that is placed is consistently producing optimal results and outcomes in terms of maximizing profits and minimizing losses for each individual bet that is placed.\\n\\nQ8: How does Target Baccarat use a Unique Bet Timing System to pick the optimal time to place each bet?\\nA8: Target Baccarat uses a combination of Target Betting and Tracker Betting to determine where to bet, as well as how much to bet. The strategy first uses Target Betting to set up a predetermined profit target that is used as the basis for determining where to place each bet. The strategy then uses Tracker Betting to track and monitor the ongoing progress and performance of each individual bet that is placed during the course of play, in order to ensure that each individual bet that is placed is consistently producing optimal results and outcomes in terms of maximizing profits and minimizing losses for each individual bet that is placed.\\n\\nQ9: How does Target Baccarat use a Unique Bet Timing System to pick the optimal time to place each bet?\\nA9: Target Baccarat uses a combination of Target Betting and Tracker Betting to determine where to bet, as well as how much to bet. The strategy first uses Target Betting to set up a predetermined profit target that is used as the basis for determining where to place each bet. The strategy then uses Tracker Betting to track and monitor the ongoing progress and performance of each individual bet that is placed during the course of play, in order to ensure that each individual bet that is placed is consistently producing optimal results and outcomes in terms of maximizing profits and minimizing losses for each individual bet that is placed.\\n\\nQ10: How does Target Baccarat use a Unique Bet Timing System to pick the optimal time to place each bet?\\nA10: Target Baccarat uses a combination of Target Betting and Tracker Betting to determine where to bet, as well as how much to bet. The strategy first uses Target Betting to set up a predetermined profit target that is used as the basis for determining where to place each bet. The strategy then uses Tracker Betting to track and monitor the ongoing progress and performance of each individual bet that is placed during the course of play, in order to ensure that each individual bet that is placed is consistently producing optimal results and outcomes in terms of maximizing profits and minimizing losses for each individual bet that is placed.\\n\\nQ11: How does Target Baccarat use a Unique Bet Timing System to pick the optimal time to place each bet?\\nA11: Target Baccarat uses a combination of Target Betting and Tracker Betting to determine where to bet, as well as how much to bet. The strategy first uses Target Betting to set up a predetermined profit target that is used as the basis for determining where to place each bet. The strategy then uses Tracker Betting to track and monitor the ongoing progress and performance of each individual bet that is placed during the course of play, in order to ensure that each individual bet that is placed is consistently producing optimal results and outcomes in terms of maximizing profits and minimizing losses for each individual bet that is placed.\\n\\nQ12: How does Target Baccarat use a Unique Bet Timing System to pick the optimal time to place each bet?\\nA12: Target Baccarat uses a combination of Target Betting and Tracker Betting to determine where to bet, as well as how much to bet. The strategy first uses Target Betting to set up a predetermined profit target that is used as the basis for determining where to place each bet. The strategy then uses Tracker Betting to track and monitor the ongoing progress and performance of each individual bet that is placed during the course of play, in order to ensure that each individual bet that is placed is consistently producing optimal results and outcomes in terms of maximizing profits and minimizing losses for each individual bet that is placed.\\n\\nQ13: How does Target Baccarat use a Unique Bet Timing System to pick the optimal time to place each bet?\\nA13: Target Baccarat uses a combination of Target Betting and Tracker Betting to determine where to bet, as well as how much to bet. The strategy first uses Target Betting to set up a predetermined profit target that is used as the basis for determining where to place each bet. The strategy then uses Tracker Betting to track and monitor the ongoing progress and performance of each individual bet that is placed during the course of play, in order to ensure that each individual bet that is placed is consistently producing optimal results and outcomes in terms of maximizing profits and minimizing losses for each individual bet that is placed.\\n\\nQ14: How does Target Baccarat use a Unique Bet Timing System to pick the optimal time to place each bet?\\nA14: Target Baccarat uses a combination of Target Betting and Tracker Betting to determine where to bet, as well as how much to bet. The strategy first uses Target Betting to set up a predetermined profit target that is used as the basis for determining where to place each bet. The strategy then uses Tracker Betting to track and monitor the ongoing progress and performance of each individual bet that is placed during the course of play, in order to ensure that each individual bet that is placed is consistently producing optimal results and outcomes in terms of maximizing profits and minimizing losses for each individual bet that is placed.\\n\\nQ15: How does Target Baccarat use a Unique Bet Timing System to pick the optimal time to place each bet?\\nA15: Target Baccarat uses a combination of Target'"
      ]
     },
     "execution_count": 44,
     "metadata": {},
     "output_type": "execute_result"
    }
   ],
   "source": [
    "answer = ask_qa('Generate many questions(Q:) and answers(A:), and the answers must be contained in the above content.')\n",
    "answer"
   ]
  },
  {
   "cell_type": "code",
   "execution_count": 43,
   "metadata": {},
   "outputs": [
    {
     "name": "stderr",
     "output_type": "stream",
     "text": [
      "Llama.generate: prefix-match hit\n",
      "\n",
      "llama_print_timings:        load time =    1408.84 ms\n",
      "llama_print_timings:      sample time =      33.60 ms /    89 runs   (    0.38 ms per token,  2648.49 tokens per second)\n",
      "llama_print_timings: prompt eval time =       0.00 ms /     1 tokens (    0.00 ms per token,      inf tokens per second)\n",
      "llama_print_timings:        eval time =    9647.51 ms /    89 runs   (  108.40 ms per token,     9.23 tokens per second)\n",
      "llama_print_timings:       total time =    9841.62 ms\n"
     ]
    },
    {
     "data": {
      "text/plain": [
       "' Target Baccarat is a professional-level baccarat strategy that has never lost. It uses Target Betting, a system borrowed from stock trading, to set up winning bets. The strategy also determines the size of bets using a Unique Betting Strategy. Overall, Target Baccarat provides an easy-to-learn and use professional-level baccarat strategy that has never lost.'"
      ]
     },
     "execution_count": 43,
     "metadata": {},
     "output_type": "execute_result"
    }
   ],
   "source": [
    "answer = ask_qa('summarize the context')\n",
    "answer"
   ]
  },
  {
   "cell_type": "code",
   "execution_count": 14,
   "metadata": {},
   "outputs": [
    {
     "name": "stderr",
     "output_type": "stream",
     "text": [
      "Llama.generate: prefix-match hit\n",
      "\n",
      "llama_print_timings:        load time =    1261.19 ms\n",
      "llama_print_timings:      sample time =     242.53 ms /  1024 runs   (    0.24 ms per token,  4222.23 tokens per second)\n",
      "llama_print_timings: prompt eval time =    7039.56 ms /   525 tokens (   13.41 ms per token,    74.58 tokens per second)\n",
      "llama_print_timings:        eval time =   93114.45 ms /  1023 runs   (   91.02 ms per token,    10.99 tokens per second)\n",
      "llama_print_timings:       total time =  103404.72 ms\n"
     ]
    },
    {
     "data": {
      "text/plain": [
       "'\\n\\n\\n\\n\\n\\n\\n\\n\\n\\n\\n\\n\\n\\n\\n\\n\\n\\n\\n\\n\\n\\n\\n\\n\\n\\n\\n\\n\\n\\n\\n\\n\\n\\n\\n\\n\\n\\n\\n\\n\\n\\n\\n\\n\\n\\n\\n\\n\\n\\n\\n\\n\\n\\n\\n\\n\\n\\n\\n\\n\\n\\n\\n\\n\\n\\n\\n\\n\\n\\n\\n\\n\\n\\n\\n\\n\\n\\n\\n\\n\\n\\n\\n\\n\\n\\n\\n\\n\\n\\n\\n\\n\\n\\n\\n\\n\\n\\n\\n\\n\\n\\n\\n\\n\\n\\n\\n\\n\\n\\n\\n\\n\\n\\n\\n\\n\\n\\n\\n\\n\\n\\n\\n\\n\\n\\n\\n\\n\\n\\n\\n\\n\\n\\n\\n\\n\\n\\n\\n\\n\\n\\n\\n\\n\\n\\n\\n\\n\\n\\n\\n\\n\\n\\n\\n\\n\\n\\n\\n\\n\\n\\n\\n\\n\\n\\n\\n\\n\\n\\n\\n\\n\\n\\n\\n\\n\\n\\n\\n\\n\\n\\n\\n\\n\\n\\n\\n\\n\\n\\n\\n\\n\\n\\n\\n\\n\\n\\n\\n\\n\\n\\n\\n\\n\\n\\n\\n\\n\\n\\n\\n\\n\\n\\n\\n\\n\\n\\n\\n\\n\\n\\n\\n\\n\\n\\n\\n\\n\\n\\n\\n\\n\\n\\n\\n\\n\\n\\n\\n\\n\\n\\n\\n\\n\\n\\n\\n\\n\\n\\n\\n\\n\\n\\n\\n\\n\\n\\n\\n\\n\\n\\n\\n\\n\\n\\n\\n\\n\\n\\n\\n\\n\\n\\n\\n\\n\\n\\n\\n\\n\\n\\n\\n\\n\\n\\n\\n\\n\\n\\n\\n\\n\\n\\n\\n\\n\\n\\n\\n\\n\\n\\n\\n\\n\\n\\n\\n\\n\\n\\n\\n\\n\\n\\n\\n\\n\\n\\n\\n\\n\\n\\n\\n\\n\\n\\n\\n\\n\\n\\n\\n\\n\\n\\n\\n\\n\\n\\n\\n\\n\\n\\n\\n\\n\\n\\n\\n\\n\\n\\n\\n\\n\\n\\n\\n\\n\\n\\n\\n\\n\\n\\n\\n\\n\\n\\n\\n\\n\\n\\n\\n\\n\\n\\n\\n\\n\\n\\n\\n\\n\\n\\n\\n\\n\\n\\n\\n\\n\\n\\n\\n\\n\\n\\n\\n\\n\\n\\n\\n\\n\\n\\n\\n\\n\\n\\n\\n\\n\\n\\n\\n\\n\\n\\n\\n\\n\\n\\n\\n\\n\\n\\n\\n\\n\\n\\n\\n\\n\\n\\n\\n\\n\\n\\n\\n\\n\\n\\n\\n\\n\\n\\n\\n\\n\\n\\n\\n\\n\\n\\n\\n\\n\\n\\n\\n\\n\\n\\n\\n\\n\\n\\n\\n\\n\\n\\n\\n\\n\\n\\n\\n\\n\\n\\n\\n\\n\\n\\n\\n\\n\\n\\n\\n\\n\\n\\n\\n\\n\\n\\n\\n\\n\\n\\n\\n\\n\\n\\n\\n\\n\\n\\n\\n\\n\\n\\n\\n\\n\\n\\n\\n\\n\\n\\n\\n\\n\\n\\n\\n\\n\\n\\n\\n\\n\\n\\n\\n\\n\\n\\n\\n\\n\\n\\n\\n\\n\\n\\n\\n\\n\\n\\n\\n\\n\\n\\n\\n\\n\\n\\n\\n\\n\\n\\n\\n\\n\\n\\n\\n\\n\\n\\n\\n\\n\\n\\n\\n\\n\\n\\n\\n\\n\\n\\n\\n\\n\\n\\n\\n\\n\\n\\n\\n\\n\\n\\n\\n\\n\\n\\n\\n\\n\\n\\n\\n\\n\\n\\n\\n\\n\\n\\n\\n\\n\\n\\n\\n\\n\\n\\n\\n\\n\\n\\n\\n\\n\\n\\n\\n\\n\\n\\n\\n\\n\\n\\n\\n\\n\\n\\n\\n\\n\\n\\n\\n\\n\\n\\n\\n\\n\\n\\n\\n\\n\\n\\n\\n\\n\\n\\n\\n\\n\\n\\n\\n\\n\\n\\n\\n\\n\\n\\n\\n\\n\\n\\n\\n\\n\\n\\n\\n\\n\\n\\n\\n\\n\\n\\n\\n\\n\\n\\n\\n\\n\\n\\n\\n\\n\\n\\n\\n\\n\\n\\n\\n\\n\\n\\n\\n\\n\\n\\n\\n\\n\\n\\n\\n\\n\\n\\n\\n\\n\\n\\n\\n\\n\\n\\n\\n\\n\\n\\n\\n\\n\\n\\n\\n\\n\\n\\n\\n\\n\\n\\n\\n\\n\\n\\n\\n\\n\\n\\n\\n\\n\\n\\n\\n\\n\\n\\n\\n\\n\\n\\n\\n\\n\\n\\n\\n\\n\\n\\n\\n\\n\\n\\n\\n\\n\\n\\n\\n\\n\\n\\n\\n\\n\\n\\n\\n\\n\\n\\n\\n\\n\\n\\n\\n\\n\\n\\n\\n\\n\\n\\n\\n\\n\\n\\n\\n\\n\\n\\n\\n\\n\\n\\n\\n\\n\\n\\n\\n\\n\\n\\n\\n\\n\\n\\n\\n\\n\\n\\n\\n\\n\\n\\n\\n\\n\\n\\n\\n\\n\\n\\n\\n\\n\\n\\n\\n\\n\\n\\n\\n\\n\\n\\n\\n\\n\\n\\n\\n\\n\\n\\n\\n\\n\\n\\n\\n\\n\\n\\n\\n\\n\\n\\n\\n\\n\\n\\n\\n\\n\\n\\n\\n\\n\\n\\n\\n\\n\\n\\n\\n\\n\\n\\n\\n\\n\\n\\n\\n\\n\\n\\n\\n\\n\\n\\n\\n\\n\\n\\n\\n\\n\\n\\n\\n\\n\\n\\n\\n\\n\\n\\n\\n\\n\\n\\n\\n\\n\\n\\n\\n\\n\\n\\n\\n\\n\\n\\n\\n\\n\\n\\n\\n\\n\\n\\n\\n\\n\\n\\n\\n\\n\\n\\n\\n\\n\\n\\n\\n\\n\\n\\n\\n\\n\\n\\n\\n\\n\\n\\n\\n\\n\\n\\n\\n\\n\\n\\n\\n\\n\\n\\n\\n\\n\\n\\n\\n\\n\\n\\n\\n\\n\\n\\n\\n\\n\\n\\n\\n\\n\\n\\n\\n\\n\\n\\n\\n\\n\\n\\n\\n\\n\\n\\n\\n\\n\\n\\n\\n\\n\\n\\n\\n\\n\\n\\n\\n\\n\\n\\n\\n\\n'"
      ]
     },
     "execution_count": 14,
     "metadata": {},
     "output_type": "execute_result"
    }
   ],
   "source": [
    "answer = ask_qa('how to win Big Tiger in live baccarat?')\n",
    "answer"
   ]
  }
 ],
 "metadata": {
  "kernelspec": {
   "display_name": "tune2",
   "language": "python",
   "name": "python3"
  },
  "language_info": {
   "codemirror_mode": {
    "name": "ipython",
    "version": 3
   },
   "file_extension": ".py",
   "mimetype": "text/x-python",
   "name": "python",
   "nbconvert_exporter": "python",
   "pygments_lexer": "ipython3",
   "version": "3.9.18"
  }
 },
 "nbformat": 4,
 "nbformat_minor": 2
}
