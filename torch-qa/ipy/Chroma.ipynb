{
 "cells": [
  {
   "cell_type": "code",
   "execution_count": 1,
   "metadata": {},
   "outputs": [],
   "source": [
    "from py_standard.langchain_lit import split_documents, convert_docs_to_splits, LlmEmbedding, load_markdown_documents\n",
    "from py_standard.pdf_utils import load_pdf_documents_from_directory\n",
    "from langchain.vectorstores import Chroma\n",
    "\n",
    "EMB_MODEL = \"bge-base-en\"\n",
    "#EMB_MODEL = \"bge-large-zh-v1.5\"\n",
    "#EMB_MODEL = \"UAE-Large-V1\"\n",
    "\n",
    "def load_all_pdfs(path):\n",
    "   txts = load_markdown_documents('./documents')\n",
    "   pdfs = load_pdf_documents_from_directory(path)\n",
    "   all_docs = txts + pdfs\n",
    "   docs = split_documents(all_docs, 500)\n",
    "   return docs\n",
    "   \n",
    "def load_vectorstore(docs):\n",
    "   llm_embedding = LlmEmbedding(f\"../models/{EMB_MODEL}\")\n",
    "   vectorstore = Chroma.from_documents(\n",
    "      collection_name=\"small\", \n",
    "      documents=docs,\n",
    "      embedding=llm_embedding.embedding,\n",
    "      persist_directory=None,\n",
    "      collection_metadata={\n",
    "         \"hnsw:space\": \"cosine\",\n",
    "         \"hnsw:search_ef\" : 100,\n",
    "      })\n",
    "   return vectorstore\n"
   ]
  },
  {
   "cell_type": "code",
   "execution_count": 2,
   "metadata": {},
   "outputs": [],
   "source": [
    "docs = load_all_pdfs('./documents')"
   ]
  },
  {
   "cell_type": "code",
   "execution_count": 3,
   "metadata": {},
   "outputs": [
    {
     "data": {
      "text/plain": [
       "7228"
      ]
     },
     "execution_count": 3,
     "metadata": {},
     "output_type": "execute_result"
    }
   ],
   "source": [
    "vectorstore = load_vectorstore(docs)\n",
    "len(docs)"
   ]
  },
  {
   "cell_type": "code",
   "execution_count": 4,
   "metadata": {},
   "outputs": [],
   "source": [
    "def search_docs(user_query):\n",
    "   global vectorstore\n",
    "   docs = vectorstore.similarity_search_with_score(user_query, k=5)\n",
    "   return docs"
   ]
  },
  {
   "cell_type": "code",
   "execution_count": 6,
   "metadata": {},
   "outputs": [
    {
     "name": "stdout",
     "output_type": "stream",
     "text": [
      "split['score']=0.14152204990386963 split['source']='documents/t2.md'\n",
      "What is your name?\n",
      "My name is Astro. Flash created me.\n",
      "\n",
      "On August 12, 2023, the Eureka team released this feature. In Leo, specific handling was implemented to conceal transactions originating from specific hardcoded salary accounts across two pages (Txn and Sal Txn - Approval Sal Txn).\n",
      "\n",
      "What is your name?\n",
      "My name is Jack.\n",
      "split['score']=0.15703904628753662 split['source']='documents/test.md'\n",
      "What is your name?\n",
      "My name is Astro. Flash created me.\n",
      "\n",
      "On August 12, 2023, the Eureka team released this feature. In Leo, specific handling was implemented to conceal transactions originating from specific hardcoded salary accounts across two pages (Txn and Sal Txn - Approval Sal Txn).\n",
      "split['score']=0.17346525192260742 split['source']='documents/Essential.CSharp.4.0.pdf'\n",
      "{\n",
      "      System.Console.WriteLine(\"Your full name is {0}.\", name);\n",
      "      return;\n",
      "  } \n",
      "}\n",
      "OUTPUT  4.1: \n",
      "Hey you!\n",
      "Enter your first name: Inigo \n",
      "Enter your last name: Montoya \n",
      "Your full name is Inigo Montoya.\n",
      "From the Library of Wow! eBook\n",
      "split['score']=0.1790509819984436 split['source']='documents/t1.md'\n",
      "What is your name?\n",
      "My name is Astro. Flash created me2.\n",
      "split['score']=0.18426811695098877 split['source']='documents/Essential.CSharp.4.0.pdf'\n",
      "string lastName;  // Variable for storing the last namesingle-line comment\n",
      "      System.Console.WriteLine(\"Hey you!\");\n",
      "      System.Console.Write /* No new line */  (\n",
      "          \"Enter your first name: \");\n",
      "      firstName = System.Console.ReadLine();\n",
      "      System.Console.Write /* No new line */  (\n",
      "          \"Enter your last name: \");\n",
      "      lastName = System.Console.ReadLine();\n",
      "      /* Display a greeting to the console\n"
     ]
    }
   ],
   "source": [
    "question = \"What is your name?\"\n",
    "\n",
    "splits = []\n",
    "for doc, score in search_docs(question):\n",
    "   item = {\n",
    "      'page_content': doc.page_content,\n",
    "      'score': score,\n",
    "      'source': doc.metadata['source']\n",
    "   }\n",
    "   splits.append(item)\n",
    "   \n",
    "for split in splits:\n",
    "   print(f\"{split['score']=} {split['source']=}\")\n",
    "   #print(f\"{split['page_content']}\")"
   ]
  }
 ],
 "metadata": {
  "kernelspec": {
   "display_name": "tune2",
   "language": "python",
   "name": "python3"
  },
  "language_info": {
   "codemirror_mode": {
    "name": "ipython",
    "version": 3
   },
   "file_extension": ".py",
   "mimetype": "text/x-python",
   "name": "python",
   "nbconvert_exporter": "python",
   "pygments_lexer": "ipython3",
   "version": "3.10.12"
  }
 },
 "nbformat": 4,
 "nbformat_minor": 2
}
