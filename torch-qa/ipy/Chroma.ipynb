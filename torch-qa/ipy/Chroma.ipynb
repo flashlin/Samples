{
 "cells": [
  {
   "cell_type": "code",
   "execution_count": 1,
   "metadata": {},
   "outputs": [],
   "source": [
    "from py_standard.langchain_lit import split_documents, convert_docs_to_splits, LlmEmbedding, load_markdown_documents\n",
    "from py_standard.pdf_utils import load_pdf_documents_from_directory\n",
    "from langchain.vectorstores import Chroma\n",
    "\n",
    "EMB_MODEL = \"bge-base-en\"\n",
    "#EMB_MODEL = \"bge-large-zh-v1.5\"\n",
    "#EMB_MODEL = \"UAE-Large-V1\"\n",
    "\n",
    "def load_all_pdfs(path):\n",
    "   txts = load_markdown_documents('./documents')\n",
    "   pdfs = load_pdf_documents_from_directory(path)\n",
    "   all_docs = txts + pdfs\n",
    "   docs = split_documents(all_docs, 500)\n",
    "   return docs\n",
    "   \n",
    "def load_vectorstore(docs):\n",
    "   llm_embedding = LlmEmbedding(f\"../models/{EMB_MODEL}\")\n",
    "   vectorstore = Chroma.from_documents(documents=docs,\n",
    "                                       embedding=llm_embedding.embedding,\n",
    "                                       persist_directory=None,\n",
    "                                       collection_metadata={\n",
    "                                           \"hnsw:space\": \"cosine\",\n",
    "                                           \"hnsw:search_ef\" : 100,\n",
    "                                       })\n",
    "   return vectorstore\n"
   ]
  },
  {
   "cell_type": "code",
   "execution_count": 2,
   "metadata": {},
   "outputs": [],
   "source": [
    "docs = load_all_pdfs('./documents')"
   ]
  },
  {
   "cell_type": "code",
   "execution_count": 3,
   "metadata": {},
   "outputs": [
    {
     "data": {
      "text/plain": [
       "3452"
      ]
     },
     "execution_count": 3,
     "metadata": {},
     "output_type": "execute_result"
    }
   ],
   "source": [
    "vectorstore = load_vectorstore(docs)\n",
    "len(docs)"
   ]
  },
  {
   "cell_type": "code",
   "execution_count": 4,
   "metadata": {},
   "outputs": [],
   "source": [
    "def search_docs(user_query):\n",
    "   global vectorstore\n",
    "   docs = vectorstore.similarity_search_with_score(user_query, k=5)\n",
    "   return docs"
   ]
  },
  {
   "cell_type": "code",
   "execution_count": 5,
   "metadata": {},
   "outputs": [
    {
     "name": "stdout",
     "output_type": "stream",
     "text": [
      "split['score']=0.15703898668289185 split['source']='documents/test..md'\n",
      "split['score']=0.17905104160308838 split['source']='documents/t1.md'\n",
      "split['score']=0.21625810861587524 split['source']='documents/Expert F4.pdf'\n",
      "split['score']=0.21765893697738647 split['source']='documents/Expert F4.pdf'\n",
      "split['score']=0.21833086013793945 split['source']='documents/Expert F4.pdf'\n"
     ]
    }
   ],
   "source": [
    "question = \"What is your name?\"\n",
    "\n",
    "splits = []\n",
    "for doc, score in search_docs(question):\n",
    "   item = {\n",
    "      'page_content': doc.page_content,\n",
    "      'score': score,\n",
    "      'source': doc.metadata['source']\n",
    "   }\n",
    "   splits.append(item)\n",
    "   \n",
    "for split in splits:\n",
    "   print(f\"{split['score']=} {split['source']=}\")"
   ]
  }
 ],
 "metadata": {
  "kernelspec": {
   "display_name": "tune2",
   "language": "python",
   "name": "python3"
  },
  "language_info": {
   "codemirror_mode": {
    "name": "ipython",
    "version": 3
   },
   "file_extension": ".py",
   "mimetype": "text/x-python",
   "name": "python",
   "nbconvert_exporter": "python",
   "pygments_lexer": "ipython3",
   "version": "3.10.12"
  }
 },
 "nbformat": 4,
 "nbformat_minor": 2
}
