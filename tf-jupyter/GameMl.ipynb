{
 "cells": [
  {
   "cell_type": "code",
   "execution_count": 94,
   "id": "c2cd5d0e",
   "metadata": {},
   "outputs": [],
   "source": [
    "import os\n",
    "import tensorflow as tf\n",
    "import matplotlib.pyplot as plt\n",
    "import numpy as np"
   ]
  },
  {
   "cell_type": "code",
   "execution_count": 178,
   "id": "c18fd1fc",
   "metadata": {},
   "outputs": [],
   "source": [
    "def preprocess(imagefile_path):\n",
    "   byte_img = tf.io.read_file(imagefile_path)\n",
    "   img = tf.io.decode_jpeg(byte_img, channels=3)\n",
    "   return img"
   ]
  },
  {
   "cell_type": "code",
   "execution_count": 192,
   "id": "518f66b1",
   "metadata": {},
   "outputs": [],
   "source": [
    "images = tf.data.Dataset.list_files(os.path.join('data', '*.png'), shuffle=False)\n",
    "images = images.map(preprocess)"
   ]
  },
  {
   "cell_type": "code",
   "execution_count": null,
   "id": "9db4371d",
   "metadata": {},
   "outputs": [],
   "source": [
    "#image1 = images.as_numpy_iterator().next()\n",
    "#plt.imshow(preprocess(os.path.join('data', '6a650b96-1e34-11ed-a7d9-201e887f9b25.png')))\n",
    "#plt.imshow(image1)"
   ]
  },
  {
   "cell_type": "code",
   "execution_count": 219,
   "id": "b8b9cd7c",
   "metadata": {},
   "outputs": [
    {
     "ename": "TypeError",
     "evalue": "'MapDataset' object is not subscriptable",
     "output_type": "error",
     "traceback": [
      "\u001b[1;31m---------------------------------------------------------------------------\u001b[0m",
      "\u001b[1;31mTypeError\u001b[0m                                 Traceback (most recent call last)",
      "\u001b[1;32md:\\VDisk\\Github\\Samples\\tf-jupyter\\GameMl.ipynb Cell 5\u001b[0m in \u001b[0;36m<cell line: 14>\u001b[1;34m()\u001b[0m\n\u001b[0;32m      <a href='vscode-notebook-cell:/d%3A/VDisk/Github/Samples/tf-jupyter/GameMl.ipynb#W4sZmlsZQ%3D%3D?line=6'>7</a>\u001b[0m keypresses \u001b[39m=\u001b[39m keypresses\u001b[39m.\u001b[39mmap(\u001b[39mlambda\u001b[39;00m x: tf\u001b[39m.\u001b[39mpy_function(preprocess_keypress, [x], tf\u001b[39m.\u001b[39mint16))\n\u001b[0;32m     <a href='vscode-notebook-cell:/d%3A/VDisk/Github/Samples/tf-jupyter/GameMl.ipynb#W4sZmlsZQ%3D%3D?line=9'>10</a>\u001b[0m \u001b[39m# def warp_array(x1,x2):\u001b[39;00m\n\u001b[0;32m     <a href='vscode-notebook-cell:/d%3A/VDisk/Github/Samples/tf-jupyter/GameMl.ipynb#W4sZmlsZQ%3D%3D?line=10'>11</a>\u001b[0m \u001b[39m#    return tf.expand_dims([x1,x2], axis=0)\u001b[39;00m\n\u001b[0;32m     <a href='vscode-notebook-cell:/d%3A/VDisk/Github/Samples/tf-jupyter/GameMl.ipynb#W4sZmlsZQ%3D%3D?line=11'>12</a>\u001b[0m \u001b[39m# keypresses = keypresses.map(warp_array)\u001b[39;00m\n\u001b[1;32m---> <a href='vscode-notebook-cell:/d%3A/VDisk/Github/Samples/tf-jupyter/GameMl.ipynb#W4sZmlsZQ%3D%3D?line=13'>14</a>\u001b[0m \u001b[39mprint\u001b[39m(keypresses[\u001b[39m0\u001b[39;49m])\n",
      "\u001b[1;31mTypeError\u001b[0m: 'MapDataset' object is not subscriptable"
     ]
    }
   ],
   "source": [
    "def preprocess_keypress(file_path):\n",
    "   context = tf.io.read_file(file_path)\n",
    "   lines = tf.strings.split(context, '\\r\\n')\n",
    "   return lines[0]\n",
    "\n",
    "keypresses = tf.data.Dataset.list_files(os.path.join('data', '*.txt'), shuffle=False)\n",
    "keypresses = keypresses.map(lambda x: tf.py_function(preprocess_keypress, [x], tf.int16))\n",
    "\n",
    "\n",
    "# def warp_array(x1,x2):\n",
    "#    return tf.expand_dims([x1,x2], axis=0)\n",
    "# keypresses = keypresses.map(warp_array)\n",
    "\n"
   ]
  },
  {
   "cell_type": "code",
   "execution_count": null,
   "id": "8383946a",
   "metadata": {},
   "outputs": [],
   "source": [
    "# for x in keypresses.as_numpy_iterator():\n",
    "#   print(x)"
   ]
  },
  {
   "cell_type": "code",
   "execution_count": 207,
   "id": "13ac3913",
   "metadata": {},
   "outputs": [
    {
     "name": "stdout",
     "output_type": "stream",
     "text": [
      "143\n"
     ]
    }
   ],
   "source": [
    "dataset = tf.data.Dataset.zip((images, keypresses))\n",
    "dataset_len = len(dataset)\n",
    "print(dataset_len)"
   ]
  },
  {
   "cell_type": "code",
   "execution_count": 214,
   "id": "a627e1f4",
   "metadata": {},
   "outputs": [],
   "source": [
    "batch_size = 3\n",
    "if batch_size > dataset_len:\n",
    "   batch_size = dataset_len\n",
    "prefetch_len = dataset_len // batch_size\n",
    "\n",
    "dataset = dataset.cache()\n",
    "dataset = dataset.shuffle(dataset_len)\n",
    "dataset = dataset.batch(batch_size)\n",
    "dataset = dataset.prefetch(prefetch_len)"
   ]
  },
  {
   "cell_type": "code",
   "execution_count": 184,
   "id": "b0bc8bcd",
   "metadata": {},
   "outputs": [],
   "source": [
    "def unpack_y(x, y):\n",
    "   # 消除 y 的dim\n",
    "   return x, tf.squeeze(y, axis=1)\n",
    "dataset = dataset.map(unpack_y)"
   ]
  },
  {
   "cell_type": "code",
   "execution_count": 216,
   "id": "c8e53d85",
   "metadata": {},
   "outputs": [
    {
     "ename": "StopIteration",
     "evalue": "",
     "output_type": "error",
     "traceback": [
      "\u001b[1;31m---------------------------------------------------------------------------\u001b[0m",
      "\u001b[1;31mOutOfRangeError\u001b[0m                           Traceback (most recent call last)",
      "File \u001b[1;32mD:\\Users\\flash\\miniconda3\\envs\\tf2_jupyter\\lib\\site-packages\\tensorflow\\python\\data\\ops\\iterator_ops.py:766\u001b[0m, in \u001b[0;36mOwnedIterator.__next__\u001b[1;34m(self)\u001b[0m\n\u001b[0;32m    765\u001b[0m \u001b[39mtry\u001b[39;00m:\n\u001b[1;32m--> 766\u001b[0m   \u001b[39mreturn\u001b[39;00m \u001b[39mself\u001b[39;49m\u001b[39m.\u001b[39;49m_next_internal()\n\u001b[0;32m    767\u001b[0m \u001b[39mexcept\u001b[39;00m errors\u001b[39m.\u001b[39mOutOfRangeError:\n",
      "File \u001b[1;32mD:\\Users\\flash\\miniconda3\\envs\\tf2_jupyter\\lib\\site-packages\\tensorflow\\python\\data\\ops\\iterator_ops.py:749\u001b[0m, in \u001b[0;36mOwnedIterator._next_internal\u001b[1;34m(self)\u001b[0m\n\u001b[0;32m    748\u001b[0m \u001b[39mwith\u001b[39;00m context\u001b[39m.\u001b[39mexecution_mode(context\u001b[39m.\u001b[39mSYNC):\n\u001b[1;32m--> 749\u001b[0m   ret \u001b[39m=\u001b[39m gen_dataset_ops\u001b[39m.\u001b[39;49miterator_get_next(\n\u001b[0;32m    750\u001b[0m       \u001b[39mself\u001b[39;49m\u001b[39m.\u001b[39;49m_iterator_resource,\n\u001b[0;32m    751\u001b[0m       output_types\u001b[39m=\u001b[39;49m\u001b[39mself\u001b[39;49m\u001b[39m.\u001b[39;49m_flat_output_types,\n\u001b[0;32m    752\u001b[0m       output_shapes\u001b[39m=\u001b[39;49m\u001b[39mself\u001b[39;49m\u001b[39m.\u001b[39;49m_flat_output_shapes)\n\u001b[0;32m    754\u001b[0m   \u001b[39mtry\u001b[39;00m:\n\u001b[0;32m    755\u001b[0m     \u001b[39m# Fast path for the case `self._structure` is not a nested structure.\u001b[39;00m\n",
      "File \u001b[1;32mD:\\Users\\flash\\miniconda3\\envs\\tf2_jupyter\\lib\\site-packages\\tensorflow\\python\\ops\\gen_dataset_ops.py:3016\u001b[0m, in \u001b[0;36miterator_get_next\u001b[1;34m(iterator, output_types, output_shapes, name)\u001b[0m\n\u001b[0;32m   3015\u001b[0m \u001b[39mexcept\u001b[39;00m _core\u001b[39m.\u001b[39m_NotOkStatusException \u001b[39mas\u001b[39;00m e:\n\u001b[1;32m-> 3016\u001b[0m   _ops\u001b[39m.\u001b[39;49mraise_from_not_ok_status(e, name)\n\u001b[0;32m   3017\u001b[0m \u001b[39mexcept\u001b[39;00m _core\u001b[39m.\u001b[39m_FallbackException:\n",
      "File \u001b[1;32mD:\\Users\\flash\\miniconda3\\envs\\tf2_jupyter\\lib\\site-packages\\tensorflow\\python\\framework\\ops.py:7164\u001b[0m, in \u001b[0;36mraise_from_not_ok_status\u001b[1;34m(e, name)\u001b[0m\n\u001b[0;32m   7163\u001b[0m e\u001b[39m.\u001b[39mmessage \u001b[39m+\u001b[39m\u001b[39m=\u001b[39m (\u001b[39m\"\u001b[39m\u001b[39m name: \u001b[39m\u001b[39m\"\u001b[39m \u001b[39m+\u001b[39m name \u001b[39mif\u001b[39;00m name \u001b[39mis\u001b[39;00m \u001b[39mnot\u001b[39;00m \u001b[39mNone\u001b[39;00m \u001b[39melse\u001b[39;00m \u001b[39m\"\u001b[39m\u001b[39m\"\u001b[39m)\n\u001b[1;32m-> 7164\u001b[0m \u001b[39mraise\u001b[39;00m core\u001b[39m.\u001b[39m_status_to_exception(e) \u001b[39mfrom\u001b[39;00m \u001b[39mNone\u001b[39m\n",
      "\u001b[1;31mOutOfRangeError\u001b[0m: End of sequence [Op:IteratorGetNext]",
      "\nDuring handling of the above exception, another exception occurred:\n",
      "\u001b[1;31mStopIteration\u001b[0m                             Traceback (most recent call last)",
      "\u001b[1;32md:\\VDisk\\Github\\Samples\\tf-jupyter\\GameMl.ipynb Cell 10\u001b[0m in \u001b[0;36m<cell line: 1>\u001b[1;34m()\u001b[0m\n\u001b[1;32m----> <a href='vscode-notebook-cell:/d%3A/VDisk/Github/Samples/tf-jupyter/GameMl.ipynb#X13sZmlsZQ%3D%3D?line=0'>1</a>\u001b[0m x, y \u001b[39m=\u001b[39m dataset\u001b[39m.\u001b[39;49mas_numpy_iterator()\u001b[39m.\u001b[39;49mnext()\n\u001b[0;32m      <a href='vscode-notebook-cell:/d%3A/VDisk/Github/Samples/tf-jupyter/GameMl.ipynb#X13sZmlsZQ%3D%3D?line=1'>2</a>\u001b[0m \u001b[39mlen\u001b[39m(y)\n",
      "File \u001b[1;32mD:\\Users\\flash\\miniconda3\\envs\\tf2_jupyter\\lib\\site-packages\\tensorflow\\python\\data\\ops\\dataset_ops.py:4481\u001b[0m, in \u001b[0;36m_NumpyIterator.next\u001b[1;34m(self)\u001b[0m\n\u001b[0;32m   4480\u001b[0m \u001b[39mdef\u001b[39;00m \u001b[39mnext\u001b[39m(\u001b[39mself\u001b[39m):\n\u001b[1;32m-> 4481\u001b[0m   \u001b[39mreturn\u001b[39;00m \u001b[39mself\u001b[39;49m\u001b[39m.\u001b[39;49m\u001b[39m__next__\u001b[39;49m()\n",
      "File \u001b[1;32mD:\\Users\\flash\\miniconda3\\envs\\tf2_jupyter\\lib\\site-packages\\tensorflow\\python\\data\\ops\\dataset_ops.py:4478\u001b[0m, in \u001b[0;36m_NumpyIterator.__next__\u001b[1;34m(self)\u001b[0m\n\u001b[0;32m   4475\u001b[0m     numpy\u001b[39m.\u001b[39msetflags(write\u001b[39m=\u001b[39m\u001b[39mFalse\u001b[39;00m)\n\u001b[0;32m   4476\u001b[0m   \u001b[39mreturn\u001b[39;00m numpy\n\u001b[1;32m-> 4478\u001b[0m \u001b[39mreturn\u001b[39;00m nest\u001b[39m.\u001b[39mmap_structure(to_numpy, \u001b[39mnext\u001b[39;49m(\u001b[39mself\u001b[39;49m\u001b[39m.\u001b[39;49m_iterator))\n",
      "File \u001b[1;32mD:\\Users\\flash\\miniconda3\\envs\\tf2_jupyter\\lib\\site-packages\\tensorflow\\python\\data\\ops\\iterator_ops.py:768\u001b[0m, in \u001b[0;36mOwnedIterator.__next__\u001b[1;34m(self)\u001b[0m\n\u001b[0;32m    766\u001b[0m   \u001b[39mreturn\u001b[39;00m \u001b[39mself\u001b[39m\u001b[39m.\u001b[39m_next_internal()\n\u001b[0;32m    767\u001b[0m \u001b[39mexcept\u001b[39;00m errors\u001b[39m.\u001b[39mOutOfRangeError:\n\u001b[1;32m--> 768\u001b[0m   \u001b[39mraise\u001b[39;00m \u001b[39mStopIteration\u001b[39;00m\n",
      "\u001b[1;31mStopIteration\u001b[0m: "
     ]
    }
   ],
   "source": [
    "x, y = dataset.as_numpy_iterator().next()\n",
    "len(y)"
   ]
  },
  {
   "cell_type": "code",
   "execution_count": 105,
   "id": "733402d3",
   "metadata": {},
   "outputs": [],
   "source": [
    "# plt.imshow(x[0])"
   ]
  },
  {
   "cell_type": "code",
   "execution_count": 106,
   "id": "db09d29e",
   "metadata": {},
   "outputs": [],
   "source": [
    "# width, height, channels = images.as_numpy_iterator().next().shape\n",
    "# print(width, height, channels)\n"
   ]
  },
  {
   "cell_type": "markdown",
   "id": "42e5d60d",
   "metadata": {},
   "source": [
    "Do Deep Learning Model"
   ]
  },
  {
   "cell_type": "code",
   "execution_count": 107,
   "id": "d765ec72",
   "metadata": {},
   "outputs": [],
   "source": [
    "from tensorflow.keras.models import Sequential, Model\n",
    "from tensorflow.keras.layers import Dense, Conv2D, Flatten, Input, MaxPooling2D, Dropout, BatchNormalization\n"
   ]
  },
  {
   "cell_type": "code",
   "execution_count": 212,
   "id": "697e4c23",
   "metadata": {},
   "outputs": [
    {
     "name": "stdout",
     "output_type": "stream",
     "text": [
      "Model: \"sequential_16\"\n",
      "_________________________________________________________________\n",
      " Layer (type)                Output Shape              Param #   \n",
      "=================================================================\n",
      " conv2d_32 (Conv2D)          (None, 276, 146, 64)      4864      \n",
      "                                                                 \n",
      " conv2d_33 (Conv2D)          (None, 91, 48, 128)       131200    \n",
      "                                                                 \n",
      " flatten_16 (Flatten)        (None, 559104)            0         \n",
      "                                                                 \n",
      " layer_predict_1_numbers (De  (None, 1)                559105    \n",
      " nse)                                                            \n",
      "                                                                 \n",
      "=================================================================\n",
      "Total params: 695,169\n",
      "Trainable params: 695,169\n",
      "Non-trainable params: 0\n",
      "_________________________________________________________________\n"
     ]
    }
   ],
   "source": [
    "from statistics import mode\n",
    "\n",
    "from tensorflow.keras import mixed_precision\n",
    "mixed_precision.set_global_policy('mixed_float16')\n",
    "\n",
    "model = Sequential()\n",
    "# images.as_numpy_iterator().next().shape 得到 (800,)\n",
    "model.add(Conv2D(64, 5, strides=(3,3), activation='relu', input_shape=(width, height, channels)))\n",
    "model.add(Conv2D(128, 4, strides=(3,3), activation='relu'))\n",
    "model.add(Flatten())\n",
    "# model.add(Dense(128, activation='relu'))\n",
    "# keypresses.as_numpy_iterator().next()[0].shape 得到 (4,)\n",
    "\n",
    "# 判斷 四 個按鈕\n",
    "# model.add(Dense(18*31, activation='softmax'))\n",
    "\n",
    "# softmax: 輸出各種結果的概率總和為1\n",
    "# 預測 4 個數字\n",
    "model.add(Dense(1, activation=\"relu\", name=\"layer_predict_1_numbers\"))\n",
    "model.summary()\n",
    "\n",
    "\n",
    "# 假如出現, 表示 model 耗用太多 memory\n",
    "# OOM when allocating tensor with shape[60191872,128] and type float \n"
   ]
  },
  {
   "cell_type": "code",
   "execution_count": 209,
   "id": "757acb18",
   "metadata": {},
   "outputs": [],
   "source": [
    "# model.compile('adam', tf.losses.CategoricalCrossentropy())\n",
    "\n",
    "# 判斷兩個數字用\n",
    "model.compile(optimizer='adam', loss='mse')\n",
    "#model.compile(optimizer='sgd', loss='mae')"
   ]
  },
  {
   "cell_type": "code",
   "execution_count": 210,
   "id": "3ee41d6f",
   "metadata": {},
   "outputs": [],
   "source": [
    "# validation loss 三個執行週期沒改善就停止訓練\n",
    "# tensorboard --logdir=.\\logs\n",
    "checkpoint_filepath = '.\\\\checkpoints\\\\checkpoint'\n",
    "my_callbacks = [\n",
    "    tf.keras.callbacks.EarlyStopping(patience=3, monitor='loss'),\n",
    "    tf.keras.callbacks.TensorBoard(log_dir='.\\\\logs'),\n",
    "    # monitor = val_acc loss val_loss\n",
    "    tf.keras.callbacks.ModelCheckpoint(filepath=checkpoint_filepath, monitor='loss', verbose=1, save_freq='epoch', save_best_only=True, save_weights_only=True),\n",
    "]"
   ]
  },
  {
   "cell_type": "code",
   "execution_count": 211,
   "id": "7af22bc3",
   "metadata": {},
   "outputs": [
    {
     "name": "stdout",
     "output_type": "stream",
     "text": [
      "Epoch 1/10\n"
     ]
    },
    {
     "ename": "InvalidArgumentError",
     "evalue": "Graph execution error:\n\n2 root error(s) found.\n  (0) INVALID_ARGUMENT:  ValueError: Tensor conversion requested dtype int16 for Tensor with dtype string: <tf.Tensor: shape=(), dtype=string, numpy=b'581'>\nTraceback (most recent call last):\n\n  File \"D:\\Users\\flash\\miniconda3\\envs\\tf2_jupyter\\lib\\site-packages\\tensorflow\\python\\ops\\script_ops.py\", line 268, in __call__\n    return func(device, token, args)\n\n  File \"D:\\Users\\flash\\miniconda3\\envs\\tf2_jupyter\\lib\\site-packages\\tensorflow\\python\\ops\\script_ops.py\", line 146, in __call__\n    outputs = self._call(device, args)\n\n  File \"D:\\Users\\flash\\miniconda3\\envs\\tf2_jupyter\\lib\\site-packages\\tensorflow\\python\\ops\\script_ops.py\", line 171, in _call\n    self._convert(ret, dtype=self._out_dtypes[0]), device_name)\n\n  File \"D:\\Users\\flash\\miniconda3\\envs\\tf2_jupyter\\lib\\site-packages\\tensorflow\\python\\ops\\script_ops.py\", line 130, in _convert\n    return ops.convert_to_tensor(value, dtype=dtype)\n\n  File \"D:\\Users\\flash\\miniconda3\\envs\\tf2_jupyter\\lib\\site-packages\\tensorflow\\python\\profiler\\trace.py\", line 183, in wrapped\n    return func(*args, **kwargs)\n\n  File \"D:\\Users\\flash\\miniconda3\\envs\\tf2_jupyter\\lib\\site-packages\\tensorflow\\python\\framework\\ops.py\", line 1601, in convert_to_tensor\n    raise ValueError(\n\nValueError: Tensor conversion requested dtype int16 for Tensor with dtype string: <tf.Tensor: shape=(), dtype=string, numpy=b'581'>\n\n\n\t [[{{node EagerPyFunc}}]]\n\t [[IteratorGetNext]]\n\t [[mean_squared_error/Rank_1/_6]]\n  (1) INVALID_ARGUMENT:  ValueError: Tensor conversion requested dtype int16 for Tensor with dtype string: <tf.Tensor: shape=(), dtype=string, numpy=b'581'>\nTraceback (most recent call last):\n\n  File \"D:\\Users\\flash\\miniconda3\\envs\\tf2_jupyter\\lib\\site-packages\\tensorflow\\python\\ops\\script_ops.py\", line 268, in __call__\n    return func(device, token, args)\n\n  File \"D:\\Users\\flash\\miniconda3\\envs\\tf2_jupyter\\lib\\site-packages\\tensorflow\\python\\ops\\script_ops.py\", line 146, in __call__\n    outputs = self._call(device, args)\n\n  File \"D:\\Users\\flash\\miniconda3\\envs\\tf2_jupyter\\lib\\site-packages\\tensorflow\\python\\ops\\script_ops.py\", line 171, in _call\n    self._convert(ret, dtype=self._out_dtypes[0]), device_name)\n\n  File \"D:\\Users\\flash\\miniconda3\\envs\\tf2_jupyter\\lib\\site-packages\\tensorflow\\python\\ops\\script_ops.py\", line 130, in _convert\n    return ops.convert_to_tensor(value, dtype=dtype)\n\n  File \"D:\\Users\\flash\\miniconda3\\envs\\tf2_jupyter\\lib\\site-packages\\tensorflow\\python\\profiler\\trace.py\", line 183, in wrapped\n    return func(*args, **kwargs)\n\n  File \"D:\\Users\\flash\\miniconda3\\envs\\tf2_jupyter\\lib\\site-packages\\tensorflow\\python\\framework\\ops.py\", line 1601, in convert_to_tensor\n    raise ValueError(\n\nValueError: Tensor conversion requested dtype int16 for Tensor with dtype string: <tf.Tensor: shape=(), dtype=string, numpy=b'581'>\n\n\n\t [[{{node EagerPyFunc}}]]\n\t [[IteratorGetNext]]\n0 successful operations.\n0 derived errors ignored. [Op:__inference_train_function_1874348]",
     "output_type": "error",
     "traceback": [
      "\u001b[1;31m---------------------------------------------------------------------------\u001b[0m",
      "\u001b[1;31mInvalidArgumentError\u001b[0m                      Traceback (most recent call last)",
      "\u001b[1;32md:\\VDisk\\Github\\Samples\\tf-jupyter\\GameMl.ipynb Cell 18\u001b[0m in \u001b[0;36m<cell line: 4>\u001b[1;34m()\u001b[0m\n\u001b[0;32m      <a href='vscode-notebook-cell:/d%3A/VDisk/Github/Samples/tf-jupyter/GameMl.ipynb#X25sZmlsZQ%3D%3D?line=0'>1</a>\u001b[0m \u001b[39m# 載入最近的檢查點的權重\u001b[39;00m\n\u001b[0;32m      <a href='vscode-notebook-cell:/d%3A/VDisk/Github/Samples/tf-jupyter/GameMl.ipynb#X25sZmlsZQ%3D%3D?line=1'>2</a>\u001b[0m \u001b[39m#model.load_weights(checkpoint_filepath)\u001b[39;00m\n\u001b[0;32m      <a href='vscode-notebook-cell:/d%3A/VDisk/Github/Samples/tf-jupyter/GameMl.ipynb#X25sZmlsZQ%3D%3D?line=2'>3</a>\u001b[0m \u001b[39m#model.fit(x, y, epochs=10)\u001b[39;00m\n\u001b[1;32m----> <a href='vscode-notebook-cell:/d%3A/VDisk/Github/Samples/tf-jupyter/GameMl.ipynb#X25sZmlsZQ%3D%3D?line=3'>4</a>\u001b[0m model\u001b[39m.\u001b[39;49mfit(dataset, epochs\u001b[39m=\u001b[39;49m\u001b[39m10\u001b[39;49m, callbacks\u001b[39m=\u001b[39;49mmy_callbacks)\n",
      "File \u001b[1;32mD:\\Users\\flash\\miniconda3\\envs\\tf2_jupyter\\lib\\site-packages\\keras\\utils\\traceback_utils.py:67\u001b[0m, in \u001b[0;36mfilter_traceback.<locals>.error_handler\u001b[1;34m(*args, **kwargs)\u001b[0m\n\u001b[0;32m     65\u001b[0m \u001b[39mexcept\u001b[39;00m \u001b[39mException\u001b[39;00m \u001b[39mas\u001b[39;00m e:  \u001b[39m# pylint: disable=broad-except\u001b[39;00m\n\u001b[0;32m     66\u001b[0m   filtered_tb \u001b[39m=\u001b[39m _process_traceback_frames(e\u001b[39m.\u001b[39m__traceback__)\n\u001b[1;32m---> 67\u001b[0m   \u001b[39mraise\u001b[39;00m e\u001b[39m.\u001b[39mwith_traceback(filtered_tb) \u001b[39mfrom\u001b[39;00m \u001b[39mNone\u001b[39m\n\u001b[0;32m     68\u001b[0m \u001b[39mfinally\u001b[39;00m:\n\u001b[0;32m     69\u001b[0m   \u001b[39mdel\u001b[39;00m filtered_tb\n",
      "File \u001b[1;32mD:\\Users\\flash\\miniconda3\\envs\\tf2_jupyter\\lib\\site-packages\\tensorflow\\python\\eager\\execute.py:54\u001b[0m, in \u001b[0;36mquick_execute\u001b[1;34m(op_name, num_outputs, inputs, attrs, ctx, name)\u001b[0m\n\u001b[0;32m     52\u001b[0m \u001b[39mtry\u001b[39;00m:\n\u001b[0;32m     53\u001b[0m   ctx\u001b[39m.\u001b[39mensure_initialized()\n\u001b[1;32m---> 54\u001b[0m   tensors \u001b[39m=\u001b[39m pywrap_tfe\u001b[39m.\u001b[39mTFE_Py_Execute(ctx\u001b[39m.\u001b[39m_handle, device_name, op_name,\n\u001b[0;32m     55\u001b[0m                                       inputs, attrs, num_outputs)\n\u001b[0;32m     56\u001b[0m \u001b[39mexcept\u001b[39;00m core\u001b[39m.\u001b[39m_NotOkStatusException \u001b[39mas\u001b[39;00m e:\n\u001b[0;32m     57\u001b[0m   \u001b[39mif\u001b[39;00m name \u001b[39mis\u001b[39;00m \u001b[39mnot\u001b[39;00m \u001b[39mNone\u001b[39;00m:\n",
      "\u001b[1;31mInvalidArgumentError\u001b[0m: Graph execution error:\n\n2 root error(s) found.\n  (0) INVALID_ARGUMENT:  ValueError: Tensor conversion requested dtype int16 for Tensor with dtype string: <tf.Tensor: shape=(), dtype=string, numpy=b'581'>\nTraceback (most recent call last):\n\n  File \"D:\\Users\\flash\\miniconda3\\envs\\tf2_jupyter\\lib\\site-packages\\tensorflow\\python\\ops\\script_ops.py\", line 268, in __call__\n    return func(device, token, args)\n\n  File \"D:\\Users\\flash\\miniconda3\\envs\\tf2_jupyter\\lib\\site-packages\\tensorflow\\python\\ops\\script_ops.py\", line 146, in __call__\n    outputs = self._call(device, args)\n\n  File \"D:\\Users\\flash\\miniconda3\\envs\\tf2_jupyter\\lib\\site-packages\\tensorflow\\python\\ops\\script_ops.py\", line 171, in _call\n    self._convert(ret, dtype=self._out_dtypes[0]), device_name)\n\n  File \"D:\\Users\\flash\\miniconda3\\envs\\tf2_jupyter\\lib\\site-packages\\tensorflow\\python\\ops\\script_ops.py\", line 130, in _convert\n    return ops.convert_to_tensor(value, dtype=dtype)\n\n  File \"D:\\Users\\flash\\miniconda3\\envs\\tf2_jupyter\\lib\\site-packages\\tensorflow\\python\\profiler\\trace.py\", line 183, in wrapped\n    return func(*args, **kwargs)\n\n  File \"D:\\Users\\flash\\miniconda3\\envs\\tf2_jupyter\\lib\\site-packages\\tensorflow\\python\\framework\\ops.py\", line 1601, in convert_to_tensor\n    raise ValueError(\n\nValueError: Tensor conversion requested dtype int16 for Tensor with dtype string: <tf.Tensor: shape=(), dtype=string, numpy=b'581'>\n\n\n\t [[{{node EagerPyFunc}}]]\n\t [[IteratorGetNext]]\n\t [[mean_squared_error/Rank_1/_6]]\n  (1) INVALID_ARGUMENT:  ValueError: Tensor conversion requested dtype int16 for Tensor with dtype string: <tf.Tensor: shape=(), dtype=string, numpy=b'581'>\nTraceback (most recent call last):\n\n  File \"D:\\Users\\flash\\miniconda3\\envs\\tf2_jupyter\\lib\\site-packages\\tensorflow\\python\\ops\\script_ops.py\", line 268, in __call__\n    return func(device, token, args)\n\n  File \"D:\\Users\\flash\\miniconda3\\envs\\tf2_jupyter\\lib\\site-packages\\tensorflow\\python\\ops\\script_ops.py\", line 146, in __call__\n    outputs = self._call(device, args)\n\n  File \"D:\\Users\\flash\\miniconda3\\envs\\tf2_jupyter\\lib\\site-packages\\tensorflow\\python\\ops\\script_ops.py\", line 171, in _call\n    self._convert(ret, dtype=self._out_dtypes[0]), device_name)\n\n  File \"D:\\Users\\flash\\miniconda3\\envs\\tf2_jupyter\\lib\\site-packages\\tensorflow\\python\\ops\\script_ops.py\", line 130, in _convert\n    return ops.convert_to_tensor(value, dtype=dtype)\n\n  File \"D:\\Users\\flash\\miniconda3\\envs\\tf2_jupyter\\lib\\site-packages\\tensorflow\\python\\profiler\\trace.py\", line 183, in wrapped\n    return func(*args, **kwargs)\n\n  File \"D:\\Users\\flash\\miniconda3\\envs\\tf2_jupyter\\lib\\site-packages\\tensorflow\\python\\framework\\ops.py\", line 1601, in convert_to_tensor\n    raise ValueError(\n\nValueError: Tensor conversion requested dtype int16 for Tensor with dtype string: <tf.Tensor: shape=(), dtype=string, numpy=b'581'>\n\n\n\t [[{{node EagerPyFunc}}]]\n\t [[IteratorGetNext]]\n0 successful operations.\n0 derived errors ignored. [Op:__inference_train_function_1874348]"
     ]
    }
   ],
   "source": [
    "\n",
    "# 載入最近的檢查點的權重\n",
    "#model.load_weights(checkpoint_filepath)\n",
    "#model.fit(x, y, epochs=10)\n",
    "model.fit(dataset, epochs=10, callbacks=my_callbacks)"
   ]
  },
  {
   "cell_type": "code",
   "execution_count": null,
   "id": "4728314d",
   "metadata": {},
   "outputs": [],
   "source": []
  }
 ],
 "metadata": {
  "kernelspec": {
   "display_name": "Python 3 (ipykernel)",
   "language": "python",
   "name": "python3"
  },
  "language_info": {
   "codemirror_mode": {
    "name": "ipython",
    "version": 3
   },
   "file_extension": ".py",
   "mimetype": "text/x-python",
   "name": "python",
   "nbconvert_exporter": "python",
   "pygments_lexer": "ipython3",
   "version": "3.9.13"
  }
 },
 "nbformat": 4,
 "nbformat_minor": 5
}
